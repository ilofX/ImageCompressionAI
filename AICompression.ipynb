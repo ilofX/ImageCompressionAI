{
 "cells": [
  {
   "cell_type": "markdown",
   "source": [
    "# Jupyter notebook for AI image compression\n",
    "## Importing packages and setting parameters"
   ],
   "metadata": {
    "collapsed": false
   },
   "id": "6db828e32a7b065"
  },
  {
   "cell_type": "code",
   "execution_count": 39,
   "outputs": [],
   "source": [
    "import math\n",
    "import torch\n",
    "from torchvision import transforms\n",
    "import glob\n",
    "from PIL import Image\n",
    "import ntpath\n",
    "import os\n",
    "from pathlib import Path\n",
    "import timeit\n",
    "from datetime import datetime\n",
    "from numpy import mean"
   ],
   "metadata": {
    "collapsed": false,
    "ExecuteTime": {
     "end_time": "2023-10-23T11:12:06.926190172Z",
     "start_time": "2023-10-23T11:12:06.921739172Z"
    }
   },
   "id": "d82e16df81090761"
  },
  {
   "cell_type": "code",
   "execution_count": 33,
   "outputs": [
    {
     "name": "stdout",
     "output_type": "stream",
     "text": [
      "Current path:  /home/filippo/DataspellProjects/ImageCompressionAI\n",
      "Source:  /home/filippo/DataspellProjects/ImageCompressionAI/IMAGES/PNG_IMAGES\n"
     ]
    }
   ],
   "source": [
    "from compressai.zoo import (mbt2018_mean, mbt2018, cheng2020_anchor, cheng2020_attn)\n",
    "device = 'cuda' if torch.cuda.is_available() else 'cpu'\n",
    "metric = 'mse'  # only pre-trained model for mse are available for now\n",
    "\n",
    "current_path = Path('.').resolve()\n",
    "print(\"Current path: \",str(current_path))\n",
    "source_path = str(current_path)+'/IMAGES/PNG_IMAGES'\n",
    "source_path.replace(os.sep,ntpath.sep)\n",
    "print(\"Source: \",source_path)"
   ],
   "metadata": {
    "collapsed": false,
    "ExecuteTime": {
     "end_time": "2023-10-23T11:02:58.382614799Z",
     "start_time": "2023-10-23T11:02:58.341868780Z"
    }
   },
   "id": "b3a7b3026709a3e6"
  },
  {
   "cell_type": "markdown",
   "source": [
    "## Loading some pretrained models"
   ],
   "metadata": {
    "collapsed": false
   },
   "id": "16b8b37013024e8a"
  },
  {
   "cell_type": "code",
   "execution_count": 34,
   "outputs": [],
   "source": [
    "networks = {\n",
    "    'mbt2018_mean_1' : mbt2018_mean(quality=1, pretrained=True).eval().to(device),\n",
    "    'mbt2018_mean_3' : mbt2018_mean(quality=4, pretrained=True).eval().to(device),\n",
    "    'mbt2018_mean_4' : mbt2018_mean(quality=5, pretrained=True).eval().to(device),\n",
    "    'mbt2018_mean_5' : mbt2018_mean(quality=6, pretrained=True).eval().to(device),\n",
    "    'mbt2018_1': mbt2018(quality=1, pretrained=True).eval().to(device),\n",
    "    'mbt2018_2': mbt2018(quality=2, pretrained=True).eval().to(device),\n",
    "    'mbt2018_3': mbt2018(quality=4, pretrained=True).eval().to(device),\n",
    "    'mbt2018_4': mbt2018(quality=5, pretrained=True).eval().to(device),\n",
    "    'mbt2018_5': mbt2018(quality=6, pretrained=True).eval().to(device),\n",
    "    'cheng2020-anchor_1': cheng2020_anchor(quality=1, pretrained=True).eval().to(device),\n",
    "    'cheng2020-anchor_2': cheng2020_anchor(quality=2, pretrained=True).eval().to(device),\n",
    "    'cheng2020-anchor_3': cheng2020_anchor(quality=4, pretrained=True).eval().to(device),\n",
    "    'cheng2020-anchor_4': cheng2020_anchor(quality=5, pretrained=True).eval().to(device),\n",
    "    'cheng2020-anchor_5': cheng2020_anchor(quality=6, pretrained=True).eval().to(device),\n",
    "    'cheng2020_attn_1' : cheng2020_attn(quality=1, pretrained=True).eval().to(device),\n",
    "    'cheng2020_attn_2' : cheng2020_attn(quality=2, pretrained=True).eval().to(device),\n",
    "    'cheng2020_attn_3' : cheng2020_attn(quality=4, pretrained=True).eval().to(device),\n",
    "    'cheng2020_attn_4' : cheng2020_attn(quality=5, pretrained=True).eval().to(device),\n",
    "    'cheng2020_attn_5' : cheng2020_attn(quality=6, pretrained=True).eval().to(device)\n",
    "}"
   ],
   "metadata": {
    "collapsed": false,
    "ExecuteTime": {
     "end_time": "2023-10-23T11:03:05.654747043Z",
     "start_time": "2023-10-23T11:03:01.821322120Z"
    }
   },
   "id": "4e167fda91223060"
  },
  {
   "cell_type": "markdown",
   "source": [
    "## Compression with each network"
   ],
   "metadata": {
    "collapsed": false
   },
   "id": "5e62e8017e2d6a05"
  },
  {
   "cell_type": "code",
   "execution_count": 36,
   "outputs": [
    {
     "name": "stdout",
     "output_type": "stream",
     "text": [
      "Destination:  /home/filippo/DataspellProjects/ImageCompressionAI/IMAGES/NET\n",
      "Destination directory has been emptied\n"
     ]
    }
   ],
   "source": [
    "destination_path = str(current_path)+'/IMAGES/NET'\n",
    "destination_path.replace(os.sep,ntpath.sep)\n",
    "print(\"Destination: \",destination_path)\n",
    "if os.path.isdir(destination_path) & os.path.exists(destination_path):\n",
    "    try:\n",
    "        files = os.listdir(destination_path)\n",
    "        for file in files:\n",
    "            file_path = os.path.join(destination_path, file)\n",
    "            if os.path.isfile(file_path):\n",
    "                os.remove(file_path)\n",
    "        print(\"Destination directory has been emptied\")\n",
    "    except OSError:\n",
    "        print(\"Error occurred while deleting files in the destination directory\")\n",
    "else:\n",
    "    os.mkdir(destination_path)"
   ],
   "metadata": {
    "collapsed": false,
    "ExecuteTime": {
     "end_time": "2023-10-23T11:03:12.406559057Z",
     "start_time": "2023-10-23T11:03:12.403693711Z"
    }
   },
   "id": "578314730aad4782"
  },
  {
   "cell_type": "code",
   "execution_count": 40,
   "outputs": [
    {
     "name": "stdout",
     "output_type": "stream",
     "text": [
      "Destination:  /home/filippo/DataspellProjects/ImageCompressionAI/IMAGES/NET/mbt2018_mean_1\n",
      "Destination directory has been emptied\n",
      "Image:IMG0001.png\tbpp:0.08713531102928102\tSize:379988.8125\tWidth:2048\tHeight:3072\tPixels:6291456\tCompressionTime:4.900609880999582\n",
      "Image:IMG0002.png\tbpp:0.06969518817428054\tSize:303934.09375\tWidth:2048\tHeight:3072\tPixels:6291456\tCompressionTime:4.841425550000167\n",
      "Image:IMG0003.png\tbpp:0.03126827682549592\tSize:136357.984375\tWidth:2048\tHeight:3072\tPixels:6291456\tCompressionTime:5.020367909000015\n",
      "Image:IMG0004.png\tbpp:0.052253241586586535\tSize:227871.421875\tWidth:3072\tHeight:2048\tPixels:6291456\tCompressionTime:4.881129489999694\n",
      "Image:IMG0005.png\tbpp:0.08384787698992599\tSize:365652.625\tWidth:2048\tHeight:3072\tPixels:6291456\tCompressionTime:4.969841408999855\n",
      "Image:IMG0006.png\tbpp:0.06430644860885237\tSize:280434.3125\tWidth:2048\tHeight:3072\tPixels:6291456\tCompressionTime:4.8388661620001585\n",
      "Image:IMG0007.png\tbpp:0.041580987174283095\tSize:181330.734375\tWidth:2048\tHeight:3072\tPixels:6291456\tCompressionTime:4.833381195000584\n",
      "Image:IMG0008.png\tbpp:0.10315366764148622\tSize:449843.34375\tWidth:2048\tHeight:3072\tPixels:6291456\tCompressionTime:4.8514493379998385\n",
      "Image:IMG0009.png\tbpp:0.028925238934719412\tSize:126140.21875\tWidth:3072\tHeight:2048\tPixels:6291456\tCompressionTime:4.834647179000058\n",
      "Image:IMG0010.png\tbpp:0.03134307852970557\tSize:136684.1875\tWidth:3072\tHeight:2048\tPixels:6291456\tCompressionTime:4.880792971000119\n",
      "Image:IMG0011.png\tbpp:0.06121142016015012\tSize:266937.1875\tWidth:2048\tHeight:3072\tPixels:6291456\tCompressionTime:5.0863100410006155\n",
      "Image:IMG0012.png\tbpp:0.027090452772905216\tSize:118138.890625\tWidth:2048\tHeight:3072\tPixels:6291456\tCompressionTime:4.912250502000461\n",
      "Image:IMG0013.png\tbpp:0.12009830847935095\tSize:523737.3125\tWidth:2048\tHeight:3072\tPixels:6291456\tCompressionTime:4.89920948300005\n",
      "Image:IMG0014.png\tbpp:0.06834516019472642\tSize:298046.75\tWidth:2048\tHeight:3072\tPixels:6291456\tCompressionTime:4.926859821000107\n",
      "Image:IMG0015.png\tbpp:0.04113798136349186\tSize:179398.828125\tWidth:2048\tHeight:3072\tPixels:6291456\tCompressionTime:4.952053533999788\n",
      "Image:IMG0016.png\tbpp:0.04473041230226449\tSize:195065.078125\tWidth:2048\tHeight:3072\tPixels:6291456\tCompressionTime:4.934438053999656\n",
      "Image:IMG0017.png\tbpp:0.03706274496214081\tSize:161627.109375\tWidth:3072\tHeight:2048\tPixels:6291456\tCompressionTime:4.95297560400013\n",
      "Image:IMG0018.png\tbpp:0.07441256479829059\tSize:324506.125\tWidth:3072\tHeight:2048\tPixels:6291456\tCompressionTime:4.9447712500004855\n",
      "Image:IMG0019.png\tbpp:0.04552157907486802\tSize:198515.28125\tWidth:3072\tHeight:2048\tPixels:6291456\tCompressionTime:4.969389126999886\n",
      "Image:IMG0020.png\tbpp:0.03448476443839814\tSize:150384.78125\tWidth:2048\tHeight:3072\tPixels:6291456\tCompressionTime:4.982596990000275\n",
      "Image:IMG0021.png\tbpp:0.055802881092041366\tSize:243351.0625\tWidth:2048\tHeight:3072\tPixels:6291456\tCompressionTime:5.009965989999728\n",
      "Image:IMG0022.png\tbpp:0.05304851802795131\tSize:231339.546875\tWidth:2048\tHeight:3072\tPixels:6291456\tCompressionTime:4.997393374999774\n",
      "Image:IMG0023.png\tbpp:0.0301707229603803\tSize:131571.65625\tWidth:2048\tHeight:3072\tPixels:6291456\tCompressionTime:5.009633059000407\n",
      "Image:IMG0024.png\tbpp:0.06614062924841665\tSize:288433.0\tWidth:2048\tHeight:3072\tPixels:6291456\tCompressionTime:4.998007741000038\n",
      "\n",
      "Average bpp in 24 images is 0.05636531064041637 in 4.934515235625061 seconds\n",
      "Destination:  /home/filippo/DataspellProjects/ImageCompressionAI/IMAGES/NET/mbt2018_mean_3\n",
      "Destination directory has been emptied\n",
      "Image:IMG0001.png\tbpp:0.251718250687954\tSize:1097719.375\tWidth:2048\tHeight:3072\tPixels:6291456\tCompressionTime:5.02002592900044\n",
      "Image:IMG0002.png\tbpp:0.1995000469835089\tSize:870000.75\tWidth:2048\tHeight:3072\tPixels:6291456\tCompressionTime:4.972194461999607\n",
      "Image:IMG0003.png\tbpp:0.08344924270305737\tSize:363914.21875\tWidth:2048\tHeight:3072\tPixels:6291456\tCompressionTime:4.987633353999627\n",
      "Image:IMG0004.png\tbpp:0.14903288463882344\tSize:649918.25\tWidth:3072\tHeight:2048\tPixels:6291456\tCompressionTime:4.985350122999989\n",
      "Image:IMG0005.png\tbpp:0.20209962207885054\tSize:881337.25\tWidth:2048\tHeight:3072\tPixels:6291456\tCompressionTime:4.995164324000143\n",
      "Image:IMG0006.png\tbpp:0.18210632361452245\tSize:794148.375\tWidth:2048\tHeight:3072\tPixels:6291456\tCompressionTime:4.988443915999596\n",
      "Image:IMG0007.png\tbpp:0.09716280964944357\tSize:423717.78125\tWidth:2048\tHeight:3072\tPixels:6291456\tCompressionTime:4.98976741199931\n",
      "Image:IMG0008.png\tbpp:0.30890617972683143\tSize:1347110.5\tWidth:2048\tHeight:3072\tPixels:6291456\tCompressionTime:5.004261709000275\n",
      "Image:IMG0009.png\tbpp:0.08802073504347303\tSize:383850.0625\tWidth:3072\tHeight:2048\tPixels:6291456\tCompressionTime:5.015768305000165\n",
      "Image:IMG0010.png\tbpp:0.09190942043024443\tSize:400808.25\tWidth:3072\tHeight:2048\tPixels:6291456\tCompressionTime:5.014003888000843\n",
      "Image:IMG0011.png\tbpp:0.18231126960680064\tSize:795042.125\tWidth:2048\tHeight:3072\tPixels:6291456\tCompressionTime:5.0299559340001\n",
      "Image:IMG0012.png\tbpp:0.0812715410502822\tSize:354417.46875\tWidth:2048\tHeight:3072\tPixels:6291456\tCompressionTime:5.0425091500001145\n",
      "Image:IMG0013.png\tbpp:0.39891192419467547\tSize:1739617.0\tWidth:2048\tHeight:3072\tPixels:6291456\tCompressionTime:5.030265392999354\n",
      "Image:IMG0014.png\tbpp:0.19700902160463682\tSize:859137.625\tWidth:2048\tHeight:3072\tPixels:6291456\tCompressionTime:5.039002886000162\n",
      "Image:IMG0015.png\tbpp:0.12589602995447466\tSize:549020.625\tWidth:2048\tHeight:3072\tPixels:6291456\tCompressionTime:5.344246446999932\n",
      "Image:IMG0016.png\tbpp:0.1436077205811313\tSize:626259.625\tWidth:2048\tHeight:3072\tPixels:6291456\tCompressionTime:6.396355352000683\n",
      "Image:IMG0017.png\tbpp:0.12557955321311196\tSize:547640.5\tWidth:3072\tHeight:2048\tPixels:6291456\tCompressionTime:5.70458914899973\n",
      "Image:IMG0018.png\tbpp:0.2963258207988679\tSize:1292248.75\tWidth:3072\tHeight:2048\tPixels:6291456\tCompressionTime:5.266106981000121\n",
      "Image:IMG0019.png\tbpp:0.15408152134622663\tSize:671934.875\tWidth:3072\tHeight:2048\tPixels:6291456\tCompressionTime:5.2442867479994675\n",
      "Image:IMG0020.png\tbpp:0.10960163402169086\tSize:477962.3125\tWidth:2048\tHeight:3072\tPixels:6291456\tCompressionTime:5.670059287000186\n",
      "Image:IMG0021.png\tbpp:0.17577875225586556\tSize:766554.4375\tWidth:2048\tHeight:3072\tPixels:6291456\tCompressionTime:5.947593448000589\n",
      "Image:IMG0022.png\tbpp:0.17595651065741985\tSize:767329.625\tWidth:2048\tHeight:3072\tPixels:6291456\tCompressionTime:6.017452743999456\n",
      "Image:IMG0023.png\tbpp:0.07823203433403349\tSize:341162.46875\tWidth:2048\tHeight:3072\tPixels:6291456\tCompressionTime:5.25751289100026\n",
      "Image:IMG0024.png\tbpp:0.17846215456161524\tSize:778256.5\tWidth:2048\tHeight:3072\tPixels:6291456\tCompressionTime:5.603180320999854\n",
      "\n",
      "Average bpp in 24 images is 0.1698721251557309 in 5.273572089708334 seconds\n"
     ]
    }
   ],
   "source": [
    "for name, net in networks.items():\n",
    "    destination_path_net = str(current_path)+'/IMAGES/NET/'+str(name)\n",
    "    destination_path_net.replace(os.sep,ntpath.sep)\n",
    "    print(\"Destination: \",destination_path_net)\n",
    "    if os.path.isdir(destination_path_net) & os.path.exists(destination_path_net):\n",
    "        try:\n",
    "            files = os.listdir(destination_path_net)\n",
    "            for file in files:\n",
    "                file_path = os.path.join(destination_path_net, file)\n",
    "                if os.path.isfile(file_path):\n",
    "                    os.remove(file_path)\n",
    "            print(\"Destination directory has been emptied\")\n",
    "        except OSError:\n",
    "            print(\"Error occurred while deleting files in the destination directory\")\n",
    "    else:\n",
    "        os.mkdir(destination_path_net)\n",
    "    compression_times = []\n",
    "    bpp_per_image = []\n",
    "    log = open(str(destination_path_net)+'/log.txt', 'w')\n",
    "    log.writelines([str(datetime.now()),'\\n'])\n",
    "    count = 0\n",
    "    \n",
    "    for file in glob.glob(str(source_path)+'/*.png'):\n",
    "        img = Image.img = Image.open(file).convert('RGB')\n",
    "        x = transforms.ToTensor()(img).unsqueeze(0).to(device)\n",
    "        outputs = {}\n",
    "        with torch.no_grad():\n",
    "                starttime = timeit.default_timer()\n",
    "                rv = net(x)\n",
    "                endtime = timeit.default_timer()\n",
    "                rv['x_hat'].clamp_(0, 1)\n",
    "                outputs[Path(file).stem] = rv\n",
    "        execution_time = endtime-starttime\n",
    "        compression_times.append(execution_time)\n",
    "        num_pixels = rv['x_hat'].size()[0] * rv['x_hat'].size()[2] * rv['x_hat'].size()[3]\n",
    "        file_size = sum(torch.log(likelihoods).sum() for likelihoods in rv['likelihoods'].values()).item()\n",
    "        bits_per_pixel = file_size / (-math.log(2) * num_pixels)\n",
    "        bpp_per_image.append(bits_per_pixel)\n",
    "        log_string = 'Image:' + str(Path(file).stem) + '.png\\tbpp:' + str(bits_per_pixel) + '\\tSize:' + str(-file_size) + '\\tWidth:' + str(rv['x_hat'].size()[2]) + '\\tHeight:' + str(rv['x_hat'].size()[3]) + '\\tPixels:' + str(num_pixels) + '\\tCompressionTime:' + str(compression_times[count])\n",
    "        log.writelines([log_string,'\\n'])\n",
    "        print(log_string)\n",
    "        transforms.ToPILImage()(rv['x_hat'].squeeze()).save(str(destination_path_net+'/'+str(Path(file).stem)+'.png'),'png')\n",
    "        img.close()\n",
    "        count +=1\n",
    "\n",
    "    log.writelines(['\\n',str('Average bpp in ' + str(count) + ' images is ' + str(mean(bpp_per_image)) + ' in ' + str(mean(compression_times)) + ' seconds')])\n",
    "    print('\\nAverage bpp in ' + str(count) + ' images is ' + str(mean(bpp_per_image)) + ' in ' + str(mean(compression_times)) + ' seconds' + '\\n')\n",
    "    log.close()"
   ],
   "metadata": {
    "collapsed": false,
    "ExecuteTime": {
     "end_time": "2023-10-23T11:18:41.795827212Z",
     "start_time": "2023-10-23T11:13:17.499108486Z"
    }
   },
   "id": "fc547fdfaf1d4ab5"
  }
 ],
 "metadata": {
  "kernelspec": {
   "display_name": "Python 3",
   "language": "python",
   "name": "python3"
  },
  "language_info": {
   "codemirror_mode": {
    "name": "ipython",
    "version": 2
   },
   "file_extension": ".py",
   "mimetype": "text/x-python",
   "name": "python",
   "nbconvert_exporter": "python",
   "pygments_lexer": "ipython2",
   "version": "2.7.6"
  }
 },
 "nbformat": 4,
 "nbformat_minor": 5
}
