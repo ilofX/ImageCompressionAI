{
 "cells": [
  {
   "cell_type": "markdown",
   "source": [
    "# Jupyter notebook for AI image compression\n",
    "## Importing packages and setting parameters"
   ],
   "metadata": {
    "collapsed": false
   },
   "id": "6db828e32a7b065"
  },
  {
   "cell_type": "code",
   "execution_count": 5,
   "outputs": [],
   "source": [
    "import math\n",
    "import torch\n",
    "from torchvision import transforms\n",
    "import numpy as np\n",
    "from PIL import Image\n",
    "\n",
    "import matplotlib.pyplot as plt\n",
    "import compressai"
   ],
   "metadata": {
    "collapsed": false,
    "ExecuteTime": {
     "end_time": "2023-10-21T16:07:07.833428115Z",
     "start_time": "2023-10-21T16:07:07.828146043Z"
    }
   },
   "id": "d82e16df81090761"
  },
  {
   "cell_type": "code",
   "execution_count": 6,
   "outputs": [],
   "source": [
    "from compressai.zoo import (mbt2018_mean, mbt2018, cheng2020_anchor, cheng2020_attn)\n",
    "device = 'cuda' if torch.cuda.is_available() else 'cpu'\n",
    "metric = 'mse'  # only pre-trained model for mse are available for now"
   ],
   "metadata": {
    "collapsed": false,
    "ExecuteTime": {
     "end_time": "2023-10-21T16:07:08.976146169Z",
     "start_time": "2023-10-21T16:07:08.972773018Z"
    }
   },
   "id": "b3a7b3026709a3e6"
  },
  {
   "cell_type": "markdown",
   "source": [
    "# Loading Pre-Trained netowrks"
   ],
   "metadata": {
    "collapsed": false
   },
   "id": "5e62e8017e2d6a05"
  },
  {
   "cell_type": "code",
   "execution_count": 7,
   "outputs": [
    {
     "name": "stderr",
     "output_type": "stream",
     "text": [
      "Downloading: \"https://compressai.s3.amazonaws.com/models/v1/mbt2018-mean-1-e522738d.pth.tar\" to /home/filippo/.cache/torch/hub/checkpoints/mbt2018-mean-1-e522738d.pth.tar\n",
      "100%|██████████| 27.6M/27.6M [00:12<00:00, 2.40MB/s]\n",
      "Downloading: \"https://compressai.s3.amazonaws.com/models/v1/mbt2018-mean-2-e54a039d.pth.tar\" to /home/filippo/.cache/torch/hub/checkpoints/mbt2018-mean-2-e54a039d.pth.tar\n",
      "100%|██████████| 27.6M/27.6M [00:36<00:00, 786kB/s] \n",
      "Downloading: \"https://compressai.s3.amazonaws.com/models/v1/mbt2018-mean-4-6dba02a3.pth.tar\" to /home/filippo/.cache/torch/hub/checkpoints/mbt2018-mean-4-6dba02a3.pth.tar\n",
      "100%|██████████| 27.6M/27.6M [00:16<00:00, 1.79MB/s]\n",
      "Downloading: \"https://compressai.s3.amazonaws.com/models/v1/mbt2018-mean-5-d504e8eb.pth.tar\" to /home/filippo/.cache/torch/hub/checkpoints/mbt2018-mean-5-d504e8eb.pth.tar\n",
      "100%|██████████| 67.8M/67.8M [00:32<00:00, 2.20MB/s]\n",
      "Downloading: \"https://compressai.s3.amazonaws.com/models/v1/mbt2018-mean-6-a19628ab.pth.tar\" to /home/filippo/.cache/torch/hub/checkpoints/mbt2018-mean-6-a19628ab.pth.tar\n",
      "100%|██████████| 67.9M/67.9M [00:23<00:00, 2.97MB/s]\n",
      "Downloading: \"https://compressai.s3.amazonaws.com/models/v1/mbt2018-1-3f36cd77.pth.tar\" to /home/filippo/.cache/torch/hub/checkpoints/mbt2018-1-3f36cd77.pth.tar\n",
      "100%|██████████| 61.8M/61.8M [00:17<00:00, 3.63MB/s]\n",
      "Downloading: \"https://compressai.s3.amazonaws.com/models/v1/mbt2018-2-43b70cdd.pth.tar\" to /home/filippo/.cache/torch/hub/checkpoints/mbt2018-2-43b70cdd.pth.tar\n",
      "100%|██████████| 61.8M/61.8M [00:21<00:00, 3.05MB/s]\n",
      "Downloading: \"https://compressai.s3.amazonaws.com/models/v1/mbt2018-4-456e2af9.pth.tar\" to /home/filippo/.cache/torch/hub/checkpoints/mbt2018-4-456e2af9.pth.tar\n",
      "100%|██████████| 61.8M/61.8M [00:20<00:00, 3.20MB/s]\n",
      "Downloading: \"https://compressai.s3.amazonaws.com/models/v1/mbt2018-5-b4a046dd.pth.tar\" to /home/filippo/.cache/torch/hub/checkpoints/mbt2018-5-b4a046dd.pth.tar\n",
      "100%|██████████| 118M/118M [00:35<00:00, 3.44MB/s] \n",
      "Downloading: \"https://compressai.s3.amazonaws.com/models/v1/mbt2018-6-7052e5ea.pth.tar\" to /home/filippo/.cache/torch/hub/checkpoints/mbt2018-6-7052e5ea.pth.tar\n",
      "100%|██████████| 118M/118M [00:31<00:00, 3.86MB/s] \n",
      "Downloading: \"https://compressai.s3.amazonaws.com/models/v1/cheng2020-anchor-1-dad2ebff.pth.tar\" to /home/filippo/.cache/torch/hub/checkpoints/cheng2020-anchor-1-dad2ebff.pth.tar\n",
      "100%|██████████| 49.1M/49.1M [00:15<00:00, 3.23MB/s]\n",
      "Downloading: \"https://compressai.s3.amazonaws.com/models/v1/cheng2020-anchor-2-a29008eb.pth.tar\" to /home/filippo/.cache/torch/hub/checkpoints/cheng2020-anchor-2-a29008eb.pth.tar\n",
      "100%|██████████| 49.1M/49.1M [01:02<00:00, 825kB/s] \n",
      "Downloading: \"https://compressai.s3.amazonaws.com/models/v1/cheng2020-anchor-4-98b0b468.pth.tar\" to /home/filippo/.cache/torch/hub/checkpoints/cheng2020-anchor-4-98b0b468.pth.tar\n",
      "100%|██████████| 109M/109M [00:36<00:00, 3.12MB/s] \n",
      "Downloading: \"https://compressai.s3.amazonaws.com/models/v1/cheng2020-anchor-5-23852949.pth.tar\" to /home/filippo/.cache/torch/hub/checkpoints/cheng2020-anchor-5-23852949.pth.tar\n",
      "100%|██████████| 109M/109M [00:33<00:00, 3.45MB/s] \n",
      "Downloading: \"https://compressai.s3.amazonaws.com/models/v1/cheng2020-anchor-6-4c052b1a.pth.tar\" to /home/filippo/.cache/torch/hub/checkpoints/cheng2020-anchor-6-4c052b1a.pth.tar\n",
      "100%|██████████| 109M/109M [00:31<00:00, 3.63MB/s] \n",
      "Downloading: \"https://compressai.s3.amazonaws.com/models/v1/cheng2020_attn-mse-1-465f2b64.pth.tar\" to /home/filippo/.cache/torch/hub/checkpoints/cheng2020_attn-mse-1-465f2b64.pth.tar\n",
      "100%|██████████| 54.3M/54.3M [01:34<00:00, 602kB/s] \n",
      "Downloading: \"https://compressai.s3.amazonaws.com/models/v1/cheng2020_attn-mse-2-e0805385.pth.tar\" to /home/filippo/.cache/torch/hub/checkpoints/cheng2020_attn-mse-2-e0805385.pth.tar\n",
      "100%|██████████| 54.3M/54.3M [00:19<00:00, 2.92MB/s]\n",
      "Downloading: \"https://compressai.s3.amazonaws.com/models/v1/cheng2020_attn-mse-4-f7b0ccf2.pth.tar\" to /home/filippo/.cache/torch/hub/checkpoints/cheng2020_attn-mse-4-f7b0ccf2.pth.tar\n",
      "100%|██████████| 121M/121M [02:11<00:00, 963kB/s]  \n",
      "Downloading: \"https://compressai.s3.amazonaws.com/models/v1/cheng2020_attn-mse-5-26c8920e.pth.tar\" to /home/filippo/.cache/torch/hub/checkpoints/cheng2020_attn-mse-5-26c8920e.pth.tar\n",
      "100%|██████████| 121M/121M [00:32<00:00, 3.90MB/s] \n",
      "Downloading: \"https://compressai.s3.amazonaws.com/models/v1/cheng2020_attn-mse-6-730501f2.pth.tar\" to /home/filippo/.cache/torch/hub/checkpoints/cheng2020_attn-mse-6-730501f2.pth.tar\n",
      "100%|██████████| 121M/121M [01:53<00:00, 1.11MB/s] \n"
     ]
    }
   ],
   "source": [
    "networks = {\n",
    "    'mbt2018_mean_1' : mbt2018_mean(quality=1, pretrained=True).eval().to(device),\n",
    "    'mbt2018_mean_2' : mbt2018_mean(quality=2, pretrained=True).eval().to(device),\n",
    "    'mbt2018_mean_3' : mbt2018_mean(quality=4, pretrained=True).eval().to(device),\n",
    "    'mbt2018_mean_4' : mbt2018_mean(quality=5, pretrained=True).eval().to(device),\n",
    "    'mbt2018_mean_5' : mbt2018_mean(quality=6, pretrained=True).eval().to(device),\n",
    "    'mbt2018_1': mbt2018(quality=1, pretrained=True).eval().to(device),\n",
    "    'mbt2018_2': mbt2018(quality=2, pretrained=True).eval().to(device),\n",
    "    'mbt2018_3': mbt2018(quality=4, pretrained=True).eval().to(device),\n",
    "    'mbt2018_4': mbt2018(quality=5, pretrained=True).eval().to(device),\n",
    "    'mbt2018_5': mbt2018(quality=6, pretrained=True).eval().to(device),\n",
    "    'cheng2020-anchor_1': cheng2020_anchor(quality=1, pretrained=True).eval().to(device),\n",
    "    'cheng2020-anchor_2': cheng2020_anchor(quality=2, pretrained=True).eval().to(device),\n",
    "    'cheng2020-anchor_3': cheng2020_anchor(quality=4, pretrained=True).eval().to(device),\n",
    "    'cheng2020-anchor_4': cheng2020_anchor(quality=5, pretrained=True).eval().to(device),\n",
    "    'cheng2020-anchor_5': cheng2020_anchor(quality=6, pretrained=True).eval().to(device),\n",
    "    'cheng2020_attn_1' : cheng2020_attn(quality=1, pretrained=True).eval().to(device),\n",
    "    'cheng2020_attn_2' : cheng2020_attn(quality=2, pretrained=True).eval().to(device),\n",
    "    'cheng2020_attn_3' : cheng2020_attn(quality=4, pretrained=True).eval().to(device),\n",
    "    'cheng2020_attn_4' : cheng2020_attn(quality=5, pretrained=True).eval().to(device),\n",
    "    'cheng2020_attn_5' : cheng2020_attn(quality=6, pretrained=True).eval().to(device)\n",
    "}"
   ],
   "metadata": {
    "collapsed": false,
    "ExecuteTime": {
     "end_time": "2023-10-21T16:21:14.086546498Z",
     "start_time": "2023-10-21T16:07:12.810636637Z"
    }
   },
   "id": "6f040d74f5a35213"
  },
  {
   "cell_type": "markdown",
   "source": [
    "# Compressing images\n",
    "## Loading Images"
   ],
   "metadata": {
    "collapsed": false
   },
   "id": "93e6ba2744b167d6"
  },
  {
   "cell_type": "code",
   "execution_count": null,
   "outputs": [],
   "source": [],
   "metadata": {
    "collapsed": false
   },
   "id": "332f056b767e7a7"
  }
 ],
 "metadata": {
  "kernelspec": {
   "display_name": "Python 3",
   "language": "python",
   "name": "python3"
  },
  "language_info": {
   "codemirror_mode": {
    "name": "ipython",
    "version": 2
   },
   "file_extension": ".py",
   "mimetype": "text/x-python",
   "name": "python",
   "nbconvert_exporter": "python",
   "pygments_lexer": "ipython2",
   "version": "2.7.6"
  }
 },
 "nbformat": 4,
 "nbformat_minor": 5
}
