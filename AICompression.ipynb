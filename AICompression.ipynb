{
 "cells": [
  {
   "cell_type": "markdown",
   "source": [
    "# Jupyter notebook for AI image compression\n",
    "## Importing packages and setting parameters"
   ],
   "metadata": {
    "collapsed": false
   },
   "id": "6db828e32a7b065"
  },
  {
   "cell_type": "code",
   "execution_count": null,
   "outputs": [],
   "source": [
    "import math\n",
    "import torch\n",
    "from torchvision import transforms\n",
    "import glob\n",
    "from PIL import Image\n",
    "import ntpath\n",
    "import os\n",
    "from pathlib import Path\n",
    "import timeit\n",
    "from datetime import datetime\n",
    "from numpy import mean,var"
   ],
   "metadata": {
    "collapsed": false
   },
   "id": "d82e16df81090761"
  },
  {
   "cell_type": "code",
   "execution_count": null,
   "outputs": [],
   "source": [
    "from compressai.zoo import (mbt2018_mean, mbt2018, cheng2020_anchor, cheng2020_attn)\n",
    "device = 'cuda' if torch.cuda.is_available() else 'cpu'\n",
    "metric = 'mse'  # only pre-trained model for mse are available for now\n",
    "\n",
    "current_path = Path('.').resolve()\n",
    "print(\"Current path: \",str(current_path))\n",
    "source_path = str(current_path)+'/IMAGES/PNG_IMAGES'\n",
    "source_path.replace(os.sep,ntpath.sep)\n",
    "print(\"Source: \",source_path)"
   ],
   "metadata": {
    "collapsed": false
   },
   "id": "b3a7b3026709a3e6"
  },
  {
   "cell_type": "markdown",
   "source": [
    "## Loading some pretrained models"
   ],
   "metadata": {
    "collapsed": false
   },
   "id": "16b8b37013024e8a"
  },
  {
   "cell_type": "code",
   "execution_count": null,
   "outputs": [],
   "source": [
    "networks = {\n",
    "    'mbt2018_mean_1' : mbt2018_mean(quality=1, pretrained=True).eval().to(device),\n",
    "    'mbt2018_mean_2' : mbt2018_mean(quality=2, pretrained=True).eval().to(device),\n",
    "    'mbt2018_mean_3' : mbt2018_mean(quality=4, pretrained=True).eval().to(device),\n",
    "    'mbt2018_mean_4' : mbt2018_mean(quality=5, pretrained=True).eval().to(device),\n",
    "    'mbt2018_mean_5' : mbt2018_mean(quality=6, pretrained=True).eval().to(device),\n",
    "    'mbt2018_1': mbt2018(quality=1, pretrained=True).eval().to(device),\n",
    "    'mbt2018_2': mbt2018(quality=2, pretrained=True).eval().to(device),\n",
    "    'mbt2018_3': mbt2018(quality=4, pretrained=True).eval().to(device),\n",
    "    'mbt2018_4': mbt2018(quality=5, pretrained=True).eval().to(device),\n",
    "    'mbt2018_5': mbt2018(quality=6, pretrained=True).eval().to(device),\n",
    "    'cheng2020-anchor_1': cheng2020_anchor(quality=1, pretrained=True).eval().to(device),\n",
    "    'cheng2020-anchor_2': cheng2020_anchor(quality=2, pretrained=True).eval().to(device),\n",
    "    'cheng2020-anchor_3': cheng2020_anchor(quality=4, pretrained=True).eval().to(device),\n",
    "    'cheng2020-anchor_4': cheng2020_anchor(quality=5, pretrained=True).eval().to(device),\n",
    "    'cheng2020-anchor_5': cheng2020_anchor(quality=6, pretrained=True).eval().to(device),\n",
    "    'cheng2020_attn_1' : cheng2020_attn(quality=1, pretrained=True).eval().to(device),\n",
    "    'cheng2020_attn_2' : cheng2020_attn(quality=2, pretrained=True).eval().to(device),\n",
    "    'cheng2020_attn_3' : cheng2020_attn(quality=4, pretrained=True).eval().to(device),\n",
    "    'cheng2020_attn_4' : cheng2020_attn(quality=5, pretrained=True).eval().to(device),\n",
    "    'cheng2020_attn_5' : cheng2020_attn(quality=6, pretrained=True).eval().to(device)\n",
    "}"
   ],
   "metadata": {
    "collapsed": false
   },
   "id": "4e167fda91223060"
  },
  {
   "cell_type": "markdown",
   "source": [
    "## Compression with each network"
   ],
   "metadata": {
    "collapsed": false
   },
   "id": "5e62e8017e2d6a05"
  },
  {
   "cell_type": "code",
   "execution_count": null,
   "outputs": [],
   "source": [
    "destination_path = str(current_path)+'/IMAGES/NET'\n",
    "destination_path.replace(os.sep,ntpath.sep)\n",
    "print(\"Destination: \",destination_path)\n",
    "if os.path.isdir(destination_path) & os.path.exists(destination_path):\n",
    "    try:\n",
    "        files = os.listdir(destination_path)\n",
    "        for file in files:\n",
    "            file_path = os.path.join(destination_path, file)\n",
    "            if os.path.isfile(file_path):\n",
    "                os.remove(file_path)\n",
    "        print(\"Destination directory has been emptied\")\n",
    "    except OSError:\n",
    "        print(\"Error occurred while deleting files in the destination directory\")\n",
    "else:\n",
    "    os.mkdir(destination_path)"
   ],
   "metadata": {
    "collapsed": false
   },
   "id": "578314730aad4782"
  },
  {
   "cell_type": "code",
   "execution_count": null,
   "outputs": [],
   "source": [
    "for name, net in networks.items():\n",
    "    destination_path_net = str(current_path)+'/IMAGES/NET/'+str(name)\n",
    "    destination_path_net.replace(os.sep,ntpath.sep)\n",
    "    print(\"Destination: \",destination_path_net)\n",
    "    if os.path.isdir(destination_path_net) & os.path.exists(destination_path_net):\n",
    "        try:\n",
    "            files = os.listdir(destination_path_net)\n",
    "            for file in files:\n",
    "                file_path = os.path.join(destination_path_net, file)\n",
    "                if os.path.isfile(file_path):\n",
    "                    os.remove(file_path)\n",
    "            print(\"Destination directory has been emptied\")\n",
    "        except OSError:\n",
    "            print(\"Error occurred while deleting files in the destination directory\")\n",
    "    else:\n",
    "        os.mkdir(destination_path_net)\n",
    "    compression_times = []\n",
    "    bpp_list = []\n",
    "    log = open(str(destination_path_net)+'/log.txt', 'w')\n",
    "    log.writelines([str(datetime.now()),'\\n'])\n",
    "    count = 0\n",
    "    \n",
    "    for file in glob.glob(str(source_path)+'/*.png'):\n",
    "        img = Image.img = Image.open(file).convert('RGB')\n",
    "        x = transforms.ToTensor()(img).unsqueeze(0).to(device)\n",
    "        outputs = {}\n",
    "        with torch.no_grad():\n",
    "                starttime = timeit.default_timer()\n",
    "                rv = net(x)\n",
    "                endtime = timeit.default_timer()\n",
    "                rv['x_hat'].clamp_(0, 1)\n",
    "                outputs[Path(file).stem] = rv\n",
    "        execution_time = endtime-starttime\n",
    "        compression_times.append(execution_time)\n",
    "        num_pixels = rv['x_hat'].size()[0] * rv['x_hat'].size()[2] * rv['x_hat'].size()[3]\n",
    "        file_size = sum(torch.log(likelihoods).sum() for likelihoods in rv['likelihoods'].values()).item()\n",
    "        bits_per_pixel = file_size / (-math.log(2) * num_pixels)\n",
    "        bpp_list.append(bits_per_pixel)\n",
    "        log_string = 'Image:' + str(Path(file).stem) + '.png\\tbpp:' + str(bits_per_pixel) + '\\tSize:' + str(-file_size) + '\\tWidth:' + str(rv['x_hat'].size()[2]) + '\\tHeight:' + str(rv['x_hat'].size()[3]) + '\\tPixels:' + str(num_pixels) + '\\tCompressionTime:' + str(compression_times[count])\n",
    "        log.writelines([log_string,'\\n'])\n",
    "        print(log_string)\n",
    "        transforms.ToPILImage()(rv['x_hat'].squeeze()).save(str(destination_path_net+'/'+str(Path(file).stem)+'.png'),'png')\n",
    "        img.close()\n",
    "        count +=1\n",
    "\n",
    "    log.writelines(['\\n',str('Average bpp in ' + str(count) + ' images is ' + str(mean(bpp_list)) + ' ± ' + str(var(bpp_list)) + ' in ' + str(mean(compression_times)) + ' ± ' + str(var(compression_times)) + ' s')])\n",
    "    print('\\nAverage bpp in ' + str(count) + ' images is ' + str(mean(bpp_list)) + ' ± ' + str(var(bpp_list)) + ' in ' + str(mean(compression_times))  + ' ± ' + str(var(compression_times)) +  ' s' + '\\n')\n",
    "    log.close()"
   ],
   "metadata": {
    "collapsed": false
   },
   "id": "fc547fdfaf1d4ab5"
  }
 ],
 "metadata": {
  "kernelspec": {
   "display_name": "Python 3",
   "language": "python",
   "name": "python3"
  },
  "language_info": {
   "codemirror_mode": {
    "name": "ipython",
    "version": 2
   },
   "file_extension": ".py",
   "mimetype": "text/x-python",
   "name": "python",
   "nbconvert_exporter": "python",
   "pygments_lexer": "ipython2",
   "version": "2.7.6"
  }
 },
 "nbformat": 4,
 "nbformat_minor": 5
}
