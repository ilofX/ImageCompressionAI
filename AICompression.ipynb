{
 "cells": [
  {
   "cell_type": "markdown",
   "source": [
    "# Jupyter notebook for AI image compression\n",
    "## Importing packages and setting parameters"
   ],
   "metadata": {
    "collapsed": false
   },
   "id": "6db828e32a7b065"
  },
  {
   "cell_type": "code",
   "execution_count": 1,
   "outputs": [
    {
     "name": "stderr",
     "output_type": "stream",
     "text": [
      "/home/filippo/anaconda3/envs/imageCompressionAI/lib/python3.11/site-packages/torchvision/io/image.py:13: UserWarning: Failed to load image Python extension: 'libc10_cuda.so: cannot open shared object file: No such file or directory'If you don't plan on using image functionality from `torchvision.io`, you can ignore this warning. Otherwise, there might be something wrong with your environment. Did you have `libjpeg` or `libpng` installed before building `torchvision` from source?\n",
      "  warn(\n"
     ]
    }
   ],
   "source": [
    "import math\n",
    "import torch\n",
    "from torchvision import transforms\n",
    "import glob\n",
    "from PIL import Image\n",
    "import ntpath\n",
    "import os\n",
    "from pathlib import Path\n",
    "import timeit\n",
    "from datetime import datetime\n",
    "from numpy import mean"
   ],
   "metadata": {
    "collapsed": false,
    "ExecuteTime": {
     "end_time": "2023-10-24T15:33:02.805309712Z",
     "start_time": "2023-10-24T15:33:01.870572286Z"
    }
   },
   "id": "d82e16df81090761"
  },
  {
   "cell_type": "code",
   "execution_count": 2,
   "outputs": [
    {
     "name": "stdout",
     "output_type": "stream",
     "text": [
      "Current path:  /home/filippo/DataspellProjects/ImageCompressionAI\n",
      "Source:  /home/filippo/DataspellProjects/ImageCompressionAI/IMAGES/PNG_IMAGES\n"
     ]
    }
   ],
   "source": [
    "from compressai.zoo import (mbt2018_mean, mbt2018, cheng2020_anchor, cheng2020_attn)\n",
    "device = 'cuda' if torch.cuda.is_available() else 'cpu'\n",
    "metric = 'mse'  # only pre-trained model for mse are available for now\n",
    "\n",
    "current_path = Path('.').resolve()\n",
    "print(\"Current path: \",str(current_path))\n",
    "source_path = str(current_path)+'/IMAGES/PNG_IMAGES'\n",
    "source_path.replace(os.sep,ntpath.sep)\n",
    "print(\"Source: \",source_path)"
   ],
   "metadata": {
    "collapsed": false,
    "ExecuteTime": {
     "end_time": "2023-10-24T15:33:09.719797205Z",
     "start_time": "2023-10-24T15:33:09.496850210Z"
    }
   },
   "id": "b3a7b3026709a3e6"
  },
  {
   "cell_type": "markdown",
   "source": [
    "## Loading some pretrained models"
   ],
   "metadata": {
    "collapsed": false
   },
   "id": "16b8b37013024e8a"
  },
  {
   "cell_type": "code",
   "execution_count": 3,
   "outputs": [],
   "source": [
    "networks = {\n",
    "    'mbt2018_mean_1' : mbt2018_mean(quality=1, pretrained=True).eval().to(device),\n",
    "    'mbt2018_mean_2' : mbt2018_mean(quality=2, pretrained=True).eval().to(device),\n",
    "    'mbt2018_mean_3' : mbt2018_mean(quality=4, pretrained=True).eval().to(device),\n",
    "    'mbt2018_mean_4' : mbt2018_mean(quality=5, pretrained=True).eval().to(device),\n",
    "    'mbt2018_mean_5' : mbt2018_mean(quality=6, pretrained=True).eval().to(device),\n",
    "    'mbt2018_1': mbt2018(quality=1, pretrained=True).eval().to(device),\n",
    "    'mbt2018_2': mbt2018(quality=2, pretrained=True).eval().to(device),\n",
    "    'mbt2018_3': mbt2018(quality=4, pretrained=True).eval().to(device),\n",
    "    'mbt2018_4': mbt2018(quality=5, pretrained=True).eval().to(device),\n",
    "    'mbt2018_5': mbt2018(quality=6, pretrained=True).eval().to(device),\n",
    "    'cheng2020-anchor_1': cheng2020_anchor(quality=1, pretrained=True).eval().to(device),\n",
    "    'cheng2020-anchor_2': cheng2020_anchor(quality=2, pretrained=True).eval().to(device),\n",
    "    'cheng2020-anchor_3': cheng2020_anchor(quality=4, pretrained=True).eval().to(device),\n",
    "    'cheng2020-anchor_4': cheng2020_anchor(quality=5, pretrained=True).eval().to(device),\n",
    "    'cheng2020-anchor_5': cheng2020_anchor(quality=6, pretrained=True).eval().to(device),\n",
    "    'cheng2020_attn_1' : cheng2020_attn(quality=1, pretrained=True).eval().to(device),\n",
    "    'cheng2020_attn_2' : cheng2020_attn(quality=2, pretrained=True).eval().to(device),\n",
    "    'cheng2020_attn_3' : cheng2020_attn(quality=4, pretrained=True).eval().to(device),\n",
    "    'cheng2020_attn_4' : cheng2020_attn(quality=5, pretrained=True).eval().to(device),\n",
    "    'cheng2020_attn_5' : cheng2020_attn(quality=6, pretrained=True).eval().to(device)\n",
    "}"
   ],
   "metadata": {
    "collapsed": false,
    "ExecuteTime": {
     "end_time": "2023-10-24T15:33:21.788025318Z",
     "start_time": "2023-10-24T15:33:15.291121094Z"
    }
   },
   "id": "4e167fda91223060"
  },
  {
   "cell_type": "markdown",
   "source": [
    "## Compression with each network"
   ],
   "metadata": {
    "collapsed": false
   },
   "id": "5e62e8017e2d6a05"
  },
  {
   "cell_type": "code",
   "execution_count": 4,
   "outputs": [
    {
     "name": "stdout",
     "output_type": "stream",
     "text": [
      "Destination:  /home/filippo/DataspellProjects/ImageCompressionAI/IMAGES/NET\n",
      "Destination directory has been emptied\n"
     ]
    }
   ],
   "source": [
    "destination_path = str(current_path)+'/IMAGES/NET'\n",
    "destination_path.replace(os.sep,ntpath.sep)\n",
    "print(\"Destination: \",destination_path)\n",
    "if os.path.isdir(destination_path) & os.path.exists(destination_path):\n",
    "    try:\n",
    "        files = os.listdir(destination_path)\n",
    "        for file in files:\n",
    "            file_path = os.path.join(destination_path, file)\n",
    "            if os.path.isfile(file_path):\n",
    "                os.remove(file_path)\n",
    "        print(\"Destination directory has been emptied\")\n",
    "    except OSError:\n",
    "        print(\"Error occurred while deleting files in the destination directory\")\n",
    "else:\n",
    "    os.mkdir(destination_path)"
   ],
   "metadata": {
    "collapsed": false,
    "ExecuteTime": {
     "end_time": "2023-10-24T15:33:26.807875016Z",
     "start_time": "2023-10-24T15:33:26.805357851Z"
    }
   },
   "id": "578314730aad4782"
  },
  {
   "cell_type": "code",
   "execution_count": 5,
   "outputs": [
    {
     "name": "stdout",
     "output_type": "stream",
     "text": [
      "Destination:  /home/filippo/DataspellProjects/ImageCompressionAI/IMAGES/NET/mbt2018_mean_2\n",
      "Image:IMG0001.png\tbpp:0.12463370596091679\tSize:543515.75\tWidth:2048\tHeight:3072\tPixels:6291456\tCompressionTime:5.802940319001209\n",
      "Image:IMG0002.png\tbpp:0.09450417284541812\tSize:412123.71875\tWidth:2048\tHeight:3072\tPixels:6291456\tCompressionTime:5.1420244880009705\n",
      "Image:IMG0003.png\tbpp:0.043399402737518286\tSize:189260.671875\tWidth:2048\tHeight:3072\tPixels:6291456\tCompressionTime:5.11193355999967\n",
      "Image:IMG0004.png\tbpp:0.07194561699053932\tSize:313748.0\tWidth:3072\tHeight:2048\tPixels:6291456\tCompressionTime:5.103616565000266\n",
      "Image:IMG0005.png\tbpp:0.11179457047095495\tSize:487525.5\tWidth:2048\tHeight:3072\tPixels:6291456\tCompressionTime:5.125410687998738\n",
      "Image:IMG0006.png\tbpp:0.09308074410366451\tSize:405916.28125\tWidth:2048\tHeight:3072\tPixels:6291456\tCompressionTime:5.1626831619996665\n",
      "Image:IMG0007.png\tbpp:0.05327809695199369\tSize:232340.71875\tWidth:2048\tHeight:3072\tPixels:6291456\tCompressionTime:5.131300901000941\n",
      "Image:IMG0008.png\tbpp:0.1435176446677419\tSize:625866.8125\tWidth:2048\tHeight:3072\tPixels:6291456\tCompressionTime:5.179740703999414\n",
      "Image:IMG0009.png\tbpp:0.041628941670098674\tSize:181539.859375\tWidth:3072\tHeight:2048\tPixels:6291456\tCompressionTime:5.191849697001089\n",
      "Image:IMG0010.png\tbpp:0.04362654524067345\tSize:190251.21875\tWidth:3072\tHeight:2048\tPixels:6291456\tCompressionTime:5.176917480001066\n",
      "Image:IMG0011.png\tbpp:0.08821765517871095\tSize:384708.8125\tWidth:2048\tHeight:3072\tPixels:6291456\tCompressionTime:5.169920128999365\n",
      "Image:IMG0012.png\tbpp:0.03992390925241668\tSize:174104.375\tWidth:2048\tHeight:3072\tPixels:6291456\tCompressionTime:5.246081808998497\n",
      "Image:IMG0013.png\tbpp:0.1836355646822194\tSize:800817.25\tWidth:2048\tHeight:3072\tPixels:6291456\tCompressionTime:5.236986554000396\n",
      "Image:IMG0014.png\tbpp:0.09766091440200499\tSize:425889.96875\tWidth:2048\tHeight:3072\tPixels:6291456\tCompressionTime:5.233168646000195\n",
      "Image:IMG0015.png\tbpp:0.059613292874838825\tSize:259967.90625\tWidth:2048\tHeight:3072\tPixels:6291456\tCompressionTime:5.436012378999294\n",
      "Image:IMG0016.png\tbpp:0.0669285247676819\tSize:291868.9375\tWidth:2048\tHeight:3072\tPixels:6291456\tCompressionTime:5.277032799000153\n",
      "Image:IMG0017.png\tbpp:0.05458575987188527\tSize:238043.3125\tWidth:3072\tHeight:2048\tPixels:6291456\tCompressionTime:5.291129904000627\n",
      "Image:IMG0018.png\tbpp:0.11261710616248148\tSize:491112.5\tWidth:3072\tHeight:2048\tPixels:6291456\tCompressionTime:5.288221469001655\n",
      "Image:IMG0019.png\tbpp:0.06797493887496908\tSize:296432.25\tWidth:3072\tHeight:2048\tPixels:6291456\tCompressionTime:5.3177005920006195\n",
      "Image:IMG0020.png\tbpp:0.05206855730036313\tSize:227066.03125\tWidth:2048\tHeight:3072\tPixels:6291456\tCompressionTime:5.352310435999243\n",
      "Image:IMG0021.png\tbpp:0.08113631252509752\tSize:353827.75\tWidth:2048\tHeight:3072\tPixels:6291456\tCompressionTime:5.27743308800018\n",
      "Image:IMG0022.png\tbpp:0.07916665255231606\tSize:345238.25\tWidth:2048\tHeight:3072\tPixels:6291456\tCompressionTime:5.3131521830000565\n",
      "Image:IMG0023.png\tbpp:0.04024190159089012\tSize:175491.109375\tWidth:2048\tHeight:3072\tPixels:6291456\tCompressionTime:5.293957637000858\n",
      "Image:IMG0024.png\tbpp:0.09258219506258838\tSize:403742.15625\tWidth:2048\tHeight:3072\tPixels:6291456\tCompressionTime:5.367060428001423\n",
      "\n",
      "Average bpp in 24 images is 0.08074011361408265 in 5.259524400708567 seconds\n"
     ]
    }
   ],
   "source": [
    "for name, net in networks.items():\n",
    "    destination_path_net = str(current_path)+'/IMAGES/NET/'+str(name)\n",
    "    destination_path_net.replace(os.sep,ntpath.sep)\n",
    "    print(\"Destination: \",destination_path_net)\n",
    "    if os.path.isdir(destination_path_net) & os.path.exists(destination_path_net):\n",
    "        try:\n",
    "            files = os.listdir(destination_path_net)\n",
    "            for file in files:\n",
    "                file_path = os.path.join(destination_path_net, file)\n",
    "                if os.path.isfile(file_path):\n",
    "                    os.remove(file_path)\n",
    "            print(\"Destination directory has been emptied\")\n",
    "        except OSError:\n",
    "            print(\"Error occurred while deleting files in the destination directory\")\n",
    "    else:\n",
    "        os.mkdir(destination_path_net)\n",
    "    compression_times = []\n",
    "    bpp_per_image = []\n",
    "    log = open(str(destination_path_net)+'/log.txt', 'w')\n",
    "    log.writelines([str(datetime.now()),'\\n'])\n",
    "    count = 0\n",
    "    \n",
    "    for file in glob.glob(str(source_path)+'/*.png'):\n",
    "        img = Image.img = Image.open(file).convert('RGB')\n",
    "        x = transforms.ToTensor()(img).unsqueeze(0).to(device)\n",
    "        outputs = {}\n",
    "        with torch.no_grad():\n",
    "                starttime = timeit.default_timer()\n",
    "                rv = net(x)\n",
    "                endtime = timeit.default_timer()\n",
    "                rv['x_hat'].clamp_(0, 1)\n",
    "                outputs[Path(file).stem] = rv\n",
    "        execution_time = endtime-starttime\n",
    "        compression_times.append(execution_time)\n",
    "        num_pixels = rv['x_hat'].size()[0] * rv['x_hat'].size()[2] * rv['x_hat'].size()[3]\n",
    "        file_size = sum(torch.log(likelihoods).sum() for likelihoods in rv['likelihoods'].values()).item()\n",
    "        bits_per_pixel = file_size / (-math.log(2) * num_pixels)\n",
    "        bpp_per_image.append(bits_per_pixel)\n",
    "        log_string = 'Image:' + str(Path(file).stem) + '.png\\tbpp:' + str(bits_per_pixel) + '\\tSize:' + str(-file_size) + '\\tWidth:' + str(rv['x_hat'].size()[2]) + '\\tHeight:' + str(rv['x_hat'].size()[3]) + '\\tPixels:' + str(num_pixels) + '\\tCompressionTime:' + str(compression_times[count])\n",
    "        log.writelines([log_string,'\\n'])\n",
    "        print(log_string)\n",
    "        transforms.ToPILImage()(rv['x_hat'].squeeze()).save(str(destination_path_net+'/'+str(Path(file).stem)+'.png'),'png')\n",
    "        img.close()\n",
    "        count +=1\n",
    "\n",
    "    log.writelines(['\\n',str('Average bpp in ' + str(count) + ' images is ' + str(mean(bpp_per_image)) + ' in ' + str(mean(compression_times)) + ' seconds')])\n",
    "    print('\\nAverage bpp in ' + str(count) + ' images is ' + str(mean(bpp_per_image)) + ' in ' + str(mean(compression_times)) + ' seconds' + '\\n')\n",
    "    log.close()"
   ],
   "metadata": {
    "collapsed": false,
    "ExecuteTime": {
     "end_time": "2023-10-24T15:36:30.135766188Z",
     "start_time": "2023-10-24T15:33:39.309720271Z"
    }
   },
   "id": "fc547fdfaf1d4ab5"
  }
 ],
 "metadata": {
  "kernelspec": {
   "display_name": "Python 3",
   "language": "python",
   "name": "python3"
  },
  "language_info": {
   "codemirror_mode": {
    "name": "ipython",
    "version": 2
   },
   "file_extension": ".py",
   "mimetype": "text/x-python",
   "name": "python",
   "nbconvert_exporter": "python",
   "pygments_lexer": "ipython2",
   "version": "2.7.6"
  }
 },
 "nbformat": 4,
 "nbformat_minor": 5
}
