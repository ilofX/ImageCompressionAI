{
 "cells": [
  {
   "cell_type": "markdown",
   "source": [
    "# Notebook used to apply standard compression methods to Kodak dataset image for evaluation\n",
    "Importing all the necessary packages"
   ],
   "metadata": {
    "collapsed": false
   },
   "id": "749688ece484f3f5"
  },
  {
   "cell_type": "code",
   "execution_count": 73,
   "outputs": [
    {
     "name": "stdout",
     "output_type": "stream",
     "text": [
      "C:\\Users\\filip\\DataspellProjects\\ImageCompressionAI\n"
     ]
    }
   ],
   "source": [
    "import os\n",
    "from PIL import Image\n",
    "from pathlib import Path\n",
    "import glob\n",
    "import timeit\n",
    "\n",
    "current_path = Path('.').resolve()\n",
    "print(str(current_path))"
   ],
   "metadata": {
    "collapsed": false,
    "ExecuteTime": {
     "end_time": "2023-10-19T15:41:20.511241400Z",
     "start_time": "2023-10-19T15:41:20.498609300Z"
    }
   },
   "id": "dbe3b0cb8325bd2a"
  },
  {
   "cell_type": "markdown",
   "source": [
    "Setting the source path"
   ],
   "metadata": {
    "collapsed": false
   },
   "id": "674d066d5f1adb7d"
  },
  {
   "cell_type": "code",
   "execution_count": 3,
   "outputs": [
    {
     "name": "stdout",
     "output_type": "stream",
     "text": [
      "Source:  C:\\Users\\filip\\DataspellProjects\\ImageCompressionAI\\IMAGES\\PNG_IMAGES\n"
     ]
    }
   ],
   "source": [
    "source_path = str(current_path)+'\\IMAGES\\PNG_IMAGES'\n",
    "print(\"Source: \",source_path)"
   ],
   "metadata": {
    "collapsed": false,
    "ExecuteTime": {
     "end_time": "2023-10-19T14:49:50.523935500Z",
     "start_time": "2023-10-19T14:49:50.510491300Z"
    }
   },
   "id": "bf8a9ec786fdfee8"
  },
  {
   "cell_type": "markdown",
   "source": [
    "# JPEG conversion\n",
    "Setting output dir for JPEG file conversion"
   ],
   "metadata": {
    "collapsed": false
   },
   "id": "c1b571c79273809d"
  },
  {
   "cell_type": "code",
   "execution_count": 40,
   "outputs": [
    {
     "name": "stdout",
     "output_type": "stream",
     "text": [
      "Destination:  C:\\Users\\filip\\DataspellProjects\\ImageCompressionAI\\IMAGES\\JPEG_IMAGES\n",
      "Destination directory has been emptied\n",
      "Destination:  C:\\Users\\filip\\DataspellProjects\\ImageCompressionAI\\IMAGES\\JPEG_IMAGES\\JPEG\n",
      "Destination directory has been emptied\n"
     ]
    }
   ],
   "source": [
    "destination_path = str(current_path)+'\\IMAGES\\JPEG_IMAGES'\n",
    "print(\"Destination: \",destination_path)\n",
    "if(os.path.isdir(destination_path) & os.path.exists(destination_path)):\n",
    "    try:\n",
    "        files = os.listdir(destination_path)\n",
    "        for file in files:\n",
    "            file_path = os.path.join(destination_path, file)\n",
    "            if os.path.isfile(file_path):\n",
    "                os.remove(file_path)\n",
    "        print(\"Destination directory has been emptied\")\n",
    "    except OSError:\n",
    "        print(\"Error occurred while deleting files in the destination directory\")\n",
    "else:\n",
    "    os.mkdir(destination_path)\n",
    "\n",
    "destination_path_JPEG = str(current_path)+'\\IMAGES\\JPEG_IMAGES\\JPEG'\n",
    "print(\"Destination: \",destination_path_JPEG)\n",
    "if(os.path.isdir(destination_path_JPEG) & os.path.exists(destination_path_JPEG)):\n",
    "    try:\n",
    "        files = os.listdir(destination_path_JPEG)\n",
    "        for file in files:\n",
    "            file_path = os.path.join(destination_path_JPEG, file)\n",
    "            if os.path.isfile(file_path):\n",
    "                os.remove(file_path)\n",
    "        print(\"Destination directory has been emptied\")\n",
    "    except OSError:\n",
    "        print(\"Error occurred while deleting files in the destination directory\")\n",
    "else:\n",
    "    os.mkdir(destination_path_JPEG)"
   ],
   "metadata": {
    "collapsed": false,
    "ExecuteTime": {
     "end_time": "2023-10-19T15:11:58.241582Z",
     "start_time": "2023-10-19T15:11:58.235038600Z"
    }
   },
   "id": "bd1435474524430d"
  },
  {
   "cell_type": "markdown",
   "source": [
    "Converting images into JPEG format"
   ],
   "metadata": {
    "collapsed": false
   },
   "id": "b938a8730c7eae6d"
  },
  {
   "cell_type": "code",
   "execution_count": 79,
   "outputs": [
    {
     "name": "stdout",
     "output_type": "stream",
     "text": [
      "Encoded IMG0001  | Execution time:  0.016220900000007532  seconds\n",
      "Encoded IMG0002  | Execution time:  0.022768099999666447  seconds\n",
      "Encoded IMG0003  | Execution time:  0.01814349999949627  seconds\n",
      "Encoded IMG0004  | Execution time:  0.019270400000095833  seconds\n",
      "Encoded IMG0005  | Execution time:  0.01862159999927826  seconds\n",
      "Encoded IMG0006  | Execution time:  0.017916899999363523  seconds\n",
      "Encoded IMG0007  | Execution time:  0.018291999999746622  seconds\n",
      "Encoded IMG0008  | Execution time:  0.01807310000003781  seconds\n",
      "Encoded IMG0009  | Execution time:  0.015855200000260083  seconds\n",
      "Encoded IMG0010  | Execution time:  0.015374800000245159  seconds\n",
      "Encoded IMG0011  | Execution time:  0.015965999999934866  seconds\n",
      "Encoded IMG0012  | Execution time:  0.015773099999933038  seconds\n",
      "Encoded IMG0013  | Execution time:  0.019322299999657844  seconds\n",
      "Encoded IMG0014  | Execution time:  0.021050800000011805  seconds\n",
      "Encoded IMG0015  | Execution time:  0.01700150000033318  seconds\n",
      "Encoded IMG0016  | Execution time:  0.02182749999974476  seconds\n",
      "Encoded IMG0017  | Execution time:  0.0174325999996654  seconds\n",
      "Encoded IMG0018  | Execution time:  0.017483200000242505  seconds\n",
      "Encoded IMG0019  | Execution time:  0.015235500000017055  seconds\n",
      "Encoded IMG0020  | Execution time:  0.01622280000083265  seconds\n",
      "Encoded IMG0021  | Execution time:  0.017368799999530893  seconds\n",
      "Encoded IMG0022  | Execution time:  0.01510249999955704  seconds\n",
      "Encoded IMG0023  | Execution time:  0.01449490000049991  seconds\n",
      "Encoded IMG0024  | Execution time:  0.015791400000125577  seconds\n"
     ]
    }
   ],
   "source": [
    "for file in glob.glob(str(source_path)+'\\*.png'):\n",
    "    image = Image.open(file)\n",
    "    image = image.convert('RGB')\n",
    "    starttime = timeit.default_timer()\n",
    "    image.save(str(destination_path_JPEG)+'\\\\'+Path(file).stem+'.jpeg','jpeg',subsampling=1, quality=10)\n",
    "    endtime = timeit.default_timer()\n",
    "    print('Encoded',Path(file).stem,' | Execution time: ',endtime-starttime,' seconds')\n",
    "    image.close()"
   ],
   "metadata": {
    "collapsed": false,
    "ExecuteTime": {
     "end_time": "2023-10-19T15:45:20.182290500Z",
     "start_time": "2023-10-19T15:45:15.218422200Z"
    }
   },
   "id": "641a8418f07aa1b8"
  },
  {
   "cell_type": "markdown",
   "source": [
    "Converting JPEG compressed images back to PNG for later comparison"
   ],
   "metadata": {
    "collapsed": false
   },
   "id": "4c8350c0c92fb0ea"
  },
  {
   "cell_type": "code",
   "execution_count": 43,
   "outputs": [
    {
     "name": "stdout",
     "output_type": "stream",
     "text": [
      "IMG0001\n",
      "IMG0002\n",
      "IMG0003\n",
      "IMG0004\n",
      "IMG0005\n",
      "IMG0006\n",
      "IMG0007\n",
      "IMG0008\n",
      "IMG0009\n",
      "IMG0010\n",
      "IMG0011\n",
      "IMG0012\n",
      "IMG0013\n",
      "IMG0014\n",
      "IMG0015\n",
      "IMG0016\n",
      "IMG0017\n",
      "IMG0018\n",
      "IMG0019\n",
      "IMG0020\n",
      "IMG0021\n",
      "IMG0022\n",
      "IMG0023\n",
      "IMG0024\n"
     ]
    }
   ],
   "source": [
    "for file in glob.glob(str(destination_path_JPEG)+'\\*.jpeg'):\n",
    "    image = Image.open(file)\n",
    "    image = image.convert('RGB')\n",
    "    image.save(str(destination_path)+'\\\\'+Path(file).stem+'.png','png')\n",
    "    print(Path(file).stem)\n",
    "    image.close()"
   ],
   "metadata": {
    "collapsed": false,
    "ExecuteTime": {
     "end_time": "2023-10-19T15:15:25.082041900Z",
     "start_time": "2023-10-19T15:15:13.607197100Z"
    }
   },
   "id": "516111da3ca13f19"
  },
  {
   "cell_type": "markdown",
   "source": [
    "Compute bits per pixel of converted images"
   ],
   "metadata": {
    "collapsed": false
   },
   "id": "3f763d7afa0b469b"
  },
  {
   "cell_type": "code",
   "execution_count": 44,
   "outputs": [
    {
     "name": "stdout",
     "output_type": "stream",
     "text": [
      "Image:  IMG0001 .jpeg bpp: 0.3025258382161458  Size:  1903328  Width:  3072  Height:  2048  Pixels:  6291456\n",
      "Image:  IMG0002 .jpeg bpp: 0.2392603556315104  Size:  1505296  Width:  3072  Height:  2048  Pixels:  6291456\n",
      "Image:  IMG0003 .jpeg bpp: 0.19316482543945312  Size:  1215288  Width:  3072  Height:  2048  Pixels:  6291456\n",
      "Image:  IMG0004 .jpeg bpp: 0.22443771362304688  Size:  1412040  Width:  2048  Height:  3072  Pixels:  6291456\n",
      "Image:  IMG0005 .jpeg bpp: 0.2935943603515625  Size:  1847136  Width:  3072  Height:  2048  Pixels:  6291456\n",
      "Image:  IMG0006 .jpeg bpp: 0.2573407491048177  Size:  1619048  Width:  3072  Height:  2048  Pixels:  6291456\n",
      "Image:  IMG0007 .jpeg bpp: 0.21014404296875  Size:  1322112  Width:  3072  Height:  2048  Pixels:  6291456\n",
      "Image:  IMG0008 .jpeg bpp: 0.3310839335123698  Size:  2083000  Width:  3072  Height:  2048  Pixels:  6291456\n",
      "Image:  IMG0009 .jpeg bpp: 0.19947687784830728  Size:  1255000  Width:  2048  Height:  3072  Pixels:  6291456\n",
      "Image:  IMG0010 .jpeg bpp: 0.20045852661132812  Size:  1261176  Width:  2048  Height:  3072  Pixels:  6291456\n",
      "Image:  IMG0011 .jpeg bpp: 0.2453180948893229  Size:  1543408  Width:  3072  Height:  2048  Pixels:  6291456\n",
      "Image:  IMG0012 .jpeg bpp: 0.18802007039388022  Size:  1182920  Width:  3072  Height:  2048  Pixels:  6291456\n",
      "Image:  IMG0013 .jpeg bpp: 0.3661448160807292  Size:  2303584  Width:  3072  Height:  2048  Pixels:  6291456\n",
      "Image:  IMG0014 .jpeg bpp: 0.2597389221191406  Size:  1634136  Width:  3072  Height:  2048  Pixels:  6291456\n",
      "Image:  IMG0015 .jpeg bpp: 0.2105433146158854  Size:  1324624  Width:  3072  Height:  2048  Pixels:  6291456\n",
      "Image:  IMG0016 .jpeg bpp: 0.22975285847981772  Size:  1445480  Width:  3072  Height:  2048  Pixels:  6291456\n",
      "Image:  IMG0017 .jpeg bpp: 0.21312713623046875  Size:  1340880  Width:  2048  Height:  3072  Pixels:  6291456\n",
      "Image:  IMG0018 .jpeg bpp: 0.2815996805826823  Size:  1771672  Width:  2048  Height:  3072  Pixels:  6291456\n",
      "Image:  IMG0019 .jpeg bpp: 0.24065653483072916  Size:  1514080  Width:  2048  Height:  3072  Pixels:  6291456\n",
      "Image:  IMG0020 .jpeg bpp: 0.20837020874023438  Size:  1310952  Width:  3072  Height:  2048  Pixels:  6291456\n",
      "Image:  IMG0021 .jpeg bpp: 0.2484258015950521  Size:  1562960  Width:  3072  Height:  2048  Pixels:  6291456\n",
      "Image:  IMG0022 .jpeg bpp: 0.23316446940104166  Size:  1466944  Width:  3072  Height:  2048  Pixels:  6291456\n",
      "Image:  IMG0023 .jpeg bpp: 0.19031524658203125  Size:  1197360  Width:  3072  Height:  2048  Pixels:  6291456\n",
      "Image:  IMG0024 .jpeg bpp: 0.26272328694661456  Size:  1652912  Width:  3072  Height:  2048  Pixels:  6291456\n"
     ]
    }
   ],
   "source": [
    "for file in glob.glob(str(destination_path_JPEG)+'\\*.jpeg'):\n",
    "    image = Image.open(file)\n",
    "    file_size = os.path.getsize(file) * 8\n",
    "    pixels = image.width * image.height\n",
    "    print('Image: ',Path(file).stem,'.jpeg bpp:',str(file_size/pixels),' Size: ',file_size,\" Width: \",str(image.width),\" Height: \",str(image.height),\" Pixels: \",str(pixels))\n",
    "    image.close()"
   ],
   "metadata": {
    "collapsed": false,
    "ExecuteTime": {
     "end_time": "2023-10-19T15:15:27.574140100Z",
     "start_time": "2023-10-19T15:15:27.560142200Z"
    }
   },
   "id": "c8c803a682610cf4"
  },
  {
   "cell_type": "markdown",
   "source": [
    "# JPEG2000 Conversion\n",
    "Setting output directory for JPEG2000 file conversion"
   ],
   "metadata": {
    "collapsed": false
   },
   "id": "e7301e9eed9ddb00"
  },
  {
   "cell_type": "code",
   "execution_count": 45,
   "outputs": [
    {
     "name": "stdout",
     "output_type": "stream",
     "text": [
      "Destination:  C:\\Users\\filip\\DataspellProjects\\ImageCompressionAI\\IMAGES\\JPEG2000_IMAGES\n",
      "Destination directory has been emptied\n",
      "Destination:  C:\\Users\\filip\\DataspellProjects\\ImageCompressionAI\\IMAGES\\JPEG2000_IMAGES\\JPEG2000\n"
     ]
    }
   ],
   "source": [
    "destination_path = str(current_path)+'\\IMAGES\\JPEG2000_IMAGES'\n",
    "print(\"Destination: \",destination_path)\n",
    "if(os.path.isdir(destination_path) & os.path.exists(destination_path)):\n",
    "    try:\n",
    "        files = os.listdir(destination_path)\n",
    "        for file in files:\n",
    "            file_path = os.path.join(destination_path, file)\n",
    "            if os.path.isfile(file_path):\n",
    "                os.remove(file_path)\n",
    "        print(\"Destination directory has been emptied\")\n",
    "    except OSError:\n",
    "        print(\"Error occurred while deleting files in the destination directory\")\n",
    "else:\n",
    "    os.mkdir(destination_path)\n",
    "\n",
    "destination_path_JPEG2000 = str(current_path)+'\\IMAGES\\JPEG2000_IMAGES\\JPEG2000'\n",
    "print(\"Destination: \",destination_path_JPEG2000)\n",
    "if(os.path.isdir(destination_path_JPEG2000) & os.path.exists(destination_path_JPEG2000)):\n",
    "    try:\n",
    "        files = os.listdir(destination_path_JPEG2000)\n",
    "        for file in files:\n",
    "            file_path = os.path.join(destination_path_JPEG2000, file)\n",
    "            if os.path.isfile(file_path):\n",
    "                os.remove(file_path)\n",
    "        print(\"Destination directory has been emptied\")\n",
    "    except OSError:\n",
    "        print(\"Error occurred while deleting files in the destination directory\")\n",
    "else:\n",
    "    os.mkdir(destination_path_JPEG2000)"
   ],
   "metadata": {
    "collapsed": false,
    "ExecuteTime": {
     "end_time": "2023-10-19T15:17:55.904018100Z",
     "start_time": "2023-10-19T15:17:55.875255700Z"
    }
   },
   "id": "7e7a073329c5af33"
  },
  {
   "cell_type": "markdown",
   "source": [
    "Converting Images to JPEG2000"
   ],
   "metadata": {
    "collapsed": false
   },
   "id": "1bc0afebd724f7bc"
  },
  {
   "cell_type": "code",
   "execution_count": 81,
   "outputs": [
    {
     "name": "stdout",
     "output_type": "stream",
     "text": [
      "Encoded IMG0001  | Execution time:  1.7558263999999326  seconds\n",
      "Encoded IMG0002  | Execution time:  1.3999209000003248  seconds\n",
      "Encoded IMG0003  | Execution time:  1.308921100000589  seconds\n",
      "Encoded IMG0004  | Execution time:  1.35447430000022  seconds\n",
      "Encoded IMG0005  | Execution time:  1.4809868000002098  seconds\n",
      "Encoded IMG0006  | Execution time:  1.4070523000000321  seconds\n",
      "Encoded IMG0007  | Execution time:  1.4217431999995824  seconds\n",
      "Encoded IMG0008  | Execution time:  2.026708299999882  seconds\n",
      "Encoded IMG0009  | Execution time:  1.8208981999996467  seconds\n",
      "Encoded IMG0010  | Execution time:  1.775390700000571  seconds\n",
      "Encoded IMG0011  | Execution time:  1.5302707999999257  seconds\n",
      "Encoded IMG0012  | Execution time:  1.2594032000006337  seconds\n",
      "Encoded IMG0013  | Execution time:  1.7844236999999339  seconds\n",
      "Encoded IMG0014  | Execution time:  1.4925819000000047  seconds\n",
      "Encoded IMG0015  | Execution time:  1.4814543000002232  seconds\n",
      "Encoded IMG0016  | Execution time:  1.435213499999918  seconds\n",
      "Encoded IMG0017  | Execution time:  2.0126567000006617  seconds\n",
      "Encoded IMG0018  | Execution time:  2.3951700000006895  seconds\n",
      "Encoded IMG0019  | Execution time:  1.7808045000001584  seconds\n",
      "Encoded IMG0020  | Execution time:  1.7381719000004523  seconds\n",
      "Encoded IMG0021  | Execution time:  2.0195826999997735  seconds\n",
      "Encoded IMG0022  | Execution time:  1.6763649999993504  seconds\n",
      "Encoded IMG0023  | Execution time:  1.4512002000001303  seconds\n",
      "Encoded IMG0024  | Execution time:  1.4469169999993028  seconds\n"
     ]
    }
   ],
   "source": [
    "for file in glob.glob(str(source_path)+'\\*.png'):\n",
    "    image = Image.open(file)\n",
    "    image = image.convert('RGB')\n",
    "    starttime = timeit.default_timer()\n",
    "    image.save(str(destination_path_JPEG2000)+'\\\\'+Path(file).stem+'.jp2','jpeg2000',irreversible=True, quality_mode='rates',quality_layers=[95])\n",
    "    endtime = timeit.default_timer()\n",
    "    print('Encoded',Path(file).stem,' | Execution time: ',endtime-starttime,' seconds')\n",
    "    image.close()"
   ],
   "metadata": {
    "collapsed": false,
    "ExecuteTime": {
     "end_time": "2023-10-19T15:47:01.420391100Z",
     "start_time": "2023-10-19T15:46:17.667243800Z"
    }
   },
   "id": "1abf386b8fb7effc"
  },
  {
   "cell_type": "markdown",
   "source": [
    "Converting JPEG200 compressed images back to PNG for later comparison"
   ],
   "metadata": {
    "collapsed": false
   },
   "id": "b36f78533285cdd9"
  },
  {
   "cell_type": "code",
   "execution_count": 83,
   "outputs": [
    {
     "name": "stdout",
     "output_type": "stream",
     "text": [
      "IMG0001\n",
      "IMG0002\n",
      "IMG0003\n",
      "IMG0004\n",
      "IMG0005\n",
      "IMG0006\n",
      "IMG0007\n",
      "IMG0008\n",
      "IMG0009\n",
      "IMG0010\n",
      "IMG0011\n",
      "IMG0012\n",
      "IMG0013\n",
      "IMG0014\n",
      "IMG0015\n",
      "IMG0016\n",
      "IMG0017\n",
      "IMG0018\n",
      "IMG0019\n",
      "IMG0020\n",
      "IMG0021\n",
      "IMG0022\n",
      "IMG0023\n",
      "IMG0024\n"
     ]
    }
   ],
   "source": [
    "for file in glob.glob(str(destination_path_JPEG2000)+'\\*.jp2'):\n",
    "    image = Image.open(file)\n",
    "    image = image.convert('RGB')\n",
    "    image.save(str(destination_path)+'\\\\'+Path(file).stem+'.png','png')\n",
    "    print(Path(file).stem)\n",
    "    image.close()"
   ],
   "metadata": {
    "collapsed": false,
    "ExecuteTime": {
     "end_time": "2023-10-19T15:48:25.437771Z",
     "start_time": "2023-10-19T15:47:09.745100600Z"
    }
   },
   "id": "bcc29a6bd0a9d313"
  },
  {
   "cell_type": "markdown",
   "source": [
    "Compute bits per pixel of converted images"
   ],
   "metadata": {
    "collapsed": false
   },
   "id": "3dc6acd0e993c573"
  },
  {
   "cell_type": "code",
   "execution_count": 82,
   "outputs": [
    {
     "name": "stdout",
     "output_type": "stream",
     "text": [
      "Image:  IMG0001 .jp2 bpp: 0.25246938069661456  Size:  1588400  Width:  3072  Height:  2048  Pixels:  6291456\n",
      "Image:  IMG0002 .jp2 bpp: 0.25247955322265625  Size:  1588464  Width:  3072  Height:  2048  Pixels:  6291456\n",
      "Image:  IMG0003 .jp2 bpp: 0.2525749206542969  Size:  1589064  Width:  3072  Height:  2048  Pixels:  6291456\n",
      "Image:  IMG0004 .jp2 bpp: 0.2524223327636719  Size:  1588104  Width:  2048  Height:  3072  Pixels:  6291456\n",
      "Image:  IMG0005 .jp2 bpp: 0.2524668375651042  Size:  1588384  Width:  3072  Height:  2048  Pixels:  6291456\n",
      "Image:  IMG0006 .jp2 bpp: 0.2524833679199219  Size:  1588488  Width:  3072  Height:  2048  Pixels:  6291456\n",
      "Image:  IMG0007 .jp2 bpp: 0.2525927225748698  Size:  1589176  Width:  3072  Height:  2048  Pixels:  6291456\n",
      "Image:  IMG0008 .jp2 bpp: 0.2526105244954427  Size:  1589288  Width:  3072  Height:  2048  Pixels:  6291456\n",
      "Image:  IMG0009 .jp2 bpp: 0.25262705485026044  Size:  1589392  Width:  2048  Height:  3072  Pixels:  6291456\n",
      "Image:  IMG0010 .jp2 bpp: 0.2525189717610677  Size:  1588712  Width:  2048  Height:  3072  Pixels:  6291456\n",
      "Image:  IMG0011 .jp2 bpp: 0.2526359558105469  Size:  1589448  Width:  3072  Height:  2048  Pixels:  6291456\n",
      "Image:  IMG0012 .jp2 bpp: 0.2523345947265625  Size:  1587552  Width:  3072  Height:  2048  Pixels:  6291456\n",
      "Image:  IMG0013 .jp2 bpp: 0.2524922688802083  Size:  1588544  Width:  3072  Height:  2048  Pixels:  6291456\n",
      "Image:  IMG0014 .jp2 bpp: 0.25245412190755206  Size:  1588304  Width:  3072  Height:  2048  Pixels:  6291456\n",
      "Image:  IMG0015 .jp2 bpp: 0.25260289510091144  Size:  1589240  Width:  3072  Height:  2048  Pixels:  6291456\n",
      "Image:  IMG0016 .jp2 bpp: 0.25238672892252606  Size:  1587880  Width:  3072  Height:  2048  Pixels:  6291456\n",
      "Image:  IMG0017 .jp2 bpp: 0.25256983439127606  Size:  1589032  Width:  2048  Height:  3072  Pixels:  6291456\n",
      "Image:  IMG0018 .jp2 bpp: 0.2526448567708333  Size:  1589504  Width:  2048  Height:  3072  Pixels:  6291456\n",
      "Image:  IMG0019 .jp2 bpp: 0.25213877360026044  Size:  1586320  Width:  2048  Height:  3072  Pixels:  6291456\n",
      "Image:  IMG0020 .jp2 bpp: 0.2524528503417969  Size:  1588296  Width:  3072  Height:  2048  Pixels:  6291456\n",
      "Image:  IMG0021 .jp2 bpp: 0.2524515787760417  Size:  1588288  Width:  3072  Height:  2048  Pixels:  6291456\n",
      "Image:  IMG0022 .jp2 bpp: 0.2524159749348958  Size:  1588064  Width:  3072  Height:  2048  Pixels:  6291456\n",
      "Image:  IMG0023 .jp2 bpp: 0.25251515706380206  Size:  1588688  Width:  3072  Height:  2048  Pixels:  6291456\n",
      "Image:  IMG0024 .jp2 bpp: 0.25263722737630206  Size:  1589456  Width:  3072  Height:  2048  Pixels:  6291456\n"
     ]
    }
   ],
   "source": [
    "for file in glob.glob(str(destination_path_JPEG2000)+'\\*.jp2'):\n",
    "    image = Image.open(file)\n",
    "    file_size = os.path.getsize(file) * 8\n",
    "    pixels = image.width * image.height\n",
    "    print('Image: ',Path(file).stem,'.jp2 bpp:',str(file_size/pixels),' Size: ',file_size,\" Width: \",str(image.width),\" Height: \",str(image.height),\" Pixels: \",str(pixels))\n",
    "    image.close()"
   ],
   "metadata": {
    "collapsed": false,
    "ExecuteTime": {
     "end_time": "2023-10-19T15:47:06.827987800Z",
     "start_time": "2023-10-19T15:47:06.814762300Z"
    }
   },
   "id": "c7978fac5f9a0354"
  }
 ],
 "metadata": {
  "kernelspec": {
   "display_name": "Python 3",
   "language": "python",
   "name": "python3"
  },
  "language_info": {
   "codemirror_mode": {
    "name": "ipython",
    "version": 2
   },
   "file_extension": ".py",
   "mimetype": "text/x-python",
   "name": "python",
   "nbconvert_exporter": "python",
   "pygments_lexer": "ipython2",
   "version": "2.7.6"
  }
 },
 "nbformat": 4,
 "nbformat_minor": 5
}
