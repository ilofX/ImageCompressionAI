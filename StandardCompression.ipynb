{
 "cells": [
  {
   "cell_type": "markdown",
   "source": [
    "# Notebook used to apply standard compression methods to Kodak dataset image for evaluation\n",
    "## Importing all the necessary packages and initializing input and output directories"
   ],
   "metadata": {
    "collapsed": false
   },
   "id": "cfa20d28023a0369"
  },
  {
   "cell_type": "code",
   "execution_count": null,
   "outputs": [],
   "source": [
    "import os\n",
    "import ntpath\n",
    "from PIL import Image\n",
    "from pathlib import Path\n",
    "import glob\n",
    "import timeit\n",
    "import subprocess\n",
    "from numpy import mean,var\n",
    "from datetime import datetime\n",
    "\n",
    "vvenc_path = Path('/home/filippo/Downloads/vvenc-1.9.1/install/bin/vvencapp').resolve()\n",
    "print (\"VVEncAPP Path: \", str(vvenc_path))\n",
    "vvdec_path = Path('/home/filippo/Downloads/vvdec-2.1.2/install/bin/vvdecapp').resolve()\n",
    "print (\"VVDevAPP Path: \", str(vvdec_path))\n",
    "\n",
    "current_path = Path('.').resolve()\n",
    "print(\"Current path: \",str(current_path))\n",
    "source_path = str(current_path)+'/IMAGES/PNG_IMAGES'\n",
    "source_path.replace(os.sep,ntpath.sep)\n",
    "print(\"Source: \",source_path)"
   ],
   "metadata": {
    "collapsed": false
   },
   "id": "dbe3b0cb8325bd2a"
  },
  {
   "cell_type": "markdown",
   "source": [
    "# JPEG conversion\n",
    "\n",
    "## Setting output directory for JPEG file conversion"
   ],
   "metadata": {
    "collapsed": false
   },
   "id": "c1b571c79273809d"
  },
  {
   "cell_type": "code",
   "execution_count": null,
   "outputs": [],
   "source": [
    "destination_path = str(current_path)+'/IMAGES/JPEG/'\n",
    "destination_path.replace(os.sep,ntpath.sep)\n",
    "print(\"Destination: \",destination_path)\n",
    "if os.path.isdir(destination_path) & os.path.exists(destination_path):\n",
    "    try:\n",
    "        files = os.listdir(destination_path)\n",
    "        for file in files:\n",
    "            file_path = os.path.join(destination_path, file)\n",
    "            if os.path.isfile(file_path):\n",
    "                os.remove(file_path)\n",
    "        print(\"Destination directory has been emptied\")\n",
    "    except OSError:\n",
    "        print(\"Error occurred while deleting files in the destination directory\")\n",
    "else:\n",
    "    os.mkdir(destination_path)"
   ],
   "metadata": {
    "collapsed": false
   },
   "id": "2bfee235322d1436"
  },
  {
   "cell_type": "markdown",
   "source": [
    "## Converting images into JPEG format"
   ],
   "metadata": {
    "collapsed": false
   },
   "id": "36c6bfa6de8d0eb5"
  },
  {
   "cell_type": "code",
   "execution_count": null,
   "outputs": [],
   "source": [
    "quality_index = [2,6,19,23,30] # The image quality, on a scale from 0 (worst) to 95 (best)\n",
    "# 2=0.170bpp 3=0.174bpp 6=0.203bpp 19=0.327bpp 30=0.426bpp [2,6,19,23,30]| \n",
    "compression_times = {}\n",
    "for qi in quality_index: \n",
    "    destination_path = str(current_path)+'/IMAGES/JPEG/'+str(qi)\n",
    "    destination_path.replace(os.sep,ntpath.sep)\n",
    "    print(\"Destination: \",destination_path)\n",
    "    if os.path.isdir(destination_path) & os.path.exists(destination_path):\n",
    "        try:\n",
    "            files = os.listdir(destination_path)\n",
    "            for file in files:\n",
    "                file_path = os.path.join(destination_path, file)\n",
    "                if os.path.isfile(file_path):\n",
    "                    os.remove(file_path)\n",
    "            print(\"Destination directory has been emptied\")\n",
    "        except OSError:\n",
    "            print(\"Error occurred while deleting files in the destination directory\")\n",
    "    else:\n",
    "        os.mkdir(destination_path)\n",
    "    \n",
    "    destination_path_JPEG = str(current_path)+'/IMAGES/JPEG/'+str(qi)+'/JPEG'\n",
    "    destination_path_JPEG.replace(os.sep,ntpath.sep)\n",
    "    print(\"Destination: \",destination_path_JPEG)\n",
    "    if os.path.isdir(destination_path_JPEG) & os.path.exists(destination_path_JPEG):\n",
    "        try:\n",
    "            files = os.listdir(destination_path_JPEG)\n",
    "            for file in files:\n",
    "                file_path = os.path.join(destination_path_JPEG, file)\n",
    "                if os.path.isfile(file_path):\n",
    "                    os.remove(file_path)\n",
    "            print(\"Destination directory has been emptied\")\n",
    "        except OSError:\n",
    "            print(\"Error occurred while deleting files in the destination directory\")\n",
    "    else:\n",
    "        os.mkdir(destination_path_JPEG)\n",
    "\n",
    "    times = []    \n",
    "    for file in glob.glob(str(source_path)+'/*.png'):\n",
    "        image = Image.open(file)\n",
    "        image = image.convert('RGB')\n",
    "        starttime = timeit.default_timer()\n",
    "        image.save(str(destination_path_JPEG)+'/'+Path(file).stem+'.jpeg','jpeg',subsampling=1, quality=qi)\n",
    "        endtime = timeit.default_timer()\n",
    "        execution_time = endtime-starttime\n",
    "        times.append(execution_time)\n",
    "        print('Encoded',Path(file).stem,' | Execution time: ',str(execution_time),' seconds')\n",
    "        image.close()\n",
    "\n",
    "    compression_times[qi]=times"
   ],
   "metadata": {
    "collapsed": false
   },
   "id": "641a8418f07aa1b8"
  },
  {
   "cell_type": "markdown",
   "source": [
    "## Converting JPEG compressed images back to PNG for later comparison"
   ],
   "metadata": {
    "collapsed": false
   },
   "id": "4c8350c0c92fb0ea"
  },
  {
   "cell_type": "code",
   "execution_count": null,
   "outputs": [],
   "source": [
    "for qi in quality_index:\n",
    "    destination_path = str(current_path)+'/IMAGES/JPEG/'+str(qi)\n",
    "    destination_path.replace(os.sep,ntpath.sep)\n",
    "    print(\"Destination: \",destination_path)\n",
    "    destination_path_JPEG = str(current_path)+'/IMAGES/JPEG/'+str(qi)+'/JPEG'\n",
    "    destination_path_JPEG.replace(os.sep,ntpath.sep)\n",
    "    print(\"Destination: \",destination_path_JPEG)\n",
    "    \n",
    "    for file in glob.glob(str(destination_path_JPEG)+'/*.jpeg'):\n",
    "        image = Image.open(file)\n",
    "        image = image.convert('RGB')\n",
    "        image.save(str(destination_path)+'/'+Path(file).stem+'.png','png')\n",
    "        print(Path(file).stem)\n",
    "        image.close()"
   ],
   "metadata": {
    "collapsed": false
   },
   "id": "516111da3ca13f19"
  },
  {
   "cell_type": "markdown",
   "source": [
    "## Compute bits per pixel of converted images"
   ],
   "metadata": {
    "collapsed": false
   },
   "id": "3f763d7afa0b469b"
  },
  {
   "cell_type": "code",
   "execution_count": null,
   "outputs": [],
   "source": [
    "for qi in quality_index:\n",
    "    destination_path = str(current_path)+'/IMAGES/JPEG/'+str(qi)\n",
    "    destination_path.replace(os.sep,ntpath.sep)\n",
    "    print(\"Destination: \",destination_path)\n",
    "    destination_path_JPEG = str(current_path)+'/IMAGES/JPEG/'+str(qi)+'/JPEG'\n",
    "    destination_path_JPEG.replace(os.sep,ntpath.sep)\n",
    "    print(\"Destination: \",destination_path_JPEG)\n",
    "    bpp_list=[]\n",
    "    count = 0\n",
    "    log = open(str(destination_path)+'/log.txt', 'w')\n",
    "    log.writelines([str(datetime.now()),'\\n'])\n",
    "    for file in glob.glob(str(destination_path_JPEG)+'/*.jpeg'):\n",
    "        image = Image.open(file)\n",
    "        file_size = os.path.getsize(file) * 8\n",
    "        pixels = image.width * image.height\n",
    "        bits_per_pixel = file_size/pixels\n",
    "        bpp_list.append(bits_per_pixel)\n",
    "        log_string = 'Image:' + str(Path(file).stem) + '.jpeg\\tbpp:' + str(bits_per_pixel) + '\\tSize:' + str(file_size) + '\\tWidth:' + str(image.width) + '\\tHeight:' + str(image.height) + '\\tPixels:' + str(pixels) + '\\tCompressionTime:' + str(compression_times[qi][count])\n",
    "        log.writelines([log_string,'\\n'])\n",
    "        print(log_string)\n",
    "        image.close()\n",
    "        count+=1\n",
    "        \n",
    "    log.writelines(['\\n',str('Average bpp in ' + str(count) + ' images is ' + str(mean(bpp_list)) + ' ± ' + str(var(bpp_list)) + ' in ' + str(mean(compression_times[qi]))  + ' ± ' + str(var(compression_times[qi])) + ' s')])    \n",
    "    print('\\nAverage bpp in ' + str(count) + ' images is ' + str(mean(bpp_list)) + ' ± ' + str(var(bpp_list)) + ' in ' + str(mean(compression_times[qi])) + ' ± ' + str(var(compression_times[qi])) + ' s')\n",
    "    log.close()"
   ],
   "metadata": {
    "collapsed": false
   },
   "id": "c8c803a682610cf4"
  },
  {
   "cell_type": "markdown",
   "source": [
    "# JPEG2000 Conversion\n",
    "## Setting output directory for JPEG2000 file conversion"
   ],
   "metadata": {
    "collapsed": false
   },
   "id": "e7301e9eed9ddb00"
  },
  {
   "cell_type": "code",
   "execution_count": null,
   "outputs": [],
   "source": [
    "destination_path = str(current_path)+'/IMAGES/JPEG2000'\n",
    "destination_path.replace(os.sep,ntpath.sep)\n",
    "print(\"Destination: \",destination_path)\n",
    "if os.path.isdir(destination_path) & os.path.exists(destination_path):\n",
    "    try:\n",
    "        files = os.listdir(destination_path)\n",
    "        for file in files:\n",
    "            file_path = os.path.join(destination_path, file)\n",
    "            if os.path.isfile(file_path):\n",
    "                os.remove(file_path)\n",
    "        print(\"Destination directory has been emptied\")\n",
    "    except OSError:\n",
    "        print(\"Error occurred while deleting files in the destination directory\")\n",
    "else:\n",
    "    os.mkdir(destination_path)"
   ],
   "metadata": {
    "collapsed": false
   },
   "id": "7e7a073329c5af33"
  },
  {
   "cell_type": "markdown",
   "source": [
    "## Converting Images to JPEG2000"
   ],
   "metadata": {
    "collapsed": false
   },
   "id": "1bc0afebd724f7bc"
  },
  {
   "cell_type": "code",
   "execution_count": null,
   "outputs": [],
   "source": [
    "quality_layers = [175,140,115,72,56] # 175=0.137bpp  140 = 0.171bpp 115=0.208bpp 72=0.333bpp 56=0.428bpp\n",
    "compression_times = {}\n",
    "for qi in quality_layers:\n",
    "    destination_path = str(current_path)+'/IMAGES/JPEG2000/'+str(qi)\n",
    "    destination_path.replace(os.sep,ntpath.sep)\n",
    "    print(\"Destination: \",destination_path)\n",
    "    if os.path.isdir(destination_path) & os.path.exists(destination_path):\n",
    "        try:\n",
    "            files = os.listdir(destination_path)\n",
    "            for file in files:\n",
    "                file_path = os.path.join(destination_path, file)\n",
    "                if os.path.isfile(file_path):\n",
    "                    os.remove(file_path)\n",
    "            print(\"Destination directory has been emptied\")\n",
    "        except OSError:\n",
    "            print(\"Error occurred while deleting files in the destination directory\")\n",
    "    else:\n",
    "        os.mkdir(destination_path)\n",
    "    \n",
    "    destination_path_JPEG2000 = str(current_path)+'/IMAGES/JPEG2000/'+str(qi)+'/JPEG2000'\n",
    "    destination_path_JPEG2000.replace(os.sep,ntpath.sep)\n",
    "    print(\"Destination: \",destination_path_JPEG2000)\n",
    "    if os.path.isdir(destination_path_JPEG2000) & os.path.exists(destination_path_JPEG2000):\n",
    "        try:\n",
    "            files = os.listdir(destination_path_JPEG2000)\n",
    "            for file in files:\n",
    "                file_path = os.path.join(destination_path_JPEG2000, file)\n",
    "                if os.path.isfile(file_path):\n",
    "                    os.remove(file_path)\n",
    "            print(\"Destination directory has been emptied\")\n",
    "        except OSError:\n",
    "            print(\"Error occurred while deleting files in the destination directory\")\n",
    "    else:\n",
    "        os.mkdir(destination_path_JPEG2000)\n",
    "    \n",
    "    times = []\n",
    "    for file in glob.glob(str(source_path)+'/*.png'):\n",
    "        image = Image.open(file)\n",
    "        image = image.convert('RGB')\n",
    "        starttime = timeit.default_timer()\n",
    "        image.save(str(destination_path_JPEG2000)+'/'+Path(file).stem+'.jp2','jpeg2000',irreversible=True, quality_mode='rates',quality_layers=[qi])\n",
    "        endtime = timeit.default_timer()\n",
    "        execution_time = endtime-starttime\n",
    "        times.append(execution_time)\n",
    "        print('Encoded',Path(file).stem,' | Execution time: ',execution_time,' seconds')\n",
    "        image.close()\n",
    "\n",
    "    compression_times[qi]=times"
   ],
   "metadata": {
    "collapsed": false
   },
   "id": "1abf386b8fb7effc"
  },
  {
   "cell_type": "markdown",
   "source": [
    "## Converting JPEG200 compressed images back to PNG for later comparison"
   ],
   "metadata": {
    "collapsed": false
   },
   "id": "b36f78533285cdd9"
  },
  {
   "cell_type": "code",
   "execution_count": null,
   "outputs": [],
   "source": [
    "for qi in quality_layers:\n",
    "    destination_path = str(current_path)+'/IMAGES/JPEG2000/'+str(qi)\n",
    "    destination_path.replace(os.sep,ntpath.sep)\n",
    "    print(\"Destination: \",destination_path)\n",
    "    destination_path_JPEG2000 = str(current_path)+'/IMAGES/JPEG2000/'+str(qi)+'/JPEG2000'\n",
    "    destination_path_JPEG2000.replace(os.sep,ntpath.sep)\n",
    "    print(\"Destination: \",destination_path_JPEG2000)\n",
    "\n",
    "    for file in glob.glob(str(destination_path_JPEG2000)+'/*.jp2'):\n",
    "        image = Image.open(file)\n",
    "        image = image.convert('RGB')\n",
    "        image.save(str(destination_path)+'/'+Path(file).stem+'.png','png')\n",
    "        print(Path(file).stem)\n",
    "        image.close()"
   ],
   "metadata": {
    "collapsed": false
   },
   "id": "bcc29a6bd0a9d313"
  },
  {
   "cell_type": "markdown",
   "source": [
    "## Compute bits per pixel of converted images"
   ],
   "metadata": {
    "collapsed": false
   },
   "id": "3dc6acd0e993c573"
  },
  {
   "cell_type": "code",
   "execution_count": null,
   "outputs": [],
   "source": [
    "for qi in quality_layers:\n",
    "    destination_path = str(current_path)+'/IMAGES/JPEG2000/'+str(qi)\n",
    "    destination_path.replace(os.sep,ntpath.sep)\n",
    "    print(\"Destination: \",destination_path)\n",
    "    destination_path_JPEG2000 = str(current_path)+'/IMAGES/JPEG2000/'+str(qi)+'/JPEG2000'\n",
    "    destination_path_JPEG2000.replace(os.sep,ntpath.sep)\n",
    "    print(\"Destination: \",destination_path_JPEG2000)\n",
    "    bpp_list=[]\n",
    "    count = 0\n",
    "    log = open(str(destination_path)+'/log.txt', 'w')\n",
    "    log.writelines([str(datetime.now()),'\\n'])\n",
    "    \n",
    "    for file in glob.glob(str(destination_path_JPEG2000)+'/*.jp2'):\n",
    "        image = Image.open(file)\n",
    "        file_size = os.path.getsize(file) * 8\n",
    "        pixels = image.width * image.height\n",
    "        bits_per_pixel = file_size/pixels\n",
    "        bpp_list.append(bits_per_pixel)\n",
    "        log_string = 'Image:' + str(Path(file).stem) + '.jp2\\tbpp:' + str(bits_per_pixel) + '\\tSize:' + str(file_size) + '\\tWidth:' + str(image.width) + '\\tHeight:' + str(image.height) + '\\tPixels:' + str(pixels) + '\\tCompressionTime:' + str(compression_times[qi][count])\n",
    "        log.writelines([log_string,'\\n'])\n",
    "        print(log_string)\n",
    "        image.close()\n",
    "        count +=1\n",
    "    \n",
    "    log.writelines(['\\n',str('Average bpp in ' + str(count) + ' images is ' + str(mean(bpp_list)) + ' ± ' + str(var(bpp_list)) + ' in ' + str(mean(compression_times[qi])) + ' ± ' + str(var(compression_times[qi])) + ' s')])\n",
    "    print('\\nAverage bpp in ' + str(count) + ' images is ' + str(mean(bpp_list)) + ' ± ' + str(var(bpp_list)) + ' in ' + str(mean(compression_times[qi])) + ' ± ' + str(var(compression_times[qi])) + ' s')\n",
    "    log.close()"
   ],
   "metadata": {
    "collapsed": false
   },
   "id": "c7978fac5f9a0354"
  },
  {
   "cell_type": "markdown",
   "source": [
    "# BPG Conversion\n",
    "## Setting output directory for BPG conversion"
   ],
   "metadata": {
    "collapsed": false
   },
   "id": "6369b7e76a46a0f1"
  },
  {
   "cell_type": "code",
   "execution_count": null,
   "outputs": [],
   "source": [
    "destination_path = str(current_path)+'/IMAGES/BPG'\n",
    "destination_path.replace(os.sep,ntpath.sep)\n",
    "print(\"Destination: \",destination_path)\n",
    "if os.path.isdir(destination_path) & os.path.exists(destination_path):\n",
    "    try:\n",
    "        files = os.listdir(destination_path)\n",
    "        for file in files:\n",
    "            file_path = os.path.join(destination_path, file)\n",
    "            if os.path.isfile(file_path):\n",
    "                os.remove(file_path)\n",
    "        print(\"Destination directory has been emptied\")\n",
    "    except OSError:\n",
    "        print(\"Error occurred while deleting files in the destination directory\")\n",
    "else:\n",
    "    os.mkdir(destination_path)"
   ],
   "metadata": {
    "collapsed": false
   },
   "id": "6b76a7bfc964bb82"
  },
  {
   "cell_type": "markdown",
   "source": [
    "## Converting Images to BPG"
   ],
   "metadata": {
    "collapsed": false
   },
   "id": "99e351f16fcc9ba7"
  },
  {
   "cell_type": "code",
   "execution_count": null,
   "outputs": [],
   "source": [
    "compression_times = {}\n",
    "quantizer_parameters = [49,44,41,38,36] #set quantizer parameter (smaller gives better quality,range: 0-51, default = 29)\n",
    "# 49=0.065bpp 44=0.134bpp 41=0.205bpp 38=0.313bpp 36=0.418bpp\n",
    "for qi in quantizer_parameters:\n",
    "    destination_path = str(current_path)+'/IMAGES/BPG/'+str(qi)\n",
    "    destination_path.replace(os.sep,ntpath.sep)\n",
    "    print(\"Destination: \",destination_path)\n",
    "    if os.path.isdir(destination_path) & os.path.exists(destination_path):\n",
    "        try:\n",
    "            files = os.listdir(destination_path)\n",
    "            for file in files:\n",
    "                file_path = os.path.join(destination_path, file)\n",
    "                if os.path.isfile(file_path):\n",
    "                    os.remove(file_path)\n",
    "            print(\"Destination directory has been emptied\")\n",
    "        except OSError:\n",
    "            print(\"Error occurred while deleting files in the destination directory\")\n",
    "    else:\n",
    "        os.mkdir(destination_path)\n",
    "    \n",
    "    destination_path_BPG = str(current_path)+'/IMAGES/BPG/'+str(qi)+'/BPG'\n",
    "    destination_path_BPG.replace(os.sep,ntpath.sep)\n",
    "    print(\"Destination: \",destination_path_BPG)\n",
    "    if os.path.isdir(destination_path_BPG) & os.path.exists(destination_path_BPG):\n",
    "        try:\n",
    "            files = os.listdir(destination_path_BPG)\n",
    "            for file in files:\n",
    "                file_path = os.path.join(destination_path_BPG, file)\n",
    "                if os.path.isfile(file_path):\n",
    "                    os.remove(file_path)\n",
    "            print(\"Destination directory has been emptied\")\n",
    "        except OSError:\n",
    "            print(\"Error occurred while deleting files in the destination directory\")\n",
    "    else:\n",
    "        os.mkdir(destination_path_BPG)\n",
    "    times=[]    \n",
    "    for file in os.listdir(source_path):\n",
    "        source_file = str(source_path + '/' + file)\n",
    "        source_file.replace(os.sep,ntpath.sep)\n",
    "        destination_file = str(destination_path_BPG + '/' + str(Path(file).stem) + '.bpg')\n",
    "        destination_file.replace(os.sep,ntpath.sep)\n",
    "        starttime = timeit.default_timer()\n",
    "        subprocess.run(['bpgenc','-c','rgb','-f','420','-m','1','-q',str(qi),'-o',str(destination_file),str(source_file)])\n",
    "        endtime = timeit.default_timer()\n",
    "        execution_time = endtime - starttime\n",
    "        times.append(execution_time)\n",
    "        print('Encoded', Path(file).stem, ' | Execution time: ', str(execution_time), ' seconds')\n",
    "        \n",
    "    compression_times[qi]=times"
   ],
   "metadata": {
    "collapsed": false
   },
   "id": "5621e15be7018eac"
  },
  {
   "cell_type": "markdown",
   "source": [
    "## Converting BPG compressed images back to PNG for later comparison"
   ],
   "metadata": {
    "collapsed": false
   },
   "id": "ff525fea206ee09e"
  },
  {
   "cell_type": "code",
   "execution_count": null,
   "outputs": [],
   "source": [
    "for qi in quantizer_parameters:\n",
    "    destination_path = str(current_path)+'/IMAGES/BPG/'+str(qi)\n",
    "    destination_path.replace(os.sep,ntpath.sep)\n",
    "    print(\"Destination: \",destination_path)\n",
    "    destination_path_BPG = str(current_path)+'/IMAGES/BPG/'+str(qi)+'/BPG'\n",
    "    destination_path_BPG.replace(os.sep,ntpath.sep)\n",
    "    print(\"Destination: \",destination_path_BPG)\n",
    "    \n",
    "    for file in os.listdir(destination_path_BPG):\n",
    "        source_file = str(destination_path_BPG + '/' + file)\n",
    "        source_file.replace(os.sep,ntpath.sep)\n",
    "        destination_file = str(destination_path + '/' + str(Path(file).stem) + '.png')\n",
    "        destination_file.replace(os.sep,ntpath.sep)\n",
    "        subprocess.run(['bpgdec','-o',str(destination_file),str(source_file)])\n",
    "        print(Path(file).stem)"
   ],
   "metadata": {
    "collapsed": false
   },
   "id": "afe8ff81b555446e"
  },
  {
   "cell_type": "markdown",
   "source": [
    "## Compute bits per pixel of converted images"
   ],
   "metadata": {
    "collapsed": false
   },
   "id": "edda5d23d3f3ba19"
  },
  {
   "cell_type": "code",
   "execution_count": null,
   "outputs": [],
   "source": [
    "for qi in quantizer_parameters:\n",
    "    destination_path = str(current_path)+'/IMAGES/BPG/'+str(qi)\n",
    "    destination_path.replace(os.sep,ntpath.sep)\n",
    "    print(\"Destination: \",destination_path)\n",
    "    destination_path_BPG = str(current_path)+'/IMAGES/BPG/'+str(qi)+'/BPG'\n",
    "    destination_path_BPG.replace(os.sep,ntpath.sep)\n",
    "    print(\"Destination: \",destination_path_BPG)\n",
    "    bpp_list=[]\n",
    "    count = 0\n",
    "    log = open(str(destination_path)+'/log.txt', 'w')\n",
    "    log.writelines([str(datetime.now()),'\\n'])\n",
    "    for file in os.listdir(destination_path_BPG):\n",
    "        filepath = str(destination_path_BPG) + '/' + str(file)\n",
    "        filepath.replace(os.sep,ntpath.sep)\n",
    "        file_size = os.path.getsize(filepath) * 8\n",
    "        output = subprocess.Popen(['bpgdec','-i',str(filepath)],stdout=subprocess.PIPE).communicate()\n",
    "        dimensions = (((str(output).split(' '))[0].split('='))[1].split('x'))\n",
    "        pixels = int(dimensions[0]) * int(dimensions [1])\n",
    "        bits_per_pixel = file_size/pixels\n",
    "        bpp_list.append(bits_per_pixel)\n",
    "        log_string = 'Image:' + str(Path(file).stem) + '.bpg\\tbpp:' + str(bits_per_pixel) + '\\tSize:' + str(file_size) + '\\tWidth:' + str(dimensions[0]) + '\\tHeight:' + str(dimensions[1]) + '\\tPixels:' + str(pixels) + '\\tCompressionTime:' + str(compression_times[qi][count])\n",
    "        log.writelines([log_string,'\\n'])\n",
    "        print(log_string)\n",
    "        count +=1\n",
    "    \n",
    "    log.writelines(['\\n',str('Average bpp in ' + str(count) + ' images is ' + str(mean(bpp_list)) + ' ± ' + str(var(bpp_list)) + ' in ' + str(mean(compression_times[qi])) + ' ± ' + str(var(compression_times[qi])) + ' s')])\n",
    "    print('\\nAverage bpp in ' + str(count) + ' images is ' + str(mean(bpp_list)) + ' ± ' + str(var(bpp_list)) + ' in ' + str(mean(compression_times[qi])) + ' ± ' + str(var(compression_times[qi])) + ' s')\n",
    "    log.close()"
   ],
   "metadata": {
    "collapsed": false
   },
   "id": "bee256eed42c0548"
  },
  {
   "cell_type": "markdown",
   "source": [
    "# VVC Conversion\n",
    "## Setting input and output directory for VVC conversion"
   ],
   "metadata": {
    "collapsed": false
   },
   "id": "5b4dd0ecf785c1c5"
  },
  {
   "cell_type": "code",
   "execution_count": null,
   "outputs": [],
   "source": [
    "source_path = str(current_path)+'/IMAGES/YUV_IMAGES'\n",
    "source_path.replace(os.sep,ntpath.sep)\n",
    "print(\"Source: \",source_path)\n",
    "\n",
    "destination_path = str(current_path)+'/IMAGES/VVC'\n",
    "destination_path.replace(os.sep,ntpath.sep)\n",
    "if os.path.isdir(destination_path) & os.path.exists(destination_path):\n",
    "    try:\n",
    "        files = os.listdir(destination_path)\n",
    "        for file in files:\n",
    "            file_path = os.path.join(destination_path, file)\n",
    "            if os.path.isfile(file_path):\n",
    "                os.remove(file_path)\n",
    "        print(\"Destination directory has been emptied\")\n",
    "    except OSError:\n",
    "        print(\"Error occurred while deleting files in the destination directory\")\n",
    "else:\n",
    "    os.mkdir(destination_path)"
   ],
   "metadata": {
    "collapsed": false
   },
   "id": "7ba2e8ff862420f7"
  },
  {
   "cell_type": "markdown",
   "source": [
    "## Converting images to VVC"
   ],
   "metadata": {
    "collapsed": false
   },
   "id": "e1f7a3b19ff50c9a"
  },
  {
   "cell_type": "code",
   "execution_count": null,
   "outputs": [],
   "source": [
    "compression_times = {}\n",
    "quantizer_parameters = [42,36,33,31,30] #Quantization parameter (0...63) 0=better quality\n",
    "# 42=0.662bpp 36=0.143bpp 33=0.227bpp 31=0.333bpp 30=0.405bpp\n",
    "for qi in quantizer_parameters:\n",
    "    destination_path = str(current_path)+'/IMAGES/VVC/'+str(qi)\n",
    "    destination_path.replace(os.sep,ntpath.sep)\n",
    "    if os.path.isdir(destination_path) & os.path.exists(destination_path):\n",
    "        try:\n",
    "            files = os.listdir(destination_path)\n",
    "            for file in files:\n",
    "                file_path = os.path.join(destination_path, file)\n",
    "                if os.path.isfile(file_path):\n",
    "                    os.remove(file_path)\n",
    "            print(\"Destination directory has been emptied\")\n",
    "        except OSError:\n",
    "            print(\"Error occurred while deleting files in the destination directory\")\n",
    "    else:\n",
    "        os.mkdir(destination_path)\n",
    "    \n",
    "    destination_path = str(current_path)+'/IMAGES/VVC/'+str(qi)+'/YUV'\n",
    "    destination_path.replace(os.sep,ntpath.sep)\n",
    "    print(\"Destination: \",destination_path)\n",
    "    if os.path.isdir(destination_path) & os.path.exists(destination_path):\n",
    "        try:\n",
    "            files = os.listdir(destination_path)\n",
    "            for file in files:\n",
    "                file_path = os.path.join(destination_path, file)\n",
    "                if os.path.isfile(file_path):\n",
    "                    os.remove(file_path)\n",
    "            print(\"Destination directory has been emptied\")\n",
    "        except OSError:\n",
    "            print(\"Error occurred while deleting files in the destination directory\")\n",
    "    else:\n",
    "        os.mkdir(destination_path)\n",
    "    \n",
    "    destination_path_VVC = str(current_path)+'/IMAGES/VVC/'+str(qi)+'/VVC'\n",
    "    destination_path_VVC.replace(os.sep,ntpath.sep)\n",
    "    print(\"Destination: \",destination_path_VVC)\n",
    "    if os.path.isdir(destination_path_VVC) & os.path.exists(destination_path_VVC):\n",
    "        try:\n",
    "            files = os.listdir(destination_path_VVC)\n",
    "            for file in files:\n",
    "                file_path = os.path.join(destination_path_VVC, file)\n",
    "                if os.path.isfile(file_path):\n",
    "                    os.remove(file_path)\n",
    "            print(\"Destination directory has been emptied\")\n",
    "        except OSError:\n",
    "            print(\"Error occurred while deleting files in the destination directory\")\n",
    "    else:\n",
    "        os.mkdir(destination_path_VVC)\n",
    "    \n",
    "    log_path = str(current_path)+'/IMAGES/VVC/'+str(qi)\n",
    "    source_path.replace(os.sep,ntpath.sep)\n",
    "    source_path.replace(os.sep,ntpath.sep)\n",
    "    print(\"Log: \",log_path)\n",
    "    log = open(str(log_path)+'/psnr_yuv.txt', 'w')\n",
    "    times = []\n",
    "    psnr_list = []\n",
    "    for file in os.listdir(source_path):\n",
    "        if file.lower().endswith('.yuv'):\n",
    "            dimensions = open(source_path+'/'+str(Path(file).stem)+'.txt').readline()\n",
    "            source_file = str(source_path + '/' + file)\n",
    "            source_file.replace(os.sep,ntpath.sep)\n",
    "            destination_file = str(destination_path_VVC + '/' + str(Path(file).stem) + '.vvc')\n",
    "            destination_file.replace(os.sep,ntpath.sep)\n",
    "            starttime = timeit.default_timer()\n",
    "            output = subprocess.Popen([str(vvenc_path),'--profile','main_10_still_picture','-f','1','-c','yuv420_10','-s',str(dimensions),'--qp',str(qi),'--input',str(source_file),'--output',str(destination_file)],stdout=subprocess.PIPE).communicate()\n",
    "            endtime = timeit.default_timer()\n",
    "            execution_time = endtime - starttime - 0.2\n",
    "            psnr = str(output).split(\"\\\\n\")[20].split(\"  \")[11].strip()\n",
    "            psnr_list.append(float(psnr))\n",
    "            log.writelines([psnr,'\\n'])\n",
    "            times.append(execution_time)\n",
    "            print('Encoded', Path(file).stem, ' | Execution time: ', str(execution_time), ' seconds','\\n')\n",
    "            \n",
    "    compression_times[qi]=times"
   ],
   "metadata": {
    "collapsed": false
   },
   "id": "1ce2eb5add028f7d"
  },
  {
   "cell_type": "markdown",
   "source": [
    "## Converting VVC Images back to YUV for later comparison\n",
    "To convert images back to PNG refer to ImagePreparation"
   ],
   "metadata": {
    "collapsed": false
   },
   "id": "26894dfac7cc53af"
  },
  {
   "cell_type": "code",
   "execution_count": null,
   "outputs": [],
   "source": [
    "for qi in quantizer_parameters:\n",
    "    destination_path = str(current_path)+'/IMAGES/VVC/'+str(qi)+'/YUV'\n",
    "    destination_path.replace(os.sep,ntpath.sep)\n",
    "    print(\"Destination: \",destination_path)\n",
    "    destination_path_VVC = str(current_path)+'/IMAGES/VVC/'+str(qi)+'/VVC'\n",
    "    destination_path_VVC.replace(os.sep,ntpath.sep)\n",
    "    print(\"Destination: \",destination_path_VVC)\n",
    "    \n",
    "    for file in os.listdir(destination_path_VVC):\n",
    "        source_file = str(destination_path_VVC + '/' + file)\n",
    "        source_file.replace(os.sep,ntpath.sep)\n",
    "        destination_file = str(destination_path+ '/' + str(Path(file).stem) + '.yuv')\n",
    "        destination_file.replace(os.sep,ntpath.sep)\n",
    "        subprocess.run([str(vvdec_path),'--bitstream',str(source_file),'--output',str(destination_file)])\n",
    "        print('Decoded', Path(file).stem,'\\n\\n')"
   ],
   "metadata": {
    "collapsed": false
   },
   "id": "6c05c717effc8532"
  },
  {
   "cell_type": "markdown",
   "source": [
    "## Compute bits per pixel of cf converted images"
   ],
   "metadata": {
    "collapsed": false
   },
   "id": "e54521b65cb31911"
  },
  {
   "cell_type": "code",
   "execution_count": null,
   "outputs": [],
   "source": [
    "for qi in quantizer_parameters:\n",
    "    destination_path_VVC = str(current_path)+'/IMAGES/VVC/'+str(qi)+'/VVC'\n",
    "    destination_path_VVC.replace(os.sep,ntpath.sep)\n",
    "    print(\"Destination: \",destination_path_VVC)\n",
    "    log_path = str(current_path)+'/IMAGES/VVC/'+str(qi)\n",
    "    source_path.replace(os.sep,ntpath.sep)\n",
    "    print(\"Log: \",log_path)\n",
    "    bpp_list=[]\n",
    "    count = 0\n",
    "    log = open(str(log_path)+'/log.txt', 'w')\n",
    "    log.writelines([str(datetime.now()),'\\n'])\n",
    "    for file in os.listdir(destination_path_VVC):\n",
    "        filepath = str(destination_path_VVC) + '/' + str(file)\n",
    "        filepath.replace(os.sep,ntpath.sep)\n",
    "        file_size = os.path.getsize(filepath) * 8\n",
    "        dimensions = open(source_path+'/'+str(Path(file).stem)+'.txt').readline().split('x')\n",
    "        pixels = int(dimensions[0]) * int(dimensions [1])\n",
    "        bits_per_pixel = file_size/pixels\n",
    "        bpp_list.append(bits_per_pixel)\n",
    "        log_string = 'Image:' + str(Path(file).stem) + '.vvc\\tbpp:' + str(bits_per_pixel) + '\\tSize:' + str(file_size) + '\\tWidth:' + str(dimensions[0]) + '\\tHeight:' + str(dimensions[1]) + '\\tPixels:' + str(pixels) + '\\tCompressionTime:' + str(compression_times[qi][count])\n",
    "        log.writelines([log_string,'\\n'])\n",
    "        print(log_string)\n",
    "        count +=1\n",
    "    \n",
    "    log.writelines(['\\n',str('Average bpp in ' + str(count) + ' images is ' + str(mean(bpp_list)) + ' ± ' + str(var(bpp_list)) + ' in ' + str(mean(compression_times[qi])) + ' ± ' + str(var(compression_times[qi])) + ' s')])\n",
    "    print('\\nAverage bpp in ' + str(count) + ' images is ' + str(mean(bpp_list)) + ' ± ' + str(var(bpp_list)) + ' in ' + str(mean(compression_times[qi])) + ' ± ' + str(var(compression_times[qi])) + ' s')\n",
    "    log.close()"
   ],
   "metadata": {
    "collapsed": false
   },
   "id": "6e6a86465cd1ca58"
  }
 ],
 "metadata": {
  "kernelspec": {
   "display_name": "Python 3",
   "language": "python",
   "name": "python3"
  },
  "language_info": {
   "codemirror_mode": {
    "name": "ipython",
    "version": 2
   },
   "file_extension": ".py",
   "mimetype": "text/x-python",
   "name": "python",
   "nbconvert_exporter": "python",
   "pygments_lexer": "ipython2",
   "version": "2.7.6"
  }
 },
 "nbformat": 4,
 "nbformat_minor": 5
}
