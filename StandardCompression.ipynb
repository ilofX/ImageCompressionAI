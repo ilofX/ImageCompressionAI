{
 "cells": [
  {
   "cell_type": "markdown",
   "source": [
    "Notebook used to apply standard compression methods to Kodak dataset image for evaluation"
   ],
   "metadata": {
    "collapsed": false
   },
   "id": "749688ece484f3f5"
  },
  {
   "cell_type": "code",
   "execution_count": null,
   "outputs": [],
   "source": [],
   "metadata": {
    "collapsed": false
   },
   "id": "dbe3b0cb8325bd2a"
  }
 ],
 "metadata": {
  "kernelspec": {
   "display_name": "Python 3",
   "language": "python",
   "name": "python3"
  },
  "language_info": {
   "codemirror_mode": {
    "name": "ipython",
    "version": 2
   },
   "file_extension": ".py",
   "mimetype": "text/x-python",
   "name": "python",
   "nbconvert_exporter": "python",
   "pygments_lexer": "ipython2",
   "version": "2.7.6"
  }
 },
 "nbformat": 4,
 "nbformat_minor": 5
}
