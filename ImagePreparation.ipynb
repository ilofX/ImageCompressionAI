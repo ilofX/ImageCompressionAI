{
 "cells": [
  {
   "cell_type": "markdown",
   "source": [
    "# Utilities"
   ],
   "metadata": {
    "collapsed": false
   },
   "id": "57a655130c591dac"
  },
  {
   "cell_type": "code",
   "execution_count": null,
   "outputs": [],
   "source": [
    "import os\n",
    "from PIL import Image\n",
    "from pathlib import Path\n",
    "import glob\n",
    "import subprocess\n",
    "import shutil\n",
    "\n",
    "current_path = Path('.').resolve()\n",
    "print(str(current_path))"
   ],
   "metadata": {
    "collapsed": false
   },
   "id": "90c2dba4e60c5977"
  },
  {
   "cell_type": "markdown",
   "source": [
    "## Script to convert BMP kodak dataset images to PNG image for later comparison"
   ],
   "metadata": {
    "collapsed": false
   },
   "id": "596888f245c75fc8"
  },
  {
   "cell_type": "code",
   "execution_count": null,
   "outputs": [],
   "source": [
    "source_path = str(current_path)+'/IMAGES/BMP_IMAGES'\n",
    "print(\"Source: \",source_path)\n",
    "destination_path = str(current_path)+'/IMAGES/PNG_IMAGES'\n",
    "print(\"Destination: \",destination_path)\n",
    "if os.path.isdir(destination_path) & os.path.exists(destination_path):\n",
    "    try:\n",
    "        files = os.listdir(destination_path)\n",
    "        for file in files:\n",
    "            file_path = os.path.join(destination_path, file)\n",
    "            if os.path.isfile(file_path):\n",
    "                os.remove(file_path)\n",
    "        print(\"Destination directory has been emptied\")\n",
    "    except OSError:\n",
    "        print(\"Error occurred while deleting files in the destination directory\")\n",
    "else:\n",
    "    os.mkdir(destination_path)"
   ],
   "metadata": {
    "collapsed": false
   },
   "id": "7629479e7d30d56a"
  },
  {
   "cell_type": "code",
   "execution_count": null,
   "outputs": [],
   "source": [
    "for file in glob.glob(str(source_path)+'/*.bmp'):\n",
    "    image = Image.open(file)\n",
    "    image = image.convert('RGB')\n",
    "    print(Path(file).stem)\n",
    "    image.save(str(destination_path)+'/'+Path(file).stem+'.png','png')\n",
    "    image.close()"
   ],
   "metadata": {
    "collapsed": false
   },
   "id": "91eda2f1def0fcbd"
  },
  {
   "cell_type": "markdown",
   "source": [
    "## Script to convert PNG images in YUV lossless for VVC encoding\n",
    "In order to perform the conversion a working installation of FFmpeg is needed\n"
   ],
   "metadata": {
    "collapsed": false
   },
   "id": "dd656ef4d36d9319"
  },
  {
   "cell_type": "code",
   "execution_count": null,
   "outputs": [],
   "source": [
    "source_path = str(current_path)+'/IMAGES/PNG_IMAGES'\n",
    "print(\"Source: \",source_path)\n",
    "destination_path = str(current_path)+'/IMAGES/YUV_IMAGES'\n",
    "print(\"Destination: \",destination_path)\n",
    "if os.path.isdir(destination_path) & os.path.exists(destination_path):\n",
    "    try:\n",
    "        files = os.listdir(destination_path)\n",
    "        for file in files:\n",
    "            file_path = os.path.join(destination_path, file)\n",
    "            if os.path.isfile(file_path):\n",
    "                os.remove(file_path)\n",
    "        print(\"Destination directory has been emptied\")\n",
    "    except OSError:\n",
    "        print(\"Error occurred while deleting files in the destination directory\")\n",
    "else:\n",
    "    os.mkdir(destination_path)"
   ],
   "metadata": {
    "collapsed": false
   },
   "id": "515124966d9ffacf"
  },
  {
   "cell_type": "code",
   "execution_count": null,
   "outputs": [],
   "source": [
    "for file in os.listdir(source_path):\n",
    "    image = Image.open(source_path+'/'+file)\n",
    "    with open(str(destination_path)+'/'+str(Path(file).stem)+'.txt', 'w') as f:\n",
    "        f.write(str(image.width)+'x'+str(image.height))\n",
    "    source_file = str(source_path) + '/' + str(file)\n",
    "    destination_file = str(destination_path) + '/' + str(Path(file).stem) + '.yuv'\n",
    "    subprocess.run(['ffmpeg','-y','-i',str(source_file),'-f','rawvideo','-sws_flags','accurate_rnd+full_chroma_int+full_chroma_inp','-vf','scale=in_range=full:out_range=full,format=yuv420p10le',str(destination_file)],stdout = subprocess.DEVNULL)\n",
    "    print(Path(file).stem)"
   ],
   "metadata": {
    "collapsed": false
   },
   "id": "24c91e611b387bb2"
  },
  {
   "cell_type": "markdown",
   "source": [
    "## Script to convert YUV images back into PNG"
   ],
   "metadata": {
    "collapsed": false
   },
   "id": "6ffa38184052b3e2"
  },
  {
   "cell_type": "code",
   "execution_count": null,
   "outputs": [],
   "source": [
    "dimensions_path = str(current_path)+'/IMAGES/YUV_IMAGES'\n",
    "print('Dimensions: ',dimensions_path)\n",
    "quantizer_parameters = [42,36,33,31,30]"
   ],
   "metadata": {
    "collapsed": false
   },
   "id": "16486f6c217baa0a"
  },
  {
   "cell_type": "code",
   "execution_count": null,
   "outputs": [],
   "source": [
    "for qi in quantizer_parameters:\n",
    "    source_path = str(current_path)+'/IMAGES/VVC/'+str(qi)+'/YUV'\n",
    "    print(\"Source: \",source_path)\n",
    "    destination_path = str(current_path)+'/IMAGES/VVC/'+str(qi)\n",
    "    if os.path.isdir(destination_path) & os.path.exists(destination_path):\n",
    "        print(\"Destination: \",destination_path)\n",
    "    else:\n",
    "        os.mkdir(destination_path)\n",
    "\n",
    "    for file in os.listdir(source_path):\n",
    "        if file.lower().endswith('.yuv'):\n",
    "            dimensions = open(str(dimensions_path)+'/'+str(Path(file).stem)+'.txt').readline()\n",
    "            source_file = str(source_path) + '/' + str(file)\n",
    "            destination_file = str(destination_path) + '/' + str(Path(file).stem) + '.png'\n",
    "            subprocess.run(['ffmpeg','-y','-sws_flags','accurate_rnd+full_chroma_int+full_chroma_inp','-s',str(dimensions),'-pix_fmt','yuv420p10le','-i',str(source_file),'-f','image2','-vframes','1','-pix_fmt','rgb24',str(destination_file)],stdout = subprocess.DEVNULL)\n",
    "            print(Path(file).stem)\n"
   ],
   "metadata": {
    "collapsed": false
   },
   "id": "cbd8d3c2f32d0e20"
  },
  {
   "cell_type": "markdown",
   "source": [
    "## Extract images for downsampling and compression in order to use them in the PDF document"
   ],
   "metadata": {
    "collapsed": false
   },
   "id": "a643bfff8e8249c7"
  },
  {
   "cell_type": "code",
   "execution_count": null,
   "outputs": [],
   "source": [
    "datasets = {\n",
    "    'PNG':'/IMAGES/PNG_IMAGES',\n",
    "    'JPEG_1':'/IMAGES/JPEG/2',\n",
    "    'JPEG_2':'/IMAGES/JPEG/6',\n",
    "    'JPEG_3':'/IMAGES/JPEG/19',\n",
    "    'JPEG_4':'/IMAGES/JPEG/23',\n",
    "    'JPEG_5':'/IMAGES/JPEG/30',\n",
    "    'JPEG2000_1':'/IMAGES/JPEG2000/175',\n",
    "    'JPEG2000_2':'/IMAGES/JPEG2000/140',\n",
    "    'JPEG2000_3':'/IMAGES/JPEG2000/115',\n",
    "    'JPEG2000_4':'/IMAGES/JPEG2000/72',\n",
    "    'JPEG2000_5':'/IMAGES/JPEG2000/56',\n",
    "    'BPG_1':'/IMAGES/BPG/49',\n",
    "    'BPG_2':'/IMAGES/BPG/44',\n",
    "    'BPG_3':'/IMAGES/BPG/41',\n",
    "    'BPG_4':'/IMAGES/BPG/38',\n",
    "    'BPG_5':'/IMAGES/BPG/36',\n",
    "    'VVC_1':'/IMAGES/VVC/42',\n",
    "    'VVC_2':'/IMAGES/VVC/36',\n",
    "    'VVC_3':'/IMAGES/VVC/33',\n",
    "    'VVC_4':'/IMAGES/VVC/31',\n",
    "    'VVC_5':'/IMAGES/VVC/30',\n",
    "    'mbt2018_1':'/IMAGES/NET/mbt2018_1',\n",
    "    'mbt2018_2':'/IMAGES/NET/mbt2018_2',\n",
    "    'mbt2018_3':'/IMAGES/NET/mbt2018_3',\n",
    "    'mbt2018_4':'/IMAGES/NET/mbt2018_4',\n",
    "    'mbt2018_5':'/IMAGES/NET/mbt2018_5',\n",
    "    'mbt2018_mean_1':'/IMAGES/NET/mbt2018_mean_1',\n",
    "    'mbt2018_mean_2':'/IMAGES/NET/mbt2018_mean_2',\n",
    "    'mbt2018_mean_3':'/IMAGES/NET/mbt2018_mean_3',\n",
    "    'mbt2018_mean_4':'/IMAGES/NET/mbt2018_mean_4',\n",
    "    'mbt2018_mean_5':'/IMAGES/NET/mbt2018_mean_5',\n",
    "    'cheng2020_attn_1':'/IMAGES/NET/cheng2020_attn_1',\n",
    "    'cheng2020_attn_2':'/IMAGES/NET/cheng2020_attn_2',\n",
    "    'cheng2020_attn_3':'/IMAGES/NET/cheng2020_attn_3',\n",
    "    'cheng2020_attn_4':'/IMAGES/NET/cheng2020_attn_4',\n",
    "    'cheng2020_attn_5':'/IMAGES/NET/cheng2020_attn_5',\n",
    "    'cheng2020-anchor_1':'/IMAGES/NET/cheng2020-anchor_1',\n",
    "    'cheng2020-anchor_2':'/IMAGES/NET/cheng2020-anchor_2',\n",
    "    'cheng2020-anchor_3':'/IMAGES/NET/cheng2020-anchor_3',\n",
    "    'cheng2020-anchor_4':'/IMAGES/NET/cheng2020-anchor_4',\n",
    "    'cheng2020-anchor_5':'/IMAGES/NET/cheng2020-anchor_5'\n",
    "}"
   ],
   "metadata": {
    "collapsed": false
   },
   "id": "5f8075ae8e782e8c"
  },
  {
   "cell_type": "code",
   "execution_count": null,
   "outputs": [],
   "source": [
    "destination_path = str(current_path)+'/IMAGES/TO_PDF'\n",
    "print(\"Destination: \",destination_path)\n",
    "if os.path.isdir(destination_path) & os.path.exists(destination_path):\n",
    "    try:\n",
    "        files = os.listdir(destination_path)\n",
    "        for file in files:\n",
    "            file_path = os.path.join(destination_path, file)\n",
    "            if os.path.isfile(file_path):\n",
    "                os.remove(file_path)\n",
    "        print(\"Destination directory has been emptied\")\n",
    "    except OSError:\n",
    "        print(\"Error occurred while deleting files in the destination directory\")\n",
    "else:\n",
    "    os.mkdir(destination_path)"
   ],
   "metadata": {
    "collapsed": false
   },
   "id": "90d8b55feeaa2787"
  },
  {
   "cell_type": "code",
   "execution_count": null,
   "outputs": [],
   "source": [
    "filename_to_copy = 'IMG0004.png'\n",
    "for name, path in datasets.items():\n",
    "    source_path = str(current_path)+path\n",
    "    shutil.copy(str(source_path+'/'+filename_to_copy),str(destination_path+'/'+name+'_'+filename_to_copy))\n",
    "    print('Copied '+filename_to_copy+' from '+source_path)"
   ],
   "metadata": {
    "collapsed": false
   },
   "id": "e10ee8e58e2fb024"
  }
 ],
 "metadata": {
  "kernelspec": {
   "display_name": "Python 3",
   "language": "python",
   "name": "python3"
  },
  "language_info": {
   "codemirror_mode": {
    "name": "ipython",
    "version": 2
   },
   "file_extension": ".py",
   "mimetype": "text/x-python",
   "name": "python",
   "nbconvert_exporter": "python",
   "pygments_lexer": "ipython2",
   "version": "2.7.6"
  }
 },
 "nbformat": 4,
 "nbformat_minor": 5
}
