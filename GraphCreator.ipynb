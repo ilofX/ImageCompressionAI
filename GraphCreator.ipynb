{
 "cells": [
  {
   "cell_type": "markdown",
   "source": [
    "# Jupyter notebook used to generate all the graphs used in the thesis\n",
    "\n",
    "## Importing packages and setting export directory"
   ],
   "metadata": {
    "collapsed": false
   },
   "id": "abeab163a49e92e6"
  },
  {
   "cell_type": "code",
   "execution_count": null,
   "outputs": [],
   "source": [
    "import ntpath\n",
    "import os\n",
    "from pathlib import Path\n",
    "from matplotlib import pyplot\n",
    "import numpy\n",
    "\n",
    "current_path = Path('.').resolve()\n",
    "print('Current path: '+str(current_path))\n",
    "\n",
    "metrics_path = str(current_path) + '/METRICS'\n",
    "metrics_path.replace(os.sep,ntpath.sep)\n",
    "print(\"Metrics path: \"+metrics_path)"
   ],
   "metadata": {
    "collapsed": false
   },
   "id": "c9af0c050b005474"
  },
  {
   "cell_type": "markdown",
   "source": [
    "## Empty direcory used to save graphs"
   ],
   "metadata": {
    "collapsed": false
   },
   "id": "17c7a6ee9fd4395c"
  },
  {
   "cell_type": "code",
   "execution_count": null,
   "outputs": [],
   "source": [
    "if os.path.isdir(metrics_path) & os.path.exists(metrics_path):\n",
    "    try:\n",
    "        files = os.listdir(metrics_path)\n",
    "        for file in files:\n",
    "            file_path = os.path.join(metrics_path, file)\n",
    "            if os.path.isfile(file_path):\n",
    "                os.remove(file_path)\n",
    "        print(\"Destination directory has been emptied\")\n",
    "    except OSError:\n",
    "        print(\"Error occurred while deleting files in the destination directory\")\n",
    "else:\n",
    "    os.mkdir(metrics_path)"
   ],
   "metadata": {
    "collapsed": false
   },
   "id": "3bd56460f2cd63"
  },
  {
   "cell_type": "markdown",
   "source": [
    "## Generate time graphs at similar bits per pixel"
   ],
   "metadata": {
    "collapsed": false
   },
   "id": "fc5c453ae783bd12"
  },
  {
   "cell_type": "code",
   "execution_count": null,
   "outputs": [],
   "source": [
    "Data={  #With 0.07bpp of average\n",
    "    'bpg @ 0.065bpp':0.48995070095823695,\n",
    "    'vvc @ 0.066bpp':4.729212773624688,\n",
    "    'mbt2018 @ 0.070bpp':9.806103803457972,\n",
    "    'mbt2018_mean @ 0.080bpp':5.2947817172081,\n",
    "    'cheng2020-anchor @ 0.065bpp':18.022117284166523,\n",
    "    'cheng2020_attn @ 0.064bpp':22.662412344875065\n",
    "}\n",
    "fig, ax = pyplot.subplots(figsize =(20, 10))\n",
    "ax.barh(list(Data.keys()), list(Data.values()))\n",
    "for s in ['top', 'bottom', 'left', 'right']:\n",
    "    ax.spines[s].set_visible(False)\n",
    "ax.xaxis.set_ticks_position('none')\n",
    "ax.yaxis.set_ticks_position('none')\n",
    "ax.grid(color ='grey',linestyle ='-.', linewidth = 0.5,alpha = 0.2)\n",
    "ax.invert_yaxis()\n",
    "for i in ax.patches:\n",
    "    pyplot.text(i.get_width()+0.2, i.get_y()+0.5,str(round((i.get_width()), 2)),fontsize = 10, fontweight ='bold',color ='grey')\n",
    "ax.set_title('Tempi di compressione',loc ='center',)\n",
    "ax.set_xlabel('secondi')\n",
    "ax.set_facecolor('white')\n",
    "fig.savefig(metrics_path+'/times@0.07bpp.png')"
   ],
   "metadata": {
    "collapsed": false
   },
   "id": "469c6a82910779e7"
  },
  {
   "cell_type": "code",
   "execution_count": null,
   "outputs": [],
   "source": [
    "Data={  #With 0.16bpp of average\n",
    "    'jpeg @ 0.170bpp':0.013639834416684002 ,\n",
    "    'jpeg2000 @ 0.171bpp':2.409568108083325,\n",
    "    'bpg @ 0.134bpp':0.5195977714166323,\n",
    "    'vvc @ 0.143bpp':9.80037775933394,\n",
    "    'mbt2018 @ 0.152bpp':9.873717873916954,\n",
    "    'mbt2018_mean @ 0.169bpp':5.372051249625201,\n",
    "    'cheng2020-anchor @ 0.137bpp':34.88829531041665,\n",
    "    'cheng2020_attn @ 0.144bpp':42.46071062616662,\n",
    "}\n",
    "fig, ax = pyplot.subplots(figsize =(20, 10))\n",
    "ax.barh(list(Data.keys()), list(Data.values()))\n",
    "for s in ['top', 'bottom', 'left', 'right']:\n",
    "    ax.spines[s].set_visible(False)\n",
    "ax.xaxis.set_ticks_position('none')\n",
    "ax.yaxis.set_ticks_position('none')\n",
    "ax.grid(color ='grey',linestyle ='-.', linewidth = 0.5,alpha = 0.2)\n",
    "ax.invert_yaxis()\n",
    "for i in ax.patches:\n",
    "    pyplot.text(i.get_width()+0.2, i.get_y()+0.5,str(round((i.get_width()), 2)),fontsize = 10, fontweight ='bold',color ='grey')\n",
    "ax.set_title('Tempi di compressione',loc ='center',)\n",
    "ax.set_xlabel('secondi')\n",
    "ax.set_facecolor('white')\n",
    "fig.savefig(metrics_path+'/times@0.16bpp.png')"
   ],
   "metadata": {
    "collapsed": false
   },
   "id": "dd0a72f0a9384dfa"
  },
  {
   "cell_type": "code",
   "execution_count": null,
   "outputs": [],
   "source": [
    "Data={  #With 0.21bpp of average\n",
    "    'jpeg @ 0.203bpp':0.013771334250047099,\n",
    "    'jpeg2000 @ 0.208bpp':2.4185586675416744,\n",
    "    'bpg @ 0.205bpp':0.5434305986668733,\n",
    "    'vvc @ 0.227bpp':13.016860029792165,\n",
    "    'mbt2018 @ 0.235bpp':10.86211306020823,\n",
    "    'mbt2018_mean @ 0.252bpp':9.929884194833525,\n",
    "    'cheng2020-anchor @ 0.208bpp':35.02273952329157,\n",
    "    'cheng2020_attn @ 0.210bpp':42.12558508429189,\n",
    "}\n",
    "fig, ax = pyplot.subplots(figsize =(20, 10))\n",
    "ax.barh(list(Data.keys()), list(Data.values()))\n",
    "for s in ['top', 'bottom', 'left', 'right']:\n",
    "    ax.spines[s].set_visible(False)\n",
    "ax.xaxis.set_ticks_position('none')\n",
    "ax.yaxis.set_ticks_position('none')\n",
    "ax.grid(color ='grey',linestyle ='-.', linewidth = 0.5,alpha = 0.2)\n",
    "ax.invert_yaxis()\n",
    "for i in ax.patches:\n",
    "    pyplot.text(i.get_width()+0.2, i.get_y()+0.5,str(round((i.get_width()), 2)),fontsize = 10, fontweight ='bold',color ='grey')\n",
    "ax.set_title('Tempi di compressione',loc ='center',)\n",
    "ax.set_xlabel('secondi')\n",
    "ax.set_facecolor('white')\n",
    "fig.savefig(metrics_path+'/times@0.21bpp.png')"
   ],
   "metadata": {
    "collapsed": false
   },
   "id": "ce16053efa2d3463"
  },
  {
   "cell_type": "code",
   "execution_count": null,
   "outputs": [],
   "source": [
    "Data={  #With 0.34bpp of average\n",
    "    'jpeg @ 0.364bpp':0.014564993000097578,\n",
    "    'jpeg2000 @ 0.333bpp':2.4311407017084243,\n",
    "    'bpg @ 0.313bpp':0.5731646444999873,\n",
    "    'vvc @ 0.333bpp':16.0114228010837,\n",
    "    'mbt2018 @ 0.370bpp':10.917818456291798,\n",
    "    'mbt2018_mean @ 0.392bpp':9.932027781541668,\n",
    "    'cheng2020-anchor @ 0.330bpp':35.05963697850029,\n",
    "    'cheng2020_attn @ 0.329bpp':41.9495113379165,\n",
    "}\n",
    "fig, ax = pyplot.subplots(figsize =(20, 10))\n",
    "ax.barh(list(Data.keys()), list(Data.values()))\n",
    "for s in ['top', 'bottom', 'left', 'right']:\n",
    "    ax.spines[s].set_visible(False)\n",
    "ax.xaxis.set_ticks_position('none')\n",
    "ax.yaxis.set_ticks_position('none')\n",
    "ax.grid(color ='grey',linestyle ='-.', linewidth = 0.5,alpha = 0.2)\n",
    "ax.invert_yaxis()\n",
    "for i in ax.patches:\n",
    "    pyplot.text(i.get_width()+0.2, i.get_y()+0.5,str(round((i.get_width()), 2)),fontsize = 10, fontweight ='bold',color ='grey')\n",
    "ax.set_title('Tempi di compressione',loc ='center',)\n",
    "ax.set_xlabel('secondi')\n",
    "ax.set_facecolor('white')\n",
    "fig.savefig(metrics_path+'/times@0.34bpp.png')"
   ],
   "metadata": {
    "collapsed": false
   },
   "id": "24f1d29fd721fcb6"
  },
  {
   "cell_type": "code",
   "execution_count": null,
   "outputs": [],
   "source": [
    "Data={  #With 0.41bpp of average\n",
    "    'jpeg @ 0.426bpp':0.01490403591666715,\n",
    "    'jpeg2000 @ 0.428bpp':2.4377651163752794,\n",
    "    'bpg @ 0.418bpp':0.6024308432502039,\n",
    "    'vvc @ 0.405bpp':17.626394256833283,\n",
    "}\n",
    "fig, ax = pyplot.subplots(figsize =(20, 10))\n",
    "ax.barh(list(Data.keys()), list(Data.values()))\n",
    "for s in ['top', 'bottom', 'left', 'right']:\n",
    "    ax.spines[s].set_visible(False)\n",
    "ax.xaxis.set_ticks_position('none')\n",
    "ax.yaxis.set_ticks_position('none')\n",
    "ax.grid(color ='grey',linestyle ='-.', linewidth = 0.5,alpha = 0.2)\n",
    "ax.invert_yaxis()\n",
    "for i in ax.patches:\n",
    "    pyplot.text(i.get_width()+0.2, i.get_y()+0.5,str(round((i.get_width()), 2)),fontsize = 10, fontweight ='bold',color ='grey')\n",
    "ax.set_title('Tempi di compressione',loc ='center',)\n",
    "ax.set_xlabel('secondi')\n",
    "ax.set_facecolor('white')\n",
    "fig.savefig(metrics_path+'/times@0.41bpp.png')"
   ],
   "metadata": {
    "collapsed": false
   },
   "id": "a74ed0941c0c6dd0"
  },
  {
   "cell_type": "markdown",
   "source": [
    " ## Generate PSNR curves"
   ],
   "metadata": {
    "collapsed": false
   },
   "id": "4cefa24ef2f41b9b"
  },
  {
   "cell_type": "code",
   "execution_count": null,
   "outputs": [],
   "source": [
    "jpeg={\n",
    "    0.17052751117282447:26.312339492140648,  #2\n",
    "    0.20305988523695204:30.424711849684186,  #6\n",
    "    0.3276814884609646:35.743047180846304,   #19\n",
    "    0.3645394643147786:36.483263440110555,   #23\n",
    "    0.42681535085042316:37.3808363281515   #30\n",
    "}\n",
    "\n",
    "jpeg2k={\n",
    "    0.13709486855400935:34.24498507980687,  #175\n",
    "    0.17134428024291992:34.93961534091946,  #140\n",
    "    0.2085873285929362:35.54081208184126,   #115\n",
    "    0.33315632078382706:37.00113022802942,  #72\n",
    "    0.4284620814853244:37.793924095724286,  #56\n",
    "}\n",
    "\n",
    "bpg={\n",
    "    0.0650312105814616:32.822140599894105,  #49\n",
    "    0.13471746444702148:35.070735508846056, #44\n",
    "    0.2052165667215983:36.37092811851542,   #41\n",
    "    0.31327909893459743:37.63921272993098,  #38\n",
    "    0.4183888965182834:38.46507982922436    #36\n",
    "}\n",
    "\n",
    "vvc={\n",
    "    0.06628025902642144:36.394283333333334, #42\n",
    "    0.143296135796441:38.773208333333336,   #36\n",
    "    0.2270288997226291:39.969591666666666,  #33\n",
    "    0.33325762218899196:40.919666666666664, #31\n",
    "    0.4057654804653592:41.45304166666667    #30\n",
    "}\n",
    "\n",
    "mbt2018={\n",
    "    0.04561734026890859:34.047573433299135, #1\n",
    "    0.07026467386328202:35.25514064137991,  #2\n",
    "    0.15248025448179411:37.50188985293325,  #3\n",
    "    0.2358707224125001:38.55474681802545,   #4\n",
    "    0.37017013103222846:39.76322929115423   #5\n",
    "}\n",
    "\n",
    "mbt2018_mean={\n",
    "    0.05636531064041637:33.7804592453354,   #1\n",
    "    0.08074011361408265:34.95408722706278,  #2\n",
    "    0.1698721251557309:37.30993616841564,   #3\n",
    "    0.2528363254274247:38.39901247601778,   #4\n",
    "    0.3920703564087879:39.6664616853318     #5\n",
    "}\n",
    "\n",
    "cheng2020_anchor={\n",
    "    0.045024680664155825:33.98594413324799, #1\n",
    "    0.06556458194355518:35.11264014364486,  #2\n",
    "    0.13783132868697698:37.497374379098225, #3\n",
    "    0.20814148307862768:38.598950438659415, #4\n",
    "    0.33096039406940714:39.68142763721605   #5\n",
    "}\n",
    "\n",
    "cheng2020_attn={\n",
    "    0.04546497379199784:34.130179767750754, #1\n",
    "    0.06442321057154589:35.28109854290904,  #2\n",
    "    0.14486586070855165:37.5807962478355,   #3\n",
    "    0.21020270380806724:38.61674046488633,  #4\n",
    "    0.3294961006374712:39.67153003162533    #5\n",
    "}"
   ],
   "metadata": {
    "collapsed": false
   },
   "id": "3d5de88332142c5b"
  },
  {
   "cell_type": "code",
   "execution_count": null,
   "outputs": [],
   "source": [
    "fig, ax = pyplot.subplots(figsize =(10, 10))\n",
    "ax.plot(list(jpeg.keys()),list(jpeg.values()),marker='D',color='#e6194B',label='JPEG')\n",
    "ax.plot(list(jpeg2k.keys()),list(jpeg2k.values()),marker='D',color='#3cb44b',label='JPEG2000')\n",
    "ax.plot(list(bpg.keys()),list(bpg.values()),marker='D',color='#ffe119',label='BPG')\n",
    "ax.plot(list(vvc.keys()),list(vvc.values()),marker='D',color='#4363d8',label='VVC')\n",
    "ax.plot(list(mbt2018.keys()),list(mbt2018.values()),marker='D',color='#f58231',label='mbt2018')\n",
    "ax.plot(list(mbt2018_mean.keys()),list(mbt2018_mean.values()),marker='D',color='#42d4f4',label='mbt2018_mean')\n",
    "ax.plot(list(cheng2020_anchor.keys()),list(cheng2020_anchor.values()),marker='D',color='#f032e6',label='cheng2020-anchor')\n",
    "ax.plot(list(cheng2020_attn.keys()),list(cheng2020_attn.values()),marker='D',color='#000075',label='cheng2020_attn')\n",
    "ax.grid(color ='grey',linestyle ='-.', linewidth = 0.5,alpha = 0.2)\n",
    "ax.set_yscale('log')\n",
    "ax.yaxis.set_ticks(numpy.arange(24, 44, 2))\n",
    "ax.set_xlabel('bits per pixel')\n",
    "ax.set_ylabel('decibel')\n",
    "ax.set_title('PSNR in dB',loc ='center',)\n",
    "ax.set_facecolor('white')\n",
    "ax.legend()\n",
    "fig.savefig(metrics_path+'/PSNR.png')"
   ],
   "metadata": {
    "collapsed": false
   },
   "id": "5fb010770ee45f8f"
  },
  {
   "cell_type": "markdown",
   "source": [
    "## Generate MS-SSIM curves"
   ],
   "metadata": {
    "collapsed": false
   },
   "id": "a0e989bfbdda3a36"
  },
  {
   "cell_type": "code",
   "execution_count": null,
   "outputs": [],
   "source": [
    "jpeg={\n",
    "    0.17052751117282447:0.7356188297271729, # 2\n",
    "    0.20305988523695204:0.830731026828289,  # 6\n",
    "    0.3276814884609646:0.9347662155826887,  # 19\n",
    "    0.3645394643147786:0.9452430034677187,  # 23\n",
    "    0.42681535085042316:0.9571480403343836  # 30\n",
    "}\n",
    "\n",
    "jpeg2k={\n",
    "    0.13709486855400935:0.9207179720203081, # 175\n",
    "    0.17134428024291992:0.9318897649645805, # 140\n",
    "    0.2085873285929362:0.9407893667618433,  # 115\n",
    "    0.33315632078382706:0.9583987519145012, # 72\n",
    "    0.4284620814853244:0.9659469823042551,  # 56\n",
    "}\n",
    "\n",
    "bpg={\n",
    "    0.0650312105814616:0.8983504374821981,  # 49\n",
    "    0.13471746444702148:0.9371723408500353, # 44\n",
    "    0.2052165667215983:0.9530611162384351,  # 41\n",
    "    0.31327909893459743:0.965385265648365,  # 38\n",
    "    0.4183888965182834:0.9718953594565392   # 36\n",
    "}\n",
    "\n",
    "vvc={\n",
    "    0.06628025902642144:0.9354828149080276, # 42\n",
    "    0.143296135796441:0.9543559600909551,   # 36\n",
    "    0.2270288997226291:0.9618773857752482,  # 33\n",
    "    0.33325762218899196:0.9697830616235733, # 31\n",
    "    0.4057654804653592:0.9739408093690872   # 30\n",
    "}\n",
    "\n",
    "mbt2018={\n",
    "    0.04561734026890859:0.9257692471146584, # 1\n",
    "    0.07026467386328202:0.9421621089180311, # 2\n",
    "    0.15248025448179411:0.9655311132470766, # 3\n",
    "    0.2358707224125001:0.9734580268462499,  # 4\n",
    "    0.37017013103222846:0.9810972784956297  # 5\n",
    "}\n",
    "\n",
    "mbt2018_mean={\n",
    "    0.05636531064041637:0.9238744626442591, # 1\n",
    "    0.08074011361408265:0.9409189174572626, # 2\n",
    "    0.1698721251557309:0.964307943979899,   # 3\n",
    "    0.2528363254274247:0.972905844449997,   # 4\n",
    "    0.3920703564087879:0.9805508404970169   # 5\n",
    "}\n",
    "cheng2020_anchor={\n",
    "    0.045024680664155825:0.9236228168010712,# 1\n",
    "    0.06556458194355518:0.9389806538820267, # 2\n",
    "    0.13783132868697698:0.9647925421595573, # 3\n",
    "    0.20814148307862768:0.9731452042857806, # 4\n",
    "    0.33096039406940714:0.9804032544294993  # 5\n",
    "}\n",
    "\n",
    "cheng2020_attn={\n",
    "    0.04546497379199784:0.9285851195454597, # 1\n",
    "    0.06442321057154589:0.9435561796029409, # 2\n",
    "    0.14486586070855165:0.9660291597247124, # 3\n",
    "    0.21020270380806724:0.9729171420137087, # 4\n",
    "    0.3294961006374712:0.9801052634914716   # 5\n",
    "}"
   ],
   "metadata": {
    "collapsed": false
   },
   "id": "5bdf0d9c1fd7dc41"
  },
  {
   "cell_type": "code",
   "execution_count": null,
   "outputs": [],
   "source": [
    "fig, ax = pyplot.subplots(figsize =(10, 10))\n",
    "ax.plot(list(jpeg.keys()),list(jpeg.values()),marker='D',color='#e6194B',label='JPEG')\n",
    "ax.plot(list(jpeg2k.keys()),list(jpeg2k.values()),marker='D',color='#3cb44b',label='JPEG2000')\n",
    "ax.plot(list(bpg.keys()),list(bpg.values()),marker='D',color='#ffe119',label='BPG')\n",
    "ax.plot(list(vvc.keys()),list(vvc.values()),marker='D',color='#4363d8',label='VVC')\n",
    "ax.plot(list(mbt2018.keys()),list(mbt2018.values()),marker='D',color='#f58231',label='mbt2018')\n",
    "ax.plot(list(mbt2018_mean.keys()),list(mbt2018_mean.values()),marker='D',color='#42d4f4',label='mbt2018_mean')\n",
    "ax.plot(list(cheng2020_anchor.keys()),list(cheng2020_anchor.values()),marker='D',color='#f032e6',label='cheng2020-anchor')\n",
    "ax.plot(list(cheng2020_attn.keys()),list(cheng2020_attn.values()),marker='D',color='#000075',label='cheng2020_attn')\n",
    "ax.grid(color ='grey',linestyle ='-.', linewidth = 0.5,alpha = 0.2)\n",
    "ax.set_yscale('linear')\n",
    "ax.set_xlabel('bits per pixel')\n",
    "ax.set_title('MS-SSIM',loc ='center',)\n",
    "ax.set_facecolor('white')\n",
    "ax.legend()\n",
    "fig.savefig(metrics_path+'/MS-SSIM.png')"
   ],
   "metadata": {
    "collapsed": false
   },
   "id": "354d41077a1f3218"
  },
  {
   "cell_type": "markdown",
   "source": [
    "## Generate LPIPS curves"
   ],
   "metadata": {
    "collapsed": false
   },
   "id": "9bf904f2f7b51a07"
  },
  {
   "cell_type": "code",
   "execution_count": null,
   "outputs": [],
   "source": [
    "jpeg={\n",
    "    0.17052751117282447:0.6631577834486961, # 2\n",
    "    0.20305988523695204:0.5392490836481253, # 6\n",
    "    0.3276814884609646:0.3178561857591073,  # 19\n",
    "    0.3645394643147786:0.28937214364608127, # 23\n",
    "    0.42681535085042316:0.2507543560738365  # 30\n",
    "}\n",
    "\n",
    "jpeg2k={\n",
    "    0.13709486855400935:0.40316833928227425,# 175\n",
    "    0.17134428024291992:0.37787910364568233,# 140\n",
    "    0.2085873285929362:0.35643740619222325, # 115\n",
    "    0.33315632078382706:0.3065527317424615, # 72\n",
    "    0.4284620814853244:0.27832247596234083, # 56\n",
    "}\n",
    "\n",
    "bpg={\n",
    "    0.0650312105814616:0.42289962122837704, # 49\n",
    "    0.13471746444702148:0.3510274576644103, # 44\n",
    "    0.2052165667215983:0.31325877644121647, # 41\n",
    "    0.31327909893459743:0.27501035047074157,# 38\n",
    "    0.4183888965182834:0.25004428531974554  # 36\n",
    "}\n",
    "\n",
    "vvc={\n",
    "    0.06628025902642144:0.3353541971494754, # 42\n",
    "    0.143296135796441:0.28234044648706913,  # 36\n",
    "    0.2270288997226291:0.24533661703268686, # 33\n",
    "    0.33325762218899196:0.1898775634666284, # 31\n",
    "    0.4057654804653592:0.1644100584089756   # 30\n",
    "}\n",
    "\n",
    "mbt2018={\n",
    "    0.04561734026890859:0.3847244406739871, # 1\n",
    "    0.07026467386328202:0.36585865542292595,# 2\n",
    "    0.15248025448179411:0.2948425089319547, # 3\n",
    "    0.2358707224125001:0.26496101046601933, # 4\n",
    "    0.37017013103222846:0.2079391162842512  # 5\n",
    "}\n",
    "\n",
    "mbt2018_mean={\n",
    "    0.05636531064041637:0.3919284312675397, # 1\n",
    "    0.08074011361408265:0.3538267966359854, # 2\n",
    "    0.1698721251557309:0.2999054839213689,  # 3\n",
    "    0.2528363254274247:0.2762705671290557,  # 4\n",
    "    0.3920703564087879:0.22843919383982816  # 5\n",
    "}\n",
    "\n",
    "cheng2020_anchor={\n",
    "    0.045024680664155825:0.37659189229210216,# 1\n",
    "    0.06556458194355518:0.3466044683009386,  # 2\n",
    "    0.13783132868697698:0.29568548190097016, # 3\n",
    "    0.20814148307862768:0.27169970360894996, # 4\n",
    "    0.33096039406940714:0.22506484078864256  # 5\n",
    "}\n",
    "\n",
    "cheng2020_attn={\n",
    "    0.04546497379199784:0.3890660498291254, # 1\n",
    "    0.06442321057154589:0.3590005387862523, # 2\n",
    "    0.14486586070855165:0.2949720298250516, # 3\n",
    "    0.21020270380806724:0.27201627288013697,# 4\n",
    "    0.3294961006374712:0.23181265903015932  # 5\n",
    "}"
   ],
   "metadata": {
    "collapsed": false
   },
   "id": "d4cb41b9c11be6bf"
  },
  {
   "cell_type": "code",
   "execution_count": null,
   "outputs": [],
   "source": [
    "fig, ax = pyplot.subplots(figsize =(10, 10))\n",
    "ax.plot(list(jpeg.keys()),list(jpeg.values()),marker='D',color='#e6194B',label='JPEG')\n",
    "ax.plot(list(jpeg2k.keys()),list(jpeg2k.values()),marker='D',color='#3cb44b',label='JPEG2000')\n",
    "ax.plot(list(bpg.keys()),list(bpg.values()),marker='D',color='#ffe119',label='BPG')\n",
    "ax.plot(list(vvc.keys()),list(vvc.values()),marker='D',color='#4363d8',label='VVC')\n",
    "ax.plot(list(mbt2018.keys()),list(mbt2018.values()),marker='D',color='#f58231',label='mbt2018')\n",
    "ax.plot(list(mbt2018_mean.keys()),list(mbt2018_mean.values()),marker='D',color='#42d4f4',label='mbt2018_mean')\n",
    "ax.plot(list(cheng2020_anchor.keys()),list(cheng2020_anchor.values()),marker='D',color='#f032e6',label='cheng2020-anchor')\n",
    "ax.plot(list(cheng2020_attn.keys()),list(cheng2020_attn.values()),marker='D',color='#000075',label='cheng2020_attn')\n",
    "ax.grid(color ='grey',linestyle ='-.', linewidth = 0.5,alpha = 0.2)\n",
    "ax.set_yscale('linear')\n",
    "ax.set_xlabel('bits per pixel')\n",
    "ax.set_ylabel('distanza')\n",
    "ax.set_title('LPIPS con AlexNet',loc ='center',)\n",
    "ax.set_facecolor('white')\n",
    "ax.legend()\n",
    "fig.savefig(metrics_path+'/LPIPS.png')"
   ],
   "metadata": {
    "collapsed": false
   },
   "id": "235929b289312741"
  }
 ],
 "metadata": {
  "kernelspec": {
   "display_name": "Python 3",
   "language": "python",
   "name": "python3"
  },
  "language_info": {
   "codemirror_mode": {
    "name": "ipython",
    "version": 2
   },
   "file_extension": ".py",
   "mimetype": "text/x-python",
   "name": "python",
   "nbconvert_exporter": "python",
   "pygments_lexer": "ipython2",
   "version": "2.7.6"
  }
 },
 "nbformat": 4,
 "nbformat_minor": 5
}
