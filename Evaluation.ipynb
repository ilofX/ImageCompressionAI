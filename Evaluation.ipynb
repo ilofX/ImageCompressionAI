{
 "cells": [
  {
   "cell_type": "markdown",
   "source": [
    "# Jupyter notebook to compute metrics for performance comparison\n",
    "## importing packages and building dataset path"
   ],
   "metadata": {
    "collapsed": false
   },
   "id": "dd7b61497a51eb85"
  },
  {
   "cell_type": "code",
   "execution_count": 1,
   "outputs": [
    {
     "name": "stderr",
     "output_type": "stream",
     "text": [
      "/home/filippo/anaconda3/envs/imageCompressionAI/lib/python3.11/site-packages/torchvision/io/image.py:13: UserWarning: Failed to load image Python extension: 'libc10_cuda.so: cannot open shared object file: No such file or directory'If you don't plan on using image functionality from `torchvision.io`, you can ignore this warning. Otherwise, there might be something wrong with your environment. Did you have `libjpeg` or `libpng` installed before building `torchvision` from source?\n",
      "  warn(\n"
     ]
    },
    {
     "name": "stdout",
     "output_type": "stream",
     "text": [
      "Setting up [LPIPS] perceptual loss: trunk [alex], v[0.1], spatial [off]\n"
     ]
    },
    {
     "name": "stderr",
     "output_type": "stream",
     "text": [
      "/home/filippo/anaconda3/envs/imageCompressionAI/lib/python3.11/site-packages/torchvision/models/_utils.py:208: UserWarning: The parameter 'pretrained' is deprecated since 0.13 and may be removed in the future, please use 'weights' instead.\n",
      "  warnings.warn(\n",
      "/home/filippo/anaconda3/envs/imageCompressionAI/lib/python3.11/site-packages/torchvision/models/_utils.py:223: UserWarning: Arguments other than a weight enum or `None` for 'weights' are deprecated since 0.13 and may be removed in the future. The current behavior is equivalent to passing `weights=AlexNet_Weights.IMAGENET1K_V1`. You can also use `weights=AlexNet_Weights.DEFAULT` to get the most up-to-date weights.\n",
      "  warnings.warn(msg)\n"
     ]
    },
    {
     "name": "stdout",
     "output_type": "stream",
     "text": [
      "Loading model from: /home/filippo/anaconda3/envs/imageCompressionAI/lib/python3.11/site-packages/lpips/weights/v0.1/alex.pth\n",
      "/home/filippo/DataspellProjects/ImageCompressionAI\n",
      "Reference source:  /home/filippo/DataspellProjects/ImageCompressionAI/IMAGES/PNG_IMAGES\n"
     ]
    }
   ],
   "source": [
    "from pathlib import Path\n",
    "import lpips\n",
    "import numpy\n",
    "import glob\n",
    "import torch\n",
    "from skimage import metrics\n",
    "from torchvision import transforms\n",
    "from pytorch_msssim import ms_ssim\n",
    "from PIL import Image\n",
    "from datetime import datetime\n",
    "from numpy import mean\n",
    "\n",
    "device = 'cuda' if torch.cuda.is_available() else 'cpu'\n",
    "\n",
    "loss_fn_alex = lpips.LPIPS(net='alex')\n",
    "\n",
    "current_path = Path('.').resolve()\n",
    "print(str(current_path))\n",
    "\n",
    "reference_path = str(current_path)+'/IMAGES/PNG_IMAGES'\n",
    "print(\"Reference source: \",reference_path)"
   ],
   "metadata": {
    "collapsed": false,
    "ExecuteTime": {
     "end_time": "2023-10-25T15:30:01.605699292Z",
     "start_time": "2023-10-25T15:30:00.166628494Z"
    }
   },
   "id": "90e2a20ec9c178b5"
  },
  {
   "cell_type": "markdown",
   "source": [
    "## Preparing vector of folders to compare"
   ],
   "metadata": {
    "collapsed": false
   },
   "id": "6be3f8150a66a3ea"
  },
  {
   "cell_type": "code",
   "execution_count": 2,
   "outputs": [],
   "source": [
    "datasets = {\n",
    "    'JPEG_1':'/IMAGES/JPEG/2',\n",
    "    'JPEG_2':'/IMAGES/JPEG/6',\n",
    "    'JPEG_3':'/IMAGES/JPEG/19',\n",
    "    'JPEG_4':'/IMAGES/JPEG/23',\n",
    "    'JPEG_5':'/IMAGES/JPEG/30',\n",
    "    'JPEG2000_1':'/IMAGES/JPEG2000/175',\n",
    "    'JPEG2000_2':'/IMAGES/JPEG2000/140',\n",
    "    'JPEG2000_3':'/IMAGES/JPEG2000/115',\n",
    "    'JPEG2000_4':'/IMAGES/JPEG2000/72',\n",
    "    'JPEG2000_5':'/IMAGES/JPEG2000/56',\n",
    "    'BPG_1':'/IMAGES/BPG/49',\n",
    "    'BPG_2':'/IMAGES/BPG/44',\n",
    "    'BPG_3':'/IMAGES/BPG/41',\n",
    "    'BPG_4':'/IMAGES/BPG/38',\n",
    "    'BPG_5':'/IMAGES/BPG/36',\n",
    "    'VVC_1':'/IMAGES/VVC/42',\n",
    "    'VVC_2':'/IMAGES/VVC/36',\n",
    "    'VVC_3':'/IMAGES/VVC/33',\n",
    "    'VVC_4':'/IMAGES/VVC/31',\n",
    "    'VVC_5':'/IMAGES/VVC/30',\n",
    "    'mbt2018_1':'/IMAGES/NET/mbt2018_1',\n",
    "    'mbt2018_2':'/IMAGES/NET/mbt2018_2',\n",
    "    'mbt2018_3':'/IMAGES/NET/mbt2018_3',\n",
    "    'mbt2018_4':'/IMAGES/NET/mbt2018_4',\n",
    "    'mbt2018_5':'/IMAGES/NET/mbt2018_5',\n",
    "    'mbt2018_mean_1':'/IMAGES/NET/mbt2018_mean_1',\n",
    "    'mbt2018_mean_2':'/IMAGES/NET/mbt2018_mean_2',\n",
    "    'mbt2018_mean_3':'/IMAGES/NET/mbt2018_mean_3',\n",
    "    'mbt2018_mean_4':'/IMAGES/NET/mbt2018_mean_4',\n",
    "    'mbt2018_mean_5':'/IMAGES/NET/mbt2018_mean_5',\n",
    "    'cheng2020_attn_1':'/IMAGES/NET/cheng2020_attn_1',\n",
    "    'cheng2020_attn_2':'/IMAGES/NET/cheng2020_attn_2',\n",
    "    'cheng2020_attn_3':'/IMAGES/NET/cheng2020_attn_3',\n",
    "    'cheng2020_attn_4':'/IMAGES/NET/cheng2020_attn_4',\n",
    "    'cheng2020_attn_5':'/IMAGES/NET/cheng2020_attn_5',\n",
    "    'cheng2020-anchor_1':'/IMAGES/NET/cheng2020-anchor_1',\n",
    "    'cheng2020-anchor_2':'/IMAGES/NET/cheng2020-anchor_2',\n",
    "    'cheng2020-anchor_3':'/IMAGES/NET/cheng2020-anchor_3',\n",
    "    'cheng2020-anchor_4':'/IMAGES/NET/cheng2020-anchor_4',\n",
    "    'cheng2020-anchor_5':'/IMAGES/NET/cheng2020-anchor_5' \n",
    "}"
   ],
   "metadata": {
    "collapsed": false,
    "ExecuteTime": {
     "end_time": "2023-10-25T15:30:04.637263617Z",
     "start_time": "2023-10-25T15:30:04.632009986Z"
    }
   },
   "id": "6fa5a4148e4c1b16"
  },
  {
   "cell_type": "markdown",
   "source": [
    "## Computing metrics"
   ],
   "metadata": {
    "collapsed": false
   },
   "id": "13d1d114ef188813"
  },
  {
   "cell_type": "code",
   "execution_count": 3,
   "outputs": [
    {
     "name": "stdout",
     "output_type": "stream",
     "text": [
      "Evaluating VVC_1 with dataset: /home/filippo/DataspellProjects/ImageCompressionAI/IMAGES/VVC/42\n",
      "IMG0001\tPSNR: 28.41212904349429 dB\tMS-SSIM: 0.9405682682991028\tLPIPS_AlexNet: 0.26251399517059326\n",
      "IMG0002\tPSNR: 27.106729288623804 dB\tMS-SSIM: 0.8732433915138245\tLPIPS_AlexNet: 0.30482017993927\n",
      "IMG0003\tPSNR: 30.314984649285137 dB\tMS-SSIM: 0.9633026123046875\tLPIPS_AlexNet: 0.29058972001075745\n",
      "IMG0004\tPSNR: 28.75642282498227 dB\tMS-SSIM: 0.930821418762207\tLPIPS_AlexNet: 0.27686867117881775\n",
      "IMG0005\tPSNR: 27.761261352906182 dB\tMS-SSIM: 0.9579716324806213\tLPIPS_AlexNet: 0.17940738797187805\n",
      "IMG0006\tPSNR: 28.10852391957627 dB\tMS-SSIM: 0.9509099125862122\tLPIPS_AlexNet: 0.2156308889389038\n",
      "IMG0007\tPSNR: 30.393622347275063 dB\tMS-SSIM: 0.9649496078491211\tLPIPS_AlexNet: 0.292732834815979\n",
      "IMG0008\tPSNR: 26.32019545869594 dB\tMS-SSIM: 0.9246034622192383\tLPIPS_AlexNet: 0.37946832180023193\n",
      "IMG0009\tPSNR: 29.22943253920112 dB\tMS-SSIM: 0.9334524273872375\tLPIPS_AlexNet: 0.5371919274330139\n",
      "IMG0010\tPSNR: 29.90451736897345 dB\tMS-SSIM: 0.9323737621307373\tLPIPS_AlexNet: 0.5300496220588684\n",
      "IMG0011\tPSNR: 28.657671885697468 dB\tMS-SSIM: 0.9311867356300354\tLPIPS_AlexNet: 0.2915012538433075\n",
      "IMG0012\tPSNR: 27.95721552501572 dB\tMS-SSIM: 0.9630911946296692\tLPIPS_AlexNet: 0.2595245838165283\n",
      "IMG0013\tPSNR: 26.238383979143094 dB\tMS-SSIM: 0.9195286631584167\tLPIPS_AlexNet: 0.3686978816986084\n",
      "IMG0014\tPSNR: 27.89495982804404 dB\tMS-SSIM: 0.9444459080696106\tLPIPS_AlexNet: 0.2718421518802643\n",
      "IMG0015\tPSNR: 26.445032255208343 dB\tMS-SSIM: 0.9397274851799011\tLPIPS_AlexNet: 0.23866762220859528\n",
      "IMG0016\tPSNR: 29.460004675325898 dB\tMS-SSIM: 0.9506034851074219\tLPIPS_AlexNet: 0.2965626120567322\n",
      "IMG0017\tPSNR: 27.90160578171166 dB\tMS-SSIM: 0.9041079878807068\tLPIPS_AlexNet: 0.5312721729278564\n",
      "IMG0018\tPSNR: 25.831702570996285 dB\tMS-SSIM: 0.8791821599006653\tLPIPS_AlexNet: 0.586820662021637\n",
      "IMG0019\tPSNR: 28.812120755053236 dB\tMS-SSIM: 0.9326703548431396\tLPIPS_AlexNet: 0.36612263321876526\n",
      "IMG0020\tPSNR: 26.156265400003043 dB\tMS-SSIM: 0.9462882876396179\tLPIPS_AlexNet: 0.3348654508590698\n",
      "IMG0021\tPSNR: 28.514185052116705 dB\tMS-SSIM: 0.929912805557251\tLPIPS_AlexNet: 0.40661191940307617\n",
      "IMG0022\tPSNR: 28.925351513095666 dB\tMS-SSIM: 0.9246721267700195\tLPIPS_AlexNet: 0.36793285608291626\n",
      "IMG0023\tPSNR: 28.777188688117427 dB\tMS-SSIM: 0.9545755386352539\tLPIPS_AlexNet: 0.27935945987701416\n",
      "IMG0024\tPSNR: 29.422568422615267 dB\tMS-SSIM: 0.9582090973854065\tLPIPS_AlexNet: 0.17944592237472534\n",
      "\n",
      "Average in 24 images\n",
      "PSNR: 28.22091979688156dB\tMS-SSIM: 0.9354332635800043\tLPIPS_AlexNet: 0.3353541971494754\n",
      "Evaluating VVC_2 with dataset: /home/filippo/DataspellProjects/ImageCompressionAI/IMAGES/VVC/36\n",
      "IMG0001\tPSNR: 29.535372900249996 dB\tMS-SSIM: 0.9669821262359619\tLPIPS_AlexNet: 0.16296324133872986\n",
      "IMG0002\tPSNR: 27.65589087162661 dB\tMS-SSIM: 0.902263343334198\tLPIPS_AlexNet: 0.22264744341373444\n",
      "IMG0003\tPSNR: 30.601822148676646 dB\tMS-SSIM: 0.9722105860710144\tLPIPS_AlexNet: 0.26973748207092285\n",
      "IMG0004\tPSNR: 29.330198990800408 dB\tMS-SSIM: 0.955265998840332\tLPIPS_AlexNet: 0.21165163815021515\n",
      "IMG0005\tPSNR: 28.280857887916014 dB\tMS-SSIM: 0.9715645909309387\tLPIPS_AlexNet: 0.1374080926179886\n",
      "IMG0006\tPSNR: 28.77863932764013 dB\tMS-SSIM: 0.9711974263191223\tLPIPS_AlexNet: 0.1661621332168579\n",
      "IMG0007\tPSNR: 30.74496081433642 dB\tMS-SSIM: 0.9721453785896301\tLPIPS_AlexNet: 0.27432411909103394\n",
      "IMG0008\tPSNR: 27.154039637187218 dB\tMS-SSIM: 0.9475901126861572\tLPIPS_AlexNet: 0.3253733515739441\n",
      "IMG0009\tPSNR: 29.53137255405626 dB\tMS-SSIM: 0.941400945186615\tLPIPS_AlexNet: 0.5284315347671509\n",
      "IMG0010\tPSNR: 30.233686696935905 dB\tMS-SSIM: 0.9432632327079773\tLPIPS_AlexNet: 0.5258564949035645\n",
      "IMG0011\tPSNR: 29.391891004103023 dB\tMS-SSIM: 0.9552717804908752\tLPIPS_AlexNet: 0.23219381272792816\n",
      "IMG0012\tPSNR: 28.14732649463137 dB\tMS-SSIM: 0.9757228493690491\tLPIPS_AlexNet: 0.2155555784702301\n",
      "IMG0013\tPSNR: 27.650736197891362 dB\tMS-SSIM: 0.9560637474060059\tLPIPS_AlexNet: 0.23561915755271912\n",
      "IMG0014\tPSNR: 28.513683497721605 dB\tMS-SSIM: 0.9654746651649475\tLPIPS_AlexNet: 0.19723379611968994\n",
      "IMG0015\tPSNR: 26.683830022525143 dB\tMS-SSIM: 0.9588633179664612\tLPIPS_AlexNet: 0.16514785587787628\n",
      "IMG0016\tPSNR: 30.157372326519784 dB\tMS-SSIM: 0.9695422649383545\tLPIPS_AlexNet: 0.2462073713541031\n",
      "IMG0017\tPSNR: 28.23126582192398 dB\tMS-SSIM: 0.918842077255249\tLPIPS_AlexNet: 0.5196876525878906\n",
      "IMG0018\tPSNR: 26.5234639945273 dB\tMS-SSIM: 0.9158477783203125\tLPIPS_AlexNet: 0.5163354277610779\n",
      "IMG0019\tPSNR: 29.39245862340195 dB\tMS-SSIM: 0.951790988445282\tLPIPS_AlexNet: 0.31917163729667664\n",
      "IMG0020\tPSNR: 26.37926401639303 dB\tMS-SSIM: 0.9580721855163574\tLPIPS_AlexNet: 0.29307666420936584\n",
      "IMG0021\tPSNR: 29.26928710304825 dB\tMS-SSIM: 0.9459217190742493\tLPIPS_AlexNet: 0.35513928532600403\n",
      "IMG0022\tPSNR: 29.664905960677288 dB\tMS-SSIM: 0.9515761733055115\tLPIPS_AlexNet: 0.2897716760635376\n",
      "IMG0023\tPSNR: 28.96902432372635 dB\tMS-SSIM: 0.9642577171325684\tLPIPS_AlexNet: 0.24967235326766968\n",
      "IMG0024\tPSNR: 30.177661867041067 dB\tMS-SSIM: 0.9734120965003967\tLPIPS_AlexNet: 0.11680291593074799\n",
      "\n",
      "Average in 24 images\n",
      "PSNR: 28.791625545148218dB\tMS-SSIM: 0.954355962574482\tLPIPS_AlexNet: 0.28234044648706913\n",
      "Evaluating VVC_3 with dataset: /home/filippo/DataspellProjects/ImageCompressionAI/IMAGES/VVC/33\n",
      "IMG0001\tPSNR: 29.919875292347523 dB\tMS-SSIM: 0.9739294648170471\tLPIPS_AlexNet: 0.1290648728609085\n",
      "IMG0002\tPSNR: 27.847415103021795 dB\tMS-SSIM: 0.9125693440437317\tLPIPS_AlexNet: 0.18200932443141937\n",
      "IMG0003\tPSNR: 30.68233784064681 dB\tMS-SSIM: 0.9748775959014893\tLPIPS_AlexNet: 0.2607806921005249\n",
      "IMG0004\tPSNR: 29.526767779704674 dB\tMS-SSIM: 0.9628936648368835\tLPIPS_AlexNet: 0.18255320191383362\n",
      "IMG0005\tPSNR: 28.450959001924325 dB\tMS-SSIM: 0.9755298495292664\tLPIPS_AlexNet: 0.12343790382146835\n",
      "IMG0006\tPSNR: 28.984674150948212 dB\tMS-SSIM: 0.9765167236328125\tLPIPS_AlexNet: 0.14558354020118713\n",
      "IMG0007\tPSNR: 30.840117873986763 dB\tMS-SSIM: 0.9745365977287292\tLPIPS_AlexNet: 0.26496121287345886\n",
      "IMG0008\tPSNR: 27.460162351968794 dB\tMS-SSIM: 0.9565205574035645\tLPIPS_AlexNet: 0.28618568181991577\n",
      "IMG0009\tPSNR: 29.716291390145884 dB\tMS-SSIM: 0.9509463906288147\tLPIPS_AlexNet: 0.4775002896785736\n",
      "IMG0010\tPSNR: 30.43688329306274 dB\tMS-SSIM: 0.9528427720069885\tLPIPS_AlexNet: 0.4828885495662689\n",
      "IMG0011\tPSNR: 29.64891267375831 dB\tMS-SSIM: 0.9625720381736755\tLPIPS_AlexNet: 0.2062252312898636\n",
      "IMG0012\tPSNR: 28.204632217356437 dB\tMS-SSIM: 0.9795188307762146\tLPIPS_AlexNet: 0.19665129482746124\n",
      "IMG0013\tPSNR: 28.15889029328916 dB\tMS-SSIM: 0.9653940796852112\tLPIPS_AlexNet: 0.17599089443683624\n",
      "IMG0014\tPSNR: 28.70523077801234 dB\tMS-SSIM: 0.9712372422218323\tLPIPS_AlexNet: 0.16820862889289856\n",
      "IMG0015\tPSNR: 26.770177676035022 dB\tMS-SSIM: 0.964930534362793\tLPIPS_AlexNet: 0.13798420131206512\n",
      "IMG0016\tPSNR: 30.370036675339286 dB\tMS-SSIM: 0.9746429324150085\tLPIPS_AlexNet: 0.22520267963409424\n",
      "IMG0017\tPSNR: 28.42088273430501 dB\tMS-SSIM: 0.9285898804664612\tLPIPS_AlexNet: 0.46302881836891174\n",
      "IMG0018\tPSNR: 26.952443364503154 dB\tMS-SSIM: 0.9364309906959534\tLPIPS_AlexNet: 0.3574311435222626\n",
      "IMG0019\tPSNR: 29.62341868725288 dB\tMS-SSIM: 0.960482120513916\tLPIPS_AlexNet: 0.286269873380661\n",
      "IMG0020\tPSNR: 26.457923858308135 dB\tMS-SSIM: 0.9628874659538269\tLPIPS_AlexNet: 0.27186208963394165\n",
      "IMG0021\tPSNR: 29.609812303631564 dB\tMS-SSIM: 0.9574110507965088\tLPIPS_AlexNet: 0.32364708185195923\n",
      "IMG0022\tPSNR: 29.951431058992974 dB\tMS-SSIM: 0.9619209170341492\tLPIPS_AlexNet: 0.24312295019626617\n",
      "IMG0023\tPSNR: 29.055358069982525 dB\tMS-SSIM: 0.9700271487236023\tLPIPS_AlexNet: 0.20124439895153046\n",
      "IMG0024\tPSNR: 30.42887519678606 dB\tMS-SSIM: 0.9778488278388977\tLPIPS_AlexNet: 0.09624425321817398\n",
      "\n",
      "Average in 24 images\n",
      "PSNR: 29.009312902721266dB\tMS-SSIM: 0.9618773758411407\tLPIPS_AlexNet: 0.24533661703268686\n",
      "Evaluating VVC_4 with dataset: /home/filippo/DataspellProjects/ImageCompressionAI/IMAGES/VVC/31\n",
      "IMG0001\tPSNR: 30.102699157420766 dB\tMS-SSIM: 0.9770183563232422\tLPIPS_AlexNet: 0.11076685041189194\n",
      "IMG0002\tPSNR: 27.968964650310674 dB\tMS-SSIM: 0.9183617234230042\tLPIPS_AlexNet: 0.15051157772541046\n",
      "IMG0003\tPSNR: 30.733744710978993 dB\tMS-SSIM: 0.9767404198646545\tLPIPS_AlexNet: 0.24850936233997345\n",
      "IMG0004\tPSNR: 29.620662907625047 dB\tMS-SSIM: 0.9668130278587341\tLPIPS_AlexNet: 0.15987847745418549\n",
      "IMG0005\tPSNR: 28.530108004160777 dB\tMS-SSIM: 0.9775304198265076\tLPIPS_AlexNet: 0.11529221385717392\n",
      "IMG0006\tPSNR: 29.084862502284356 dB\tMS-SSIM: 0.9792406558990479\tLPIPS_AlexNet: 0.13083823025226593\n",
      "IMG0007\tPSNR: 30.916600705659512 dB\tMS-SSIM: 0.9763729572296143\tLPIPS_AlexNet: 0.2517907917499542\n",
      "IMG0008\tPSNR: 27.682947617597023 dB\tMS-SSIM: 0.9629804491996765\tLPIPS_AlexNet: 0.2194092720746994\n",
      "IMG0009\tPSNR: 30.022015906877947 dB\tMS-SSIM: 0.9628293514251709\tLPIPS_AlexNet: 0.2448384314775467\n",
      "IMG0010\tPSNR: 30.767843865220506 dB\tMS-SSIM: 0.9637697339057922\tLPIPS_AlexNet: 0.2488272339105606\n",
      "IMG0011\tPSNR: 29.785246622814082 dB\tMS-SSIM: 0.9662156105041504\tLPIPS_AlexNet: 0.1862851232290268\n",
      "IMG0012\tPSNR: 28.245849444147243 dB\tMS-SSIM: 0.9816107153892517\tLPIPS_AlexNet: 0.1818767488002777\n",
      "IMG0013\tPSNR: 28.43597009409062 dB\tMS-SSIM: 0.9699826836585999\tLPIPS_AlexNet: 0.14095458388328552\n",
      "IMG0014\tPSNR: 28.800110784474597 dB\tMS-SSIM: 0.9740815758705139\tLPIPS_AlexNet: 0.1502254754304886\n",
      "IMG0015\tPSNR: 26.812126682211918 dB\tMS-SSIM: 0.9679258465766907\tLPIPS_AlexNet: 0.12182354182004929\n",
      "IMG0016\tPSNR: 30.488076750149506 dB\tMS-SSIM: 0.9775516390800476\tLPIPS_AlexNet: 0.2115042805671692\n",
      "IMG0017\tPSNR: 28.641509730813567 dB\tMS-SSIM: 0.9374728202819824\tLPIPS_AlexNet: 0.30250194668769836\n",
      "IMG0018\tPSNR: 27.241405871457864 dB\tMS-SSIM: 0.9472193121910095\tLPIPS_AlexNet: 0.23792535066604614\n",
      "IMG0019\tPSNR: 29.78009760623628 dB\tMS-SSIM: 0.9660449028015137\tLPIPS_AlexNet: 0.23810410499572754\n",
      "IMG0020\tPSNR: 26.51971339634576 dB\tMS-SSIM: 0.96711665391922\tLPIPS_AlexNet: 0.22900447249412537\n",
      "IMG0021\tPSNR: 29.824845818544738 dB\tMS-SSIM: 0.9640891551971436\tLPIPS_AlexNet: 0.23708407580852509\n",
      "IMG0022\tPSNR: 30.134589068518032 dB\tMS-SSIM: 0.9678112864494324\tLPIPS_AlexNet: 0.20123395323753357\n",
      "IMG0023\tPSNR: 29.10564725085144 dB\tMS-SSIM: 0.9737515449523926\tLPIPS_AlexNet: 0.15447276830673218\n",
      "IMG0024\tPSNR: 30.57120739091856 dB\tMS-SSIM: 0.9802624583244324\tLPIPS_AlexNet: 0.08340265601873398\n",
      "\n",
      "Average in 24 images\n",
      "PSNR: 29.15903527248791dB\tMS-SSIM: 0.9667830541729927\tLPIPS_AlexNet: 0.1898775634666284\n",
      "Evaluating VVC_5 with dataset: /home/filippo/DataspellProjects/ImageCompressionAI/IMAGES/VVC/30\n",
      "IMG0001\tPSNR: 30.188142360021082 dB\tMS-SSIM: 0.9783030152320862\tLPIPS_AlexNet: 0.101570725440979\n",
      "IMG0002\tPSNR: 28.0214648341108 dB\tMS-SSIM: 0.9210821986198425\tLPIPS_AlexNet: 0.1338099092245102\n",
      "IMG0003\tPSNR: 30.765575188240945 dB\tMS-SSIM: 0.9781803488731384\tLPIPS_AlexNet: 0.21588583290576935\n",
      "IMG0004\tPSNR: 29.663450020382722 dB\tMS-SSIM: 0.9685500264167786\tLPIPS_AlexNet: 0.14485204219818115\n",
      "IMG0005\tPSNR: 28.56941689636229 dB\tMS-SSIM: 0.9783747792243958\tLPIPS_AlexNet: 0.11024613678455353\n",
      "IMG0006\tPSNR: 29.130650971150164 dB\tMS-SSIM: 0.9804513454437256\tLPIPS_AlexNet: 0.12040665000677109\n",
      "IMG0007\tPSNR: 30.961704145125694 dB\tMS-SSIM: 0.9780361652374268\tLPIPS_AlexNet: 0.21016086637973785\n",
      "IMG0008\tPSNR: 27.795911324520123 dB\tMS-SSIM: 0.9660118222236633\tLPIPS_AlexNet: 0.17540130019187927\n",
      "IMG0009\tPSNR: 30.18200385549097 dB\tMS-SSIM: 0.9669345021247864\tLPIPS_AlexNet: 0.18900172412395477\n",
      "IMG0010\tPSNR: 30.93767724125818 dB\tMS-SSIM: 0.9676744937896729\tLPIPS_AlexNet: 0.18964475393295288\n",
      "IMG0011\tPSNR: 29.846282211157952 dB\tMS-SSIM: 0.9679176211357117\tLPIPS_AlexNet: 0.17242120206356049\n",
      "IMG0012\tPSNR: 28.254548422961477 dB\tMS-SSIM: 0.982706606388092\tLPIPS_AlexNet: 0.17093712091445923\n",
      "IMG0013\tPSNR: 28.56375350168023 dB\tMS-SSIM: 0.9720534682273865\tLPIPS_AlexNet: 0.12503507733345032\n",
      "IMG0014\tPSNR: 28.843388309555383 dB\tMS-SSIM: 0.975250244140625\tLPIPS_AlexNet: 0.14126059412956238\n",
      "IMG0015\tPSNR: 26.829127664836854 dB\tMS-SSIM: 0.9693201184272766\tLPIPS_AlexNet: 0.11229025572538376\n",
      "IMG0016\tPSNR: 30.54368537899116 dB\tMS-SSIM: 0.9791291356086731\tLPIPS_AlexNet: 0.18580769002437592\n",
      "IMG0017\tPSNR: 28.755427448947106 dB\tMS-SSIM: 0.9410303235054016\tLPIPS_AlexNet: 0.2534467577934265\n",
      "IMG0018\tPSNR: 27.37522854370504 dB\tMS-SSIM: 0.9518081545829773\tLPIPS_AlexNet: 0.19596073031425476\n",
      "IMG0019\tPSNR: 29.853435317081058 dB\tMS-SSIM: 0.9686680436134338\tLPIPS_AlexNet: 0.21046079695224762\n",
      "IMG0020\tPSNR: 26.554330927534014 dB\tMS-SSIM: 0.9691720008850098\tLPIPS_AlexNet: 0.19853374361991882\n",
      "IMG0021\tPSNR: 29.93574888174324 dB\tMS-SSIM: 0.9668676257133484\tLPIPS_AlexNet: 0.20124053955078125\n",
      "IMG0022\tPSNR: 30.218590323587296 dB\tMS-SSIM: 0.9704399108886719\tLPIPS_AlexNet: 0.17606088519096375\n",
      "IMG0023\tPSNR: 29.135024362428016 dB\tMS-SSIM: 0.9753769040107727\tLPIPS_AlexNet: 0.13405519723892212\n",
      "IMG0024\tPSNR: 30.617378407700553 dB\tMS-SSIM: 0.9812405705451965\tLPIPS_AlexNet: 0.07735086977481842\n",
      "\n",
      "Average in 24 images\n",
      "PSNR: 29.23091443910718dB\tMS-SSIM: 0.9689408093690872\tLPIPS_AlexNet: 0.1644100584089756\n"
     ]
    }
   ],
   "source": [
    "for name, path in datasets.items():\n",
    "    psnr_list=[]\n",
    "    mssim_list=[]\n",
    "    lpips_list=[]\n",
    "    count = 0\n",
    "    compressed_path = str(current_path)+path\n",
    "    log = open(str(compressed_path)+'/metrics.txt', 'w')\n",
    "    log.writelines(['Evaluating '+name+' with dataset: '+str(compressed_path) + ' on date:' + str(datetime.now()) + '\\n'])\n",
    "    print('Evaluating '+name+' with dataset: '+str(compressed_path))\n",
    "    for file in glob.glob(str(compressed_path)+'/*.png'):\n",
    "        reference_image = Image.open(reference_path+'/'+Path(file).stem+'.png')\n",
    "        reference = transforms.ToTensor()(reference_image).unsqueeze(0).to(device)\n",
    "        compressed_image = Image.open(file)\n",
    "        compressed = transforms.ToTensor()(compressed_image).unsqueeze(0).to(device)\n",
    "        psnr = metrics.peak_signal_noise_ratio(numpy.array(reference_image),numpy.array(compressed_image),data_range=255)\n",
    "        psnr_list.append(psnr)\n",
    "        reference_image.close()\n",
    "        compressed_image.close()\n",
    "        mssim = ms_ssim(reference, compressed, data_range=1, size_average=False)\n",
    "        mssim_list.append(mssim.item())\n",
    "        d = loss_fn_alex(transforms.Normalize(mean=(0.5, 0.5, 0.5), std=(0.5, 0.5, 0.5))(reference),transforms.Normalize(mean=(0.5, 0.5, 0.5), std=(0.5, 0.5, 0.5))(compressed))\n",
    "        lpips_list.append(d[0].item())\n",
    "        log_string = str(Path(file).stem) + '\\tPSNR: ' + str(psnr) + ' dB' + '\\tMS-SSIM: ' + str(mssim.item()) + '\\tLPIPS_AlexNet: ' + str(d[0].item()) + '\\n'\n",
    "        log.writelines([log_string])\n",
    "        print(log_string)\n",
    "        count += 1\n",
    "        \n",
    "    log.writelines(['\\n',str('Average in ' + str(count) + ' images\\nPSNR: ' + str(mean(psnr_list)) + 'dB\\tMS-SSIM: ' + str(mean(mssim_list)) + '\\tLPIPS_AlexNet: ' + str(mean(lpips_list)))])\n",
    "    print(str('Average in ' + str(count) + ' images\\nPSNR: ' + str(mean(psnr_list)) + 'dB\\tMS-SSIM: ' + str(mean(mssim_list)) + '\\tLPIPS_AlexNet: ' + str(mean(lpips_list))))\n",
    "    log.close()"
   ],
   "metadata": {
    "collapsed": false,
    "ExecuteTime": {
     "end_time": "2023-10-25T15:35:12.114749978Z",
     "start_time": "2023-10-25T15:30:08.855842668Z"
    }
   },
   "id": "e9a1ed8516e8314a"
  }
 ],
 "metadata": {
  "kernelspec": {
   "display_name": "Python 3",
   "language": "python",
   "name": "python3"
  },
  "language_info": {
   "codemirror_mode": {
    "name": "ipython",
    "version": 2
   },
   "file_extension": ".py",
   "mimetype": "text/x-python",
   "name": "python",
   "nbconvert_exporter": "python",
   "pygments_lexer": "ipython2",
   "version": "2.7.6"
  }
 },
 "nbformat": 4,
 "nbformat_minor": 5
}
