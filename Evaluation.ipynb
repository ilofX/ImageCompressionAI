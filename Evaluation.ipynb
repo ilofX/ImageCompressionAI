{
 "cells": [
  {
   "cell_type": "markdown",
   "source": [
    "# Jupyter notebook to compute metrics for performance comparison\n",
    "## importing packages and building dataset path"
   ],
   "metadata": {
    "collapsed": false
   },
   "id": "dd7b61497a51eb85"
  },
  {
   "cell_type": "code",
   "execution_count": 8,
   "outputs": [
    {
     "name": "stdout",
     "output_type": "stream",
     "text": [
      "/home/filippo/DataspellProjects/ImageCompressionAI\n",
      "Reference source:  /home/filippo/DataspellProjects/ImageCompressionAI/IMAGES/PNG_IMAGES\n"
     ]
    }
   ],
   "source": [
    "from pathlib import Path\n",
    "import lpips\n",
    "import glob\n",
    "import torch\n",
    "from torchmetrics.image import PeakSignalNoiseRatio\n",
    "from torchvision import transforms\n",
    "from pytorch_msssim import ms_ssim\n",
    "from PIL import Image\n",
    "\n",
    "device = 'cuda' if torch.cuda.is_available() else 'cpu'\n",
    "\n",
    "current_path = Path('.').resolve()\n",
    "print(str(current_path))\n",
    "\n",
    "reference_path = str(current_path)+'/IMAGES/PNG_IMAGES'\n",
    "print(\"Reference source: \",reference_path)"
   ],
   "metadata": {
    "collapsed": false,
    "ExecuteTime": {
     "end_time": "2023-10-23T19:31:10.794486635Z",
     "start_time": "2023-10-23T19:31:10.764179317Z"
    }
   },
   "id": "90e2a20ec9c178b5"
  },
  {
   "cell_type": "markdown",
   "source": [
    "## Preparing vector of folders to compare"
   ],
   "metadata": {
    "collapsed": false
   },
   "id": "6be3f8150a66a3ea"
  },
  {
   "cell_type": "code",
   "execution_count": 4,
   "outputs": [],
   "source": [
    "datasets = {\n",
    "    'JPEG':'/IMAGES/JPEG_IMAGES',\n",
    "    'JPEG2000':'/IMAGES/JPEG2000_IMAGES',\n",
    "    'BPG':'/IMAGES/BPG_IMAGES',\n",
    "    'VVC':'/IMAGES/VVC_IMAGES',\n",
    "    'mbt2018_1':'/IMAGES/NET/mbt2018_1',\n",
    "    'mbt2018_2':'/IMAGES/NET/mbt2018_2',\n",
    "    'mbt2018_3':'/IMAGES/NET/mbt2018_3',\n",
    "    'mbt2018_4':'/IMAGES/NET/mbt2018_4',\n",
    "    'mbt2018_5':'/IMAGES/NET/mbt2018_5',\n",
    "    'mbt2018_mean_1':'/IMAGES/NET/mbt2018_mean_1',\n",
    "    'mbt2018_mean_2':'/IMAGES/NET/mbt2018_mean_2',\n",
    "    'mbt2018_mean_3':'/IMAGES/NET/mbt2018_mean_3',\n",
    "    'mbt2018_mean_4':'/IMAGES/NET/mbt2018_mean_4',\n",
    "    'mbt2018_mean_5':'/IMAGES/NET/mbt2018_mean_5',\n",
    "    'cheng2020_attn_1':'/IMAGES/NET/cheng2020_attn_1',\n",
    "    'cheng2020_attn_2':'/IMAGES/NET/cheng2020_attn_2',\n",
    "    'cheng2020_attn_3':'/IMAGES/NET/cheng2020_attn_3',\n",
    "    'cheng2020_attn_4':'/IMAGES/NET/cheng2020_attn_4',\n",
    "    'cheng2020_attn_5':'/IMAGES/NET/cheng2020_attn_5',\n",
    "    'cheng2020-anchor_1':'/IMAGES/NET/cheng2020-anchor_1',\n",
    "    'cheng2020-anchor_2':'/IMAGES/NET/cheng2020-anchor_2',\n",
    "    'cheng2020-anchor_3':'/IMAGES/NET/cheng2020-anchor_3',\n",
    "    'cheng2020-anchor_4':'/IMAGES/NET/cheng2020-anchor_4',\n",
    "    'cheng2020-anchor_5':'/IMAGES/NET/cheng2020-anchor_5' \n",
    "}"
   ],
   "metadata": {
    "collapsed": false,
    "ExecuteTime": {
     "end_time": "2023-10-23T18:42:57.375661539Z",
     "start_time": "2023-10-23T18:42:57.334909910Z"
    }
   },
   "id": "6fa5a4148e4c1b16"
  },
  {
   "cell_type": "markdown",
   "source": [
    "## Computing metrics"
   ],
   "metadata": {
    "collapsed": false
   },
   "id": "13d1d114ef188813"
  },
  {
   "cell_type": "code",
   "execution_count": 13,
   "outputs": [
    {
     "name": "stdout",
     "output_type": "stream",
     "text": [
      "Evaluating JPEG with dataset: /home/filippo/DataspellProjects/ImageCompressionAI/IMAGES/JPEG_IMAGES\n",
      "0.9999307990074158\n",
      "0.9999542236328125\n"
     ]
    },
    {
     "ename": "KeyboardInterrupt",
     "evalue": "",
     "output_type": "error",
     "traceback": [
      "\u001B[0;31m---------------------------------------------------------------------------\u001B[0m",
      "\u001B[0;31mKeyboardInterrupt\u001B[0m                         Traceback (most recent call last)",
      "Cell \u001B[0;32mIn[13], line 16\u001B[0m\n\u001B[1;32m     14\u001B[0m compressed_image\u001B[38;5;241m.\u001B[39mclose()\n\u001B[1;32m     15\u001B[0m \u001B[38;5;66;03m#psnr = PeakSignalNoiseRatio(compressed, reference)\u001B[39;00m\n\u001B[0;32m---> 16\u001B[0m mssim \u001B[38;5;241m=\u001B[39m ms_ssim(compressed, reference, data_range\u001B[38;5;241m=\u001B[39m\u001B[38;5;241m255\u001B[39m)\u001B[38;5;241m.\u001B[39mitem()\n\u001B[1;32m     17\u001B[0m \u001B[38;5;66;03m#print(psnr)\u001B[39;00m\n\u001B[1;32m     18\u001B[0m \u001B[38;5;28mprint\u001B[39m(mssim)\n",
      "File \u001B[0;32m~/anaconda3/envs/imageCompressionAI/lib/python3.11/site-packages/pytorch_msssim/ssim.py:228\u001B[0m, in \u001B[0;36mms_ssim\u001B[0;34m(X, Y, data_range, size_average, win_size, win_sigma, win, weights, K)\u001B[0m\n\u001B[1;32m    226\u001B[0m mcs \u001B[38;5;241m=\u001B[39m []\n\u001B[1;32m    227\u001B[0m \u001B[38;5;28;01mfor\u001B[39;00m i \u001B[38;5;129;01min\u001B[39;00m \u001B[38;5;28mrange\u001B[39m(levels):\n\u001B[0;32m--> 228\u001B[0m     ssim_per_channel, cs \u001B[38;5;241m=\u001B[39m _ssim(X, Y, win\u001B[38;5;241m=\u001B[39mwin, data_range\u001B[38;5;241m=\u001B[39mdata_range, size_average\u001B[38;5;241m=\u001B[39m\u001B[38;5;28;01mFalse\u001B[39;00m, K\u001B[38;5;241m=\u001B[39mK)\n\u001B[1;32m    230\u001B[0m     \u001B[38;5;28;01mif\u001B[39;00m i \u001B[38;5;241m<\u001B[39m levels \u001B[38;5;241m-\u001B[39m \u001B[38;5;241m1\u001B[39m:\n\u001B[1;32m    231\u001B[0m         mcs\u001B[38;5;241m.\u001B[39mappend(torch\u001B[38;5;241m.\u001B[39mrelu(cs))\n",
      "File \u001B[0;32m~/anaconda3/envs/imageCompressionAI/lib/python3.11/site-packages/pytorch_msssim/ssim.py:87\u001B[0m, in \u001B[0;36m_ssim\u001B[0;34m(X, Y, data_range, win, size_average, K)\u001B[0m\n\u001B[1;32m     84\u001B[0m win \u001B[38;5;241m=\u001B[39m win\u001B[38;5;241m.\u001B[39mto(X\u001B[38;5;241m.\u001B[39mdevice, dtype\u001B[38;5;241m=\u001B[39mX\u001B[38;5;241m.\u001B[39mdtype)\n\u001B[1;32m     86\u001B[0m mu1 \u001B[38;5;241m=\u001B[39m gaussian_filter(X, win)\n\u001B[0;32m---> 87\u001B[0m mu2 \u001B[38;5;241m=\u001B[39m gaussian_filter(Y, win)\n\u001B[1;32m     89\u001B[0m mu1_sq \u001B[38;5;241m=\u001B[39m mu1\u001B[38;5;241m.\u001B[39mpow(\u001B[38;5;241m2\u001B[39m)\n\u001B[1;32m     90\u001B[0m mu2_sq \u001B[38;5;241m=\u001B[39m mu2\u001B[38;5;241m.\u001B[39mpow(\u001B[38;5;241m2\u001B[39m)\n",
      "File \u001B[0;32m~/anaconda3/envs/imageCompressionAI/lib/python3.11/site-packages/pytorch_msssim/ssim.py:48\u001B[0m, in \u001B[0;36mgaussian_filter\u001B[0;34m(input, win)\u001B[0m\n\u001B[1;32m     46\u001B[0m \u001B[38;5;28;01mfor\u001B[39;00m i, s \u001B[38;5;129;01min\u001B[39;00m \u001B[38;5;28menumerate\u001B[39m(\u001B[38;5;28minput\u001B[39m\u001B[38;5;241m.\u001B[39mshape[\u001B[38;5;241m2\u001B[39m:]):\n\u001B[1;32m     47\u001B[0m     \u001B[38;5;28;01mif\u001B[39;00m s \u001B[38;5;241m>\u001B[39m\u001B[38;5;241m=\u001B[39m win\u001B[38;5;241m.\u001B[39mshape[\u001B[38;5;241m-\u001B[39m\u001B[38;5;241m1\u001B[39m]:\n\u001B[0;32m---> 48\u001B[0m         out \u001B[38;5;241m=\u001B[39m conv(out, weight\u001B[38;5;241m=\u001B[39mwin\u001B[38;5;241m.\u001B[39mtranspose(\u001B[38;5;241m2\u001B[39m \u001B[38;5;241m+\u001B[39m i, \u001B[38;5;241m-\u001B[39m\u001B[38;5;241m1\u001B[39m), stride\u001B[38;5;241m=\u001B[39m\u001B[38;5;241m1\u001B[39m, padding\u001B[38;5;241m=\u001B[39m\u001B[38;5;241m0\u001B[39m, groups\u001B[38;5;241m=\u001B[39mC)\n\u001B[1;32m     49\u001B[0m     \u001B[38;5;28;01melse\u001B[39;00m:\n\u001B[1;32m     50\u001B[0m         warnings\u001B[38;5;241m.\u001B[39mwarn(\n\u001B[1;32m     51\u001B[0m             \u001B[38;5;124mf\u001B[39m\u001B[38;5;124m\"\u001B[39m\u001B[38;5;124mSkipping Gaussian Smoothing at dimension 2+\u001B[39m\u001B[38;5;132;01m{\u001B[39;00mi\u001B[38;5;132;01m}\u001B[39;00m\u001B[38;5;124m for input: \u001B[39m\u001B[38;5;132;01m{\u001B[39;00m\u001B[38;5;28minput\u001B[39m\u001B[38;5;241m.\u001B[39mshape\u001B[38;5;132;01m}\u001B[39;00m\u001B[38;5;124m and win size: \u001B[39m\u001B[38;5;132;01m{\u001B[39;00mwin\u001B[38;5;241m.\u001B[39mshape[\u001B[38;5;241m-\u001B[39m\u001B[38;5;241m1\u001B[39m]\u001B[38;5;132;01m}\u001B[39;00m\u001B[38;5;124m\"\u001B[39m\n\u001B[1;32m     52\u001B[0m         )\n",
      "\u001B[0;31mKeyboardInterrupt\u001B[0m: "
     ]
    }
   ],
   "source": [
    "for name, path in datasets.items():\n",
    "    psnr_list=[]\n",
    "    mssim_list=[]\n",
    "    lpips_list=[]\n",
    "    count = 0\n",
    "    compressed_path = str(current_path)+path\n",
    "    print('Evaluating '+name+' with dataset: '+str(compressed_path))\n",
    "    for file in glob.glob(str(compressed_path)+'/*.png'):\n",
    "        reference_image = Image.open(reference_path+'/'+Path(file).stem+'.png')\n",
    "        reference = transforms.ToTensor()(reference_image).unsqueeze(0).to(device)\n",
    "        reference_image.close()\n",
    "        compressed_image = Image.open(file)\n",
    "        compressed = transforms.ToTensor()(compressed_image).unsqueeze(0).to(device)\n",
    "        compressed_image.close()\n",
    "        #psnr = PeakSignalNoiseRatio(compressed, reference)\n",
    "        mssim = ms_ssim(compressed, reference, data_range=255).item()\n",
    "        #print(psnr)\n",
    "        print(mssim)\n",
    "    \n",
    "    "
   ],
   "metadata": {
    "collapsed": false,
    "ExecuteTime": {
     "end_time": "2023-10-23T19:36:00.823653529Z",
     "start_time": "2023-10-23T19:35:56.888198590Z"
    }
   },
   "id": "e9a1ed8516e8314a"
  }
 ],
 "metadata": {
  "kernelspec": {
   "display_name": "Python 3",
   "language": "python",
   "name": "python3"
  },
  "language_info": {
   "codemirror_mode": {
    "name": "ipython",
    "version": 2
   },
   "file_extension": ".py",
   "mimetype": "text/x-python",
   "name": "python",
   "nbconvert_exporter": "python",
   "pygments_lexer": "ipython2",
   "version": "2.7.6"
  }
 },
 "nbformat": 4,
 "nbformat_minor": 5
}
