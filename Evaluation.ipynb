{
 "cells": [
  {
   "cell_type": "markdown",
   "source": [
    "# Jupyter notebook to compute metrics for performance comparison\n",
    "## importing packages and building dataset path"
   ],
   "metadata": {
    "collapsed": false
   },
   "id": "dd7b61497a51eb85"
  },
  {
   "cell_type": "code",
   "execution_count": 23,
   "outputs": [
    {
     "name": "stdout",
     "output_type": "stream",
     "text": [
      "Setting up [LPIPS] perceptual loss: trunk [alex], v[0.1], spatial [off]\n",
      "Loading model from: C:\\Users\\filip\\.conda\\envs\\ImageCompressionAI\\Lib\\site-packages\\lpips\\weights\\v0.1\\alex.pth\n",
      "C:\\Users\\filip\\DataspellProjects\\ImageCompressionAI\n",
      "Reference source:  C:\\Users\\filip\\DataspellProjects\\ImageCompressionAI/IMAGES/PNG_IMAGES\n"
     ]
    }
   ],
   "source": [
    "from pathlib import Path\n",
    "import numpy\n",
    "import glob\n",
    "import torch\n",
    "from skimage import metrics\n",
    "from torchvision import transforms\n",
    "from pytorch_msssim import ms_ssim\n",
    "import cv2\n",
    "from datetime import datetime\n",
    "from numpy import mean\n",
    "import lpips\n",
    "\n",
    "device = 'cuda' if torch.cuda.is_available() else 'cpu'\n",
    "\n",
    "loss_fn_alex = lpips.LPIPS(net='alex')\n",
    "\n",
    "current_path = Path('.').resolve()\n",
    "print(str(current_path))\n",
    "\n",
    "reference_path = str(current_path)+'/IMAGES/PNG_IMAGES'\n",
    "print(\"Reference source: \",reference_path)"
   ],
   "metadata": {
    "collapsed": false,
    "ExecuteTime": {
     "end_time": "2023-10-27T11:59:22.860253900Z",
     "start_time": "2023-10-27T11:59:22.160020Z"
    }
   },
   "id": "90e2a20ec9c178b5"
  },
  {
   "cell_type": "markdown",
   "source": [
    "## Preparing vector of folders to compare"
   ],
   "metadata": {
    "collapsed": false
   },
   "id": "6be3f8150a66a3ea"
  },
  {
   "cell_type": "code",
   "execution_count": 18,
   "outputs": [],
   "source": [
    "datasets = {\n",
    "    'JPEG_1':'/IMAGES/JPEG/2',\n",
    "    'JPEG_2':'/IMAGES/JPEG/6',\n",
    "    'JPEG_3':'/IMAGES/JPEG/19',\n",
    "    'JPEG_4':'/IMAGES/JPEG/23',\n",
    "    'JPEG_5':'/IMAGES/JPEG/30',\n",
    "    'JPEG2000_1':'/IMAGES/JPEG2000/175',\n",
    "    'JPEG2000_2':'/IMAGES/JPEG2000/140',\n",
    "    'JPEG2000_3':'/IMAGES/JPEG2000/115',\n",
    "    'JPEG2000_4':'/IMAGES/JPEG2000/72',\n",
    "    'JPEG2000_5':'/IMAGES/JPEG2000/56',\n",
    "    'BPG_1':'/IMAGES/BPG/49',\n",
    "    'BPG_2':'/IMAGES/BPG/44',\n",
    "    'BPG_3':'/IMAGES/BPG/41',\n",
    "    'BPG_4':'/IMAGES/BPG/38',\n",
    "    'BPG_5':'/IMAGES/BPG/36',\n",
    "    'VVC_1':'/IMAGES/VVC/42',\n",
    "    'VVC_2':'/IMAGES/VVC/36',\n",
    "    'VVC_3':'/IMAGES/VVC/33',\n",
    "    'VVC_4':'/IMAGES/VVC/31',\n",
    "    'VVC_5':'/IMAGES/VVC/30',\n",
    "    'mbt2018_1':'/IMAGES/NET/mbt2018_1',\n",
    "    'mbt2018_2':'/IMAGES/NET/mbt2018_2',\n",
    "    'mbt2018_3':'/IMAGES/NET/mbt2018_3',\n",
    "    'mbt2018_4':'/IMAGES/NET/mbt2018_4',\n",
    "    'mbt2018_5':'/IMAGES/NET/mbt2018_5',\n",
    "    'mbt2018_mean_1':'/IMAGES/NET/mbt2018_mean_1',\n",
    "    'mbt2018_mean_2':'/IMAGES/NET/mbt2018_mean_2',\n",
    "    'mbt2018_mean_3':'/IMAGES/NET/mbt2018_mean_3',\n",
    "    'mbt2018_mean_4':'/IMAGES/NET/mbt2018_mean_4',\n",
    "    'mbt2018_mean_5':'/IMAGES/NET/mbt2018_mean_5',\n",
    "    'cheng2020_attn_1':'/IMAGES/NET/cheng2020_attn_1',\n",
    "    'cheng2020_attn_2':'/IMAGES/NET/cheng2020_attn_2',\n",
    "    'cheng2020_attn_3':'/IMAGES/NET/cheng2020_attn_3',\n",
    "    'cheng2020_attn_4':'/IMAGES/NET/cheng2020_attn_4',\n",
    "    'cheng2020_attn_5':'/IMAGES/NET/cheng2020_attn_5',\n",
    "    'cheng2020-anchor_1':'/IMAGES/NET/cheng2020-anchor_1',\n",
    "    'cheng2020-anchor_2':'/IMAGES/NET/cheng2020-anchor_2',\n",
    "    'cheng2020-anchor_3':'/IMAGES/NET/cheng2020-anchor_3',\n",
    "    'cheng2020-anchor_4':'/IMAGES/NET/cheng2020-anchor_4',\n",
    "    'cheng2020-anchor_5':'/IMAGES/NET/cheng2020-anchor_5' \n",
    "}"
   ],
   "metadata": {
    "collapsed": false,
    "ExecuteTime": {
     "end_time": "2023-10-27T11:38:18.554437100Z",
     "start_time": "2023-10-27T11:38:18.545923800Z"
    }
   },
   "id": "6fa5a4148e4c1b16"
  },
  {
   "cell_type": "markdown",
   "source": [
    "## Computing metrics"
   ],
   "metadata": {
    "collapsed": false
   },
   "id": "13d1d114ef188813"
  },
  {
   "cell_type": "code",
   "execution_count": 30,
   "outputs": [
    {
     "name": "stdout",
     "output_type": "stream",
     "text": [
      "Evaluating JPEG_1 with dataset: C:\\Users\\filip\\DataspellProjects\\ImageCompressionAI/IMAGES/JPEG/2\n",
      "IMG0001\tPSNR: 25.021677948752092 dB\tMS-SSIM: 0.7427448630332947\tLPIPS_AlexNet: 0.6124216318130493\n"
     ]
    },
    {
     "ename": "KeyboardInterrupt",
     "evalue": "",
     "output_type": "error",
     "traceback": [
      "\u001B[1;31m---------------------------------------------------------------------------\u001B[0m",
      "\u001B[1;31mKeyboardInterrupt\u001B[0m                         Traceback (most recent call last)",
      "Cell \u001B[1;32mIn[30], line 27\u001B[0m\n\u001B[0;32m     25\u001B[0m mssim \u001B[38;5;241m=\u001B[39m ms_ssim(reference, compressed, data_range\u001B[38;5;241m=\u001B[39m\u001B[38;5;241m1\u001B[39m, size_average\u001B[38;5;241m=\u001B[39m\u001B[38;5;28;01mTrue\u001B[39;00m)\n\u001B[0;32m     26\u001B[0m mssim_list\u001B[38;5;241m.\u001B[39mappend(mssim\u001B[38;5;241m.\u001B[39mitem())\n\u001B[1;32m---> 27\u001B[0m d \u001B[38;5;241m=\u001B[39m \u001B[43mloss_fn_alex\u001B[49m\u001B[43m(\u001B[49m\u001B[43mtransforms\u001B[49m\u001B[38;5;241;43m.\u001B[39;49m\u001B[43mNormalize\u001B[49m\u001B[43m(\u001B[49m\u001B[43mmean\u001B[49m\u001B[38;5;241;43m=\u001B[39;49m\u001B[43m(\u001B[49m\u001B[38;5;241;43m0.5\u001B[39;49m\u001B[43m,\u001B[49m\u001B[43m \u001B[49m\u001B[38;5;241;43m0.5\u001B[39;49m\u001B[43m,\u001B[49m\u001B[43m \u001B[49m\u001B[38;5;241;43m0.5\u001B[39;49m\u001B[43m)\u001B[49m\u001B[43m,\u001B[49m\u001B[43m \u001B[49m\u001B[43mstd\u001B[49m\u001B[38;5;241;43m=\u001B[39;49m\u001B[43m(\u001B[49m\u001B[38;5;241;43m0.5\u001B[39;49m\u001B[43m,\u001B[49m\u001B[43m \u001B[49m\u001B[38;5;241;43m0.5\u001B[39;49m\u001B[43m,\u001B[49m\u001B[43m \u001B[49m\u001B[38;5;241;43m0.5\u001B[39;49m\u001B[43m)\u001B[49m\u001B[43m)\u001B[49m\u001B[43m(\u001B[49m\u001B[43mreference\u001B[49m\u001B[43m)\u001B[49m\u001B[43m,\u001B[49m\u001B[43mtransforms\u001B[49m\u001B[38;5;241;43m.\u001B[39;49m\u001B[43mNormalize\u001B[49m\u001B[43m(\u001B[49m\u001B[43mmean\u001B[49m\u001B[38;5;241;43m=\u001B[39;49m\u001B[43m(\u001B[49m\u001B[38;5;241;43m0.5\u001B[39;49m\u001B[43m,\u001B[49m\u001B[43m \u001B[49m\u001B[38;5;241;43m0.5\u001B[39;49m\u001B[43m,\u001B[49m\u001B[43m \u001B[49m\u001B[38;5;241;43m0.5\u001B[39;49m\u001B[43m)\u001B[49m\u001B[43m,\u001B[49m\u001B[43m \u001B[49m\u001B[43mstd\u001B[49m\u001B[38;5;241;43m=\u001B[39;49m\u001B[43m(\u001B[49m\u001B[38;5;241;43m0.5\u001B[39;49m\u001B[43m,\u001B[49m\u001B[43m \u001B[49m\u001B[38;5;241;43m0.5\u001B[39;49m\u001B[43m,\u001B[49m\u001B[43m \u001B[49m\u001B[38;5;241;43m0.5\u001B[39;49m\u001B[43m)\u001B[49m\u001B[43m)\u001B[49m\u001B[43m(\u001B[49m\u001B[43mcompressed\u001B[49m\u001B[43m)\u001B[49m\u001B[43m)\u001B[49m\n\u001B[0;32m     28\u001B[0m lpips_list\u001B[38;5;241m.\u001B[39mappend(d[\u001B[38;5;241m0\u001B[39m]\u001B[38;5;241m.\u001B[39mitem())\n\u001B[0;32m     29\u001B[0m log_string \u001B[38;5;241m=\u001B[39m \u001B[38;5;28mstr\u001B[39m(Path(file)\u001B[38;5;241m.\u001B[39mstem) \u001B[38;5;241m+\u001B[39m \u001B[38;5;124m'\u001B[39m\u001B[38;5;130;01m\\t\u001B[39;00m\u001B[38;5;124mPSNR: \u001B[39m\u001B[38;5;124m'\u001B[39m \u001B[38;5;241m+\u001B[39m \u001B[38;5;28mstr\u001B[39m(psnr) \u001B[38;5;241m+\u001B[39m \u001B[38;5;124m'\u001B[39m\u001B[38;5;124m dB\u001B[39m\u001B[38;5;124m'\u001B[39m \u001B[38;5;241m+\u001B[39m \u001B[38;5;124m'\u001B[39m\u001B[38;5;130;01m\\t\u001B[39;00m\u001B[38;5;124mMS-SSIM: \u001B[39m\u001B[38;5;124m'\u001B[39m  \u001B[38;5;241m+\u001B[39m \u001B[38;5;28mstr\u001B[39m(mssim\u001B[38;5;241m.\u001B[39mitem()) \u001B[38;5;241m+\u001B[39m \u001B[38;5;124m'\u001B[39m\u001B[38;5;130;01m\\t\u001B[39;00m\u001B[38;5;124mLPIPS_AlexNet: \u001B[39m\u001B[38;5;124m'\u001B[39m \u001B[38;5;241m+\u001B[39m \u001B[38;5;28mstr\u001B[39m(d[\u001B[38;5;241m0\u001B[39m]\u001B[38;5;241m.\u001B[39mitem()) \u001B[38;5;241m+\u001B[39m \u001B[38;5;124m'\u001B[39m\u001B[38;5;130;01m\\n\u001B[39;00m\u001B[38;5;124m'\u001B[39m\n",
      "File \u001B[1;32m~\\.conda\\envs\\ImageCompressionAI\\Lib\\site-packages\\torch\\nn\\modules\\module.py:1501\u001B[0m, in \u001B[0;36mModule._call_impl\u001B[1;34m(self, *args, **kwargs)\u001B[0m\n\u001B[0;32m   1496\u001B[0m \u001B[38;5;66;03m# If we don't have any hooks, we want to skip the rest of the logic in\u001B[39;00m\n\u001B[0;32m   1497\u001B[0m \u001B[38;5;66;03m# this function, and just call forward.\u001B[39;00m\n\u001B[0;32m   1498\u001B[0m \u001B[38;5;28;01mif\u001B[39;00m \u001B[38;5;129;01mnot\u001B[39;00m (\u001B[38;5;28mself\u001B[39m\u001B[38;5;241m.\u001B[39m_backward_hooks \u001B[38;5;129;01mor\u001B[39;00m \u001B[38;5;28mself\u001B[39m\u001B[38;5;241m.\u001B[39m_backward_pre_hooks \u001B[38;5;129;01mor\u001B[39;00m \u001B[38;5;28mself\u001B[39m\u001B[38;5;241m.\u001B[39m_forward_hooks \u001B[38;5;129;01mor\u001B[39;00m \u001B[38;5;28mself\u001B[39m\u001B[38;5;241m.\u001B[39m_forward_pre_hooks\n\u001B[0;32m   1499\u001B[0m         \u001B[38;5;129;01mor\u001B[39;00m _global_backward_pre_hooks \u001B[38;5;129;01mor\u001B[39;00m _global_backward_hooks\n\u001B[0;32m   1500\u001B[0m         \u001B[38;5;129;01mor\u001B[39;00m _global_forward_hooks \u001B[38;5;129;01mor\u001B[39;00m _global_forward_pre_hooks):\n\u001B[1;32m-> 1501\u001B[0m     \u001B[38;5;28;01mreturn\u001B[39;00m \u001B[43mforward_call\u001B[49m\u001B[43m(\u001B[49m\u001B[38;5;241;43m*\u001B[39;49m\u001B[43margs\u001B[49m\u001B[43m,\u001B[49m\u001B[43m \u001B[49m\u001B[38;5;241;43m*\u001B[39;49m\u001B[38;5;241;43m*\u001B[39;49m\u001B[43mkwargs\u001B[49m\u001B[43m)\u001B[49m\n\u001B[0;32m   1502\u001B[0m \u001B[38;5;66;03m# Do not call functions when jit is used\u001B[39;00m\n\u001B[0;32m   1503\u001B[0m full_backward_hooks, non_full_backward_hooks \u001B[38;5;241m=\u001B[39m [], []\n",
      "File \u001B[1;32m~\\.conda\\envs\\ImageCompressionAI\\Lib\\site-packages\\lpips\\lpips.py:119\u001B[0m, in \u001B[0;36mLPIPS.forward\u001B[1;34m(self, in0, in1, retPerLayer, normalize)\u001B[0m\n\u001B[0;32m    117\u001B[0m \u001B[38;5;66;03m# v0.0 - original release had a bug, where input was not scaled\u001B[39;00m\n\u001B[0;32m    118\u001B[0m in0_input, in1_input \u001B[38;5;241m=\u001B[39m (\u001B[38;5;28mself\u001B[39m\u001B[38;5;241m.\u001B[39mscaling_layer(in0), \u001B[38;5;28mself\u001B[39m\u001B[38;5;241m.\u001B[39mscaling_layer(in1)) \u001B[38;5;28;01mif\u001B[39;00m \u001B[38;5;28mself\u001B[39m\u001B[38;5;241m.\u001B[39mversion\u001B[38;5;241m==\u001B[39m\u001B[38;5;124m'\u001B[39m\u001B[38;5;124m0.1\u001B[39m\u001B[38;5;124m'\u001B[39m \u001B[38;5;28;01melse\u001B[39;00m (in0, in1)\n\u001B[1;32m--> 119\u001B[0m outs0, outs1 \u001B[38;5;241m=\u001B[39m \u001B[38;5;28;43mself\u001B[39;49m\u001B[38;5;241;43m.\u001B[39;49m\u001B[43mnet\u001B[49m\u001B[38;5;241;43m.\u001B[39;49m\u001B[43mforward\u001B[49m\u001B[43m(\u001B[49m\u001B[43min0_input\u001B[49m\u001B[43m)\u001B[49m, \u001B[38;5;28mself\u001B[39m\u001B[38;5;241m.\u001B[39mnet\u001B[38;5;241m.\u001B[39mforward(in1_input)\n\u001B[0;32m    120\u001B[0m feats0, feats1, diffs \u001B[38;5;241m=\u001B[39m {}, {}, {}\n\u001B[0;32m    122\u001B[0m \u001B[38;5;28;01mfor\u001B[39;00m kk \u001B[38;5;129;01min\u001B[39;00m \u001B[38;5;28mrange\u001B[39m(\u001B[38;5;28mself\u001B[39m\u001B[38;5;241m.\u001B[39mL):\n",
      "File \u001B[1;32m~\\.conda\\envs\\ImageCompressionAI\\Lib\\site-packages\\lpips\\pretrained_networks.py:83\u001B[0m, in \u001B[0;36malexnet.forward\u001B[1;34m(self, X)\u001B[0m\n\u001B[0;32m     81\u001B[0m h \u001B[38;5;241m=\u001B[39m \u001B[38;5;28mself\u001B[39m\u001B[38;5;241m.\u001B[39mslice1(X)\n\u001B[0;32m     82\u001B[0m h_relu1 \u001B[38;5;241m=\u001B[39m h\n\u001B[1;32m---> 83\u001B[0m h \u001B[38;5;241m=\u001B[39m \u001B[38;5;28;43mself\u001B[39;49m\u001B[38;5;241;43m.\u001B[39;49m\u001B[43mslice2\u001B[49m\u001B[43m(\u001B[49m\u001B[43mh\u001B[49m\u001B[43m)\u001B[49m\n\u001B[0;32m     84\u001B[0m h_relu2 \u001B[38;5;241m=\u001B[39m h\n\u001B[0;32m     85\u001B[0m h \u001B[38;5;241m=\u001B[39m \u001B[38;5;28mself\u001B[39m\u001B[38;5;241m.\u001B[39mslice3(h)\n",
      "File \u001B[1;32m~\\.conda\\envs\\ImageCompressionAI\\Lib\\site-packages\\torch\\nn\\modules\\module.py:1501\u001B[0m, in \u001B[0;36mModule._call_impl\u001B[1;34m(self, *args, **kwargs)\u001B[0m\n\u001B[0;32m   1496\u001B[0m \u001B[38;5;66;03m# If we don't have any hooks, we want to skip the rest of the logic in\u001B[39;00m\n\u001B[0;32m   1497\u001B[0m \u001B[38;5;66;03m# this function, and just call forward.\u001B[39;00m\n\u001B[0;32m   1498\u001B[0m \u001B[38;5;28;01mif\u001B[39;00m \u001B[38;5;129;01mnot\u001B[39;00m (\u001B[38;5;28mself\u001B[39m\u001B[38;5;241m.\u001B[39m_backward_hooks \u001B[38;5;129;01mor\u001B[39;00m \u001B[38;5;28mself\u001B[39m\u001B[38;5;241m.\u001B[39m_backward_pre_hooks \u001B[38;5;129;01mor\u001B[39;00m \u001B[38;5;28mself\u001B[39m\u001B[38;5;241m.\u001B[39m_forward_hooks \u001B[38;5;129;01mor\u001B[39;00m \u001B[38;5;28mself\u001B[39m\u001B[38;5;241m.\u001B[39m_forward_pre_hooks\n\u001B[0;32m   1499\u001B[0m         \u001B[38;5;129;01mor\u001B[39;00m _global_backward_pre_hooks \u001B[38;5;129;01mor\u001B[39;00m _global_backward_hooks\n\u001B[0;32m   1500\u001B[0m         \u001B[38;5;129;01mor\u001B[39;00m _global_forward_hooks \u001B[38;5;129;01mor\u001B[39;00m _global_forward_pre_hooks):\n\u001B[1;32m-> 1501\u001B[0m     \u001B[38;5;28;01mreturn\u001B[39;00m \u001B[43mforward_call\u001B[49m\u001B[43m(\u001B[49m\u001B[38;5;241;43m*\u001B[39;49m\u001B[43margs\u001B[49m\u001B[43m,\u001B[49m\u001B[43m \u001B[49m\u001B[38;5;241;43m*\u001B[39;49m\u001B[38;5;241;43m*\u001B[39;49m\u001B[43mkwargs\u001B[49m\u001B[43m)\u001B[49m\n\u001B[0;32m   1502\u001B[0m \u001B[38;5;66;03m# Do not call functions when jit is used\u001B[39;00m\n\u001B[0;32m   1503\u001B[0m full_backward_hooks, non_full_backward_hooks \u001B[38;5;241m=\u001B[39m [], []\n",
      "File \u001B[1;32m~\\.conda\\envs\\ImageCompressionAI\\Lib\\site-packages\\torch\\nn\\modules\\container.py:217\u001B[0m, in \u001B[0;36mSequential.forward\u001B[1;34m(self, input)\u001B[0m\n\u001B[0;32m    215\u001B[0m \u001B[38;5;28;01mdef\u001B[39;00m \u001B[38;5;21mforward\u001B[39m(\u001B[38;5;28mself\u001B[39m, \u001B[38;5;28minput\u001B[39m):\n\u001B[0;32m    216\u001B[0m     \u001B[38;5;28;01mfor\u001B[39;00m module \u001B[38;5;129;01min\u001B[39;00m \u001B[38;5;28mself\u001B[39m:\n\u001B[1;32m--> 217\u001B[0m         \u001B[38;5;28minput\u001B[39m \u001B[38;5;241m=\u001B[39m \u001B[43mmodule\u001B[49m\u001B[43m(\u001B[49m\u001B[38;5;28;43minput\u001B[39;49m\u001B[43m)\u001B[49m\n\u001B[0;32m    218\u001B[0m     \u001B[38;5;28;01mreturn\u001B[39;00m \u001B[38;5;28minput\u001B[39m\n",
      "File \u001B[1;32m~\\.conda\\envs\\ImageCompressionAI\\Lib\\site-packages\\torch\\nn\\modules\\module.py:1501\u001B[0m, in \u001B[0;36mModule._call_impl\u001B[1;34m(self, *args, **kwargs)\u001B[0m\n\u001B[0;32m   1496\u001B[0m \u001B[38;5;66;03m# If we don't have any hooks, we want to skip the rest of the logic in\u001B[39;00m\n\u001B[0;32m   1497\u001B[0m \u001B[38;5;66;03m# this function, and just call forward.\u001B[39;00m\n\u001B[0;32m   1498\u001B[0m \u001B[38;5;28;01mif\u001B[39;00m \u001B[38;5;129;01mnot\u001B[39;00m (\u001B[38;5;28mself\u001B[39m\u001B[38;5;241m.\u001B[39m_backward_hooks \u001B[38;5;129;01mor\u001B[39;00m \u001B[38;5;28mself\u001B[39m\u001B[38;5;241m.\u001B[39m_backward_pre_hooks \u001B[38;5;129;01mor\u001B[39;00m \u001B[38;5;28mself\u001B[39m\u001B[38;5;241m.\u001B[39m_forward_hooks \u001B[38;5;129;01mor\u001B[39;00m \u001B[38;5;28mself\u001B[39m\u001B[38;5;241m.\u001B[39m_forward_pre_hooks\n\u001B[0;32m   1499\u001B[0m         \u001B[38;5;129;01mor\u001B[39;00m _global_backward_pre_hooks \u001B[38;5;129;01mor\u001B[39;00m _global_backward_hooks\n\u001B[0;32m   1500\u001B[0m         \u001B[38;5;129;01mor\u001B[39;00m _global_forward_hooks \u001B[38;5;129;01mor\u001B[39;00m _global_forward_pre_hooks):\n\u001B[1;32m-> 1501\u001B[0m     \u001B[38;5;28;01mreturn\u001B[39;00m \u001B[43mforward_call\u001B[49m\u001B[43m(\u001B[49m\u001B[38;5;241;43m*\u001B[39;49m\u001B[43margs\u001B[49m\u001B[43m,\u001B[49m\u001B[43m \u001B[49m\u001B[38;5;241;43m*\u001B[39;49m\u001B[38;5;241;43m*\u001B[39;49m\u001B[43mkwargs\u001B[49m\u001B[43m)\u001B[49m\n\u001B[0;32m   1502\u001B[0m \u001B[38;5;66;03m# Do not call functions when jit is used\u001B[39;00m\n\u001B[0;32m   1503\u001B[0m full_backward_hooks, non_full_backward_hooks \u001B[38;5;241m=\u001B[39m [], []\n",
      "File \u001B[1;32m~\\.conda\\envs\\ImageCompressionAI\\Lib\\site-packages\\torch\\nn\\modules\\conv.py:463\u001B[0m, in \u001B[0;36mConv2d.forward\u001B[1;34m(self, input)\u001B[0m\n\u001B[0;32m    462\u001B[0m \u001B[38;5;28;01mdef\u001B[39;00m \u001B[38;5;21mforward\u001B[39m(\u001B[38;5;28mself\u001B[39m, \u001B[38;5;28minput\u001B[39m: Tensor) \u001B[38;5;241m-\u001B[39m\u001B[38;5;241m>\u001B[39m Tensor:\n\u001B[1;32m--> 463\u001B[0m     \u001B[38;5;28;01mreturn\u001B[39;00m \u001B[38;5;28;43mself\u001B[39;49m\u001B[38;5;241;43m.\u001B[39;49m\u001B[43m_conv_forward\u001B[49m\u001B[43m(\u001B[49m\u001B[38;5;28;43minput\u001B[39;49m\u001B[43m,\u001B[49m\u001B[43m \u001B[49m\u001B[38;5;28;43mself\u001B[39;49m\u001B[38;5;241;43m.\u001B[39;49m\u001B[43mweight\u001B[49m\u001B[43m,\u001B[49m\u001B[43m \u001B[49m\u001B[38;5;28;43mself\u001B[39;49m\u001B[38;5;241;43m.\u001B[39;49m\u001B[43mbias\u001B[49m\u001B[43m)\u001B[49m\n",
      "File \u001B[1;32m~\\.conda\\envs\\ImageCompressionAI\\Lib\\site-packages\\torch\\nn\\modules\\conv.py:459\u001B[0m, in \u001B[0;36mConv2d._conv_forward\u001B[1;34m(self, input, weight, bias)\u001B[0m\n\u001B[0;32m    455\u001B[0m \u001B[38;5;28;01mif\u001B[39;00m \u001B[38;5;28mself\u001B[39m\u001B[38;5;241m.\u001B[39mpadding_mode \u001B[38;5;241m!=\u001B[39m \u001B[38;5;124m'\u001B[39m\u001B[38;5;124mzeros\u001B[39m\u001B[38;5;124m'\u001B[39m:\n\u001B[0;32m    456\u001B[0m     \u001B[38;5;28;01mreturn\u001B[39;00m F\u001B[38;5;241m.\u001B[39mconv2d(F\u001B[38;5;241m.\u001B[39mpad(\u001B[38;5;28minput\u001B[39m, \u001B[38;5;28mself\u001B[39m\u001B[38;5;241m.\u001B[39m_reversed_padding_repeated_twice, mode\u001B[38;5;241m=\u001B[39m\u001B[38;5;28mself\u001B[39m\u001B[38;5;241m.\u001B[39mpadding_mode),\n\u001B[0;32m    457\u001B[0m                     weight, bias, \u001B[38;5;28mself\u001B[39m\u001B[38;5;241m.\u001B[39mstride,\n\u001B[0;32m    458\u001B[0m                     _pair(\u001B[38;5;241m0\u001B[39m), \u001B[38;5;28mself\u001B[39m\u001B[38;5;241m.\u001B[39mdilation, \u001B[38;5;28mself\u001B[39m\u001B[38;5;241m.\u001B[39mgroups)\n\u001B[1;32m--> 459\u001B[0m \u001B[38;5;28;01mreturn\u001B[39;00m \u001B[43mF\u001B[49m\u001B[38;5;241;43m.\u001B[39;49m\u001B[43mconv2d\u001B[49m\u001B[43m(\u001B[49m\u001B[38;5;28;43minput\u001B[39;49m\u001B[43m,\u001B[49m\u001B[43m \u001B[49m\u001B[43mweight\u001B[49m\u001B[43m,\u001B[49m\u001B[43m \u001B[49m\u001B[43mbias\u001B[49m\u001B[43m,\u001B[49m\u001B[43m \u001B[49m\u001B[38;5;28;43mself\u001B[39;49m\u001B[38;5;241;43m.\u001B[39;49m\u001B[43mstride\u001B[49m\u001B[43m,\u001B[49m\n\u001B[0;32m    460\u001B[0m \u001B[43m                \u001B[49m\u001B[38;5;28;43mself\u001B[39;49m\u001B[38;5;241;43m.\u001B[39;49m\u001B[43mpadding\u001B[49m\u001B[43m,\u001B[49m\u001B[43m \u001B[49m\u001B[38;5;28;43mself\u001B[39;49m\u001B[38;5;241;43m.\u001B[39;49m\u001B[43mdilation\u001B[49m\u001B[43m,\u001B[49m\u001B[43m \u001B[49m\u001B[38;5;28;43mself\u001B[39;49m\u001B[38;5;241;43m.\u001B[39;49m\u001B[43mgroups\u001B[49m\u001B[43m)\u001B[49m\n",
      "\u001B[1;31mKeyboardInterrupt\u001B[0m: "
     ]
    }
   ],
   "source": [
    "for name, path in datasets.items():\n",
    "    psnr_list=[]\n",
    "    mssim_list=[]\n",
    "    lpips_list=[]\n",
    "    count = 0\n",
    "    compressed_path = str(current_path)+path\n",
    "    log = open(str(compressed_path)+'/metrics.txt', 'w')\n",
    "    log.writelines(['Evaluating '+name+' with dataset: '+str(compressed_path) + ' on date:' + str(datetime.now()) + '\\n'])\n",
    "    print('Evaluating '+name+' with dataset: '+str(compressed_path))\n",
    "    for file in glob.glob(str(compressed_path)+'/*.png'):\n",
    "        reference_image = cv2.imread(reference_path+'/'+Path(file).stem+'.png',cv2.IMREAD_COLOR)\n",
    "        reference = transforms.ToTensor()(reference_image).unsqueeze(0).to(device)\n",
    "        reference_image = cv2.cvtColor(reference_image, cv2.COLOR_RGB2YCrCb)\n",
    "        compressed_image = cv2.imread(file,cv2.IMREAD_COLOR)\n",
    "        compressed = transforms.ToTensor()(compressed_image).unsqueeze(0).to(device)\n",
    "        compressed_image = cv2.cvtColor(compressed_image, cv2.COLOR_RGB2YCrCb)\n",
    "        OY, OCr, OCb = cv2.split(reference_image)\n",
    "        Y, Cr, Cb = cv2.split(compressed_image)\n",
    "        YMSE = metrics.mean_squared_error(OY,Y)\n",
    "        CbMSE = metrics.mean_squared_error(OCb,Cb)\n",
    "        CrMSE = metrics.mean_squared_error(OCr,Cr)\n",
    "        MSE = (3/4)*YMSE + (1/8)*CbMSE + (1/8)*CrMSE\n",
    "        psnr = 10 * numpy.log10((255*255) / MSE)\n",
    "        psnr_list.append(psnr)\n",
    "        mssim = ms_ssim(reference, compressed, data_range=1, size_average=True)\n",
    "        mssim_list.append(mssim.item())\n",
    "        d = loss_fn_alex(transforms.Normalize(mean=(0.5, 0.5, 0.5), std=(0.5, 0.5, 0.5))(reference),transforms.Normalize(mean=(0.5, 0.5, 0.5), std=(0.5, 0.5, 0.5))(compressed))\n",
    "        lpips_list.append(d[0].item())\n",
    "        log_string = str(Path(file).stem) + '\\tPSNR: ' + str(psnr) + ' dB' + '\\tMS-SSIM: '  + str(mssim.item()) + '\\tLPIPS_AlexNet: ' + str(d[0].item()) + '\\n'\n",
    "        log.writelines([log_string])\n",
    "        print(log_string)\n",
    "        count += 1\n",
    "\n",
    "    log.writelines(['\\n',str('Average in ' + str(count) + ' images\\nPSNR: ' + str(mean(psnr_list)) + 'dB\\tMS-SSIM: ' + str(mean(mssim_list)) + '\\tLPIPS_AlexNet: ' + str(mean(lpips_list)))])\n",
    "    print(str('Average in ' + str(count) + ' images\\nPSNR: ' + str(mean(psnr_list)) + 'dB\\tMS-SSIM: ') + str(mean(mssim_list))  + '\\tLPIPS_AlexNet: ' + str(mean(lpips_list)))\n",
    "    log.close()"
   ],
   "metadata": {
    "collapsed": false,
    "ExecuteTime": {
     "end_time": "2023-10-27T12:16:10.409413700Z",
     "start_time": "2023-10-27T12:15:57.558222100Z"
    }
   },
   "id": "e9a1ed8516e8314a"
  }
 ],
 "metadata": {
  "kernelspec": {
   "display_name": "Python 3",
   "language": "python",
   "name": "python3"
  },
  "language_info": {
   "codemirror_mode": {
    "name": "ipython",
    "version": 2
   },
   "file_extension": ".py",
   "mimetype": "text/x-python",
   "name": "python",
   "nbconvert_exporter": "python",
   "pygments_lexer": "ipython2",
   "version": "2.7.6"
  }
 },
 "nbformat": 4,
 "nbformat_minor": 5
}
