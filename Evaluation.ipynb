{
 "cells": [
  {
   "cell_type": "markdown",
   "source": [
    "# Jupyter notebook to compute metrics for performance comparison\n",
    "## importing packages and building dataset path"
   ],
   "metadata": {
    "collapsed": false
   },
   "id": "dd7b61497a51eb85"
  },
  {
   "cell_type": "code",
   "execution_count": null,
   "outputs": [],
   "source": [
    "import os\n",
    "from pathlib import Path\n",
    "import numpy\n",
    "import glob\n",
    "import torch\n",
    "from skimage import metrics\n",
    "from torchvision import transforms\n",
    "from pytorch_msssim import ms_ssim\n",
    "import cv2\n",
    "from datetime import datetime\n",
    "from numpy import mean,var\n",
    "import lpips\n",
    "\n",
    "device = 'cuda' if torch.cuda.is_available() else 'cpu'\n",
    "\n",
    "loss_fn_alex = lpips.LPIPS(net='alex')\n",
    "\n",
    "current_path = Path('.').resolve()\n",
    "print(str(current_path))\n",
    "\n",
    "reference_path = str(current_path)+'/IMAGES/PNG_IMAGES'\n",
    "print(\"Reference source: \",reference_path)"
   ],
   "metadata": {
    "collapsed": false
   },
   "id": "90e2a20ec9c178b5"
  },
  {
   "cell_type": "markdown",
   "source": [
    "## Preparing vector of folders to compare"
   ],
   "metadata": {
    "collapsed": false
   },
   "id": "6be3f8150a66a3ea"
  },
  {
   "cell_type": "code",
   "execution_count": null,
   "outputs": [],
   "source": [
    "datasets = {\n",
    "    'JPEG_1':'/IMAGES/JPEG/2',\n",
    "    'JPEG_2':'/IMAGES/JPEG/6',\n",
    "    'JPEG_3':'/IMAGES/JPEG/19',\n",
    "    'JPEG_4':'/IMAGES/JPEG/23',\n",
    "    'JPEG_5':'/IMAGES/JPEG/30',\n",
    "    'JPEG2000_1':'/IMAGES/JPEG2000/175',\n",
    "    'JPEG2000_2':'/IMAGES/JPEG2000/140',\n",
    "    'JPEG2000_3':'/IMAGES/JPEG2000/115',\n",
    "    'JPEG2000_4':'/IMAGES/JPEG2000/72',\n",
    "    'JPEG2000_5':'/IMAGES/JPEG2000/56',\n",
    "    'BPG_1':'/IMAGES/BPG/49',\n",
    "    'BPG_2':'/IMAGES/BPG/44',\n",
    "    'BPG_3':'/IMAGES/BPG/41',\n",
    "    'BPG_4':'/IMAGES/BPG/38',\n",
    "    'BPG_5':'/IMAGES/BPG/36',\n",
    "    'VVC_1':'/IMAGES/VVC/42',\n",
    "    'VVC_2':'/IMAGES/VVC/36',\n",
    "    'VVC_3':'/IMAGES/VVC/33',\n",
    "    'VVC_4':'/IMAGES/VVC/31',\n",
    "    'VVC_5':'/IMAGES/VVC/30',\n",
    "    'mbt2018_1':'/IMAGES/NET/mbt2018_1',\n",
    "    'mbt2018_2':'/IMAGES/NET/mbt2018_2',\n",
    "    'mbt2018_3':'/IMAGES/NET/mbt2018_3',\n",
    "    'mbt2018_4':'/IMAGES/NET/mbt2018_4',\n",
    "    'mbt2018_5':'/IMAGES/NET/mbt2018_5',\n",
    "    'mbt2018_mean_1':'/IMAGES/NET/mbt2018_mean_1',\n",
    "    'mbt2018_mean_2':'/IMAGES/NET/mbt2018_mean_2',\n",
    "    'mbt2018_mean_3':'/IMAGES/NET/mbt2018_mean_3',\n",
    "    'mbt2018_mean_4':'/IMAGES/NET/mbt2018_mean_4',\n",
    "    'mbt2018_mean_5':'/IMAGES/NET/mbt2018_mean_5',\n",
    "    'cheng2020_attn_1':'/IMAGES/NET/cheng2020_attn_1',\n",
    "    'cheng2020_attn_2':'/IMAGES/NET/cheng2020_attn_2',\n",
    "    'cheng2020_attn_3':'/IMAGES/NET/cheng2020_attn_3',\n",
    "    'cheng2020_attn_4':'/IMAGES/NET/cheng2020_attn_4',\n",
    "    'cheng2020_attn_5':'/IMAGES/NET/cheng2020_attn_5',\n",
    "    'cheng2020-anchor_1':'/IMAGES/NET/cheng2020-anchor_1',\n",
    "    'cheng2020-anchor_2':'/IMAGES/NET/cheng2020-anchor_2',\n",
    "    'cheng2020-anchor_3':'/IMAGES/NET/cheng2020-anchor_3',\n",
    "    'cheng2020-anchor_4':'/IMAGES/NET/cheng2020-anchor_4',\n",
    "    'cheng2020-anchor_5':'/IMAGES/NET/cheng2020-anchor_5' \n",
    "}"
   ],
   "metadata": {
    "collapsed": false
   },
   "id": "6fa5a4148e4c1b16"
  },
  {
   "cell_type": "markdown",
   "source": [
    "## Computing metrics"
   ],
   "metadata": {
    "collapsed": false
   },
   "id": "13d1d114ef188813"
  },
  {
   "cell_type": "code",
   "execution_count": null,
   "outputs": [],
   "source": [
    "for name, path in datasets.items():\n",
    "    psnr_list=[]\n",
    "    mssim_list=[]\n",
    "    lpips_list=[]\n",
    "    count = 0\n",
    "    compressed_path = str(current_path)+path\n",
    "    log = open(str(compressed_path)+'/metrics.txt', 'w')\n",
    "    log.writelines(['Evaluating '+name+' with dataset: '+str(compressed_path) + ' on date:' + str(datetime.now()) + '\\n'])\n",
    "    print('Evaluating '+name+' with dataset: '+str(compressed_path))\n",
    "    if 'VVC' in name:\n",
    "        enc_psnr = open(str(compressed_path)+'/psnr_yuv.txt','r')\n",
    "    \n",
    "    for file in glob.glob(str(compressed_path)+'/*.png'):\n",
    "        reference_image = cv2.imread(reference_path+'/'+Path(file).stem+'.png',cv2.IMREAD_COLOR)\n",
    "        reference = transforms.ToTensor()(reference_image).unsqueeze(0).to(device)\n",
    "        reference_image = cv2.cvtColor(reference_image, cv2.COLOR_RGB2YUV)\n",
    "        compressed_image = cv2.imread(file,cv2.IMREAD_COLOR)\n",
    "        compressed = transforms.ToTensor()(compressed_image).unsqueeze(0).to(device)\n",
    "        compressed_image = cv2.cvtColor(compressed_image, cv2.COLOR_RGB2YUV)\n",
    "        if 'VVC' in name:\n",
    "            psnr_list.append(enc_psnr.readline())\n",
    "        else:\n",
    "            OY, OU, OV = cv2.split(reference_image)\n",
    "            Y, U, V = cv2.split(compressed_image)\n",
    "            YMSE = metrics.mean_squared_error(OY,Y)\n",
    "            UMSE = metrics.mean_squared_error(OU,U)\n",
    "            VMSE = metrics.mean_squared_error(OV,V)\n",
    "            MSE = (3/4)*YMSE + (1/8)*UMSE + (1/8)*VMSE\n",
    "            psnr = 10 * numpy.log10((255*255) / MSE)\n",
    "            psnr_list.append(psnr)\n",
    "        mssim = ms_ssim(reference, compressed, data_range=1, size_average=True)\n",
    "        mssim_list.append(mssim.item())\n",
    "        d = loss_fn_alex(transforms.Normalize(mean=(0.5, 0.5, 0.5), std=(0.5, 0.5, 0.5))(reference),transforms.Normalize(mean=(0.5, 0.5, 0.5), std=(0.5, 0.5, 0.5))(compressed))\n",
    "        lpips_list.append(d[0].item())\n",
    "        log_string = str(Path(file).stem) + '\\tPSNR: ' + str(psnr) + ' dB' + '\\tMS-SSIM: '  + str(mssim.item()) + '\\tLPIPS_AlexNet: ' + str(d[0].item()) + '\\n'\n",
    "        log.writelines([log_string])\n",
    "        print(log_string)\n",
    "        count += 1\n",
    "\n",
    "    if 'VVC' in name:   \n",
    "        os.remove(str(compressed_path)+'/psnr_yuv.txt')\n",
    "        \n",
    "    log.writelines(['\\n',str('Average in ' + str(count) + ' images\\nPSNR: (' + str(mean(psnr_list)) + ' ± ' + str(var(psnr_list)) + ')dB\\nMS-SSIM: (' + str(mean(mssim_list)) + ' ± ' + str(var(mssim_list)) + ')\\nLPIPS_AlexNet: (' + str(mean(lpips_list)) + ' ± ' + str(var(lpips_list))+')')])\n",
    "    print(str('Average in ' + str(count) + ' images\\nPSNR: (' + str(mean(psnr_list)) + ' ± ' + str(var(psnr_list)) +  ')dB\\nMS-SSIM: (') + str(mean(mssim_list)) + ' ± ' + str(var(mssim_list)) + ')\\nLPIPS_AlexNet: (' + str(mean(lpips_list))  + ' ± ' + str(var(lpips_list))+')')\n",
    "    log.close()"
   ],
   "metadata": {
    "collapsed": false
   },
   "id": "e9a1ed8516e8314a"
  }
 ],
 "metadata": {
  "kernelspec": {
   "display_name": "Python 3",
   "language": "python",
   "name": "python3"
  },
  "language_info": {
   "codemirror_mode": {
    "name": "ipython",
    "version": 2
   },
   "file_extension": ".py",
   "mimetype": "text/x-python",
   "name": "python",
   "nbconvert_exporter": "python",
   "pygments_lexer": "ipython2",
   "version": "2.7.6"
  }
 },
 "nbformat": 4,
 "nbformat_minor": 5
}
