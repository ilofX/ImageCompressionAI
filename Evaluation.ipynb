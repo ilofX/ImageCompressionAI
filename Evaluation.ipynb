{
 "cells": [
  {
   "cell_type": "markdown",
   "source": [
    "# Jupyter notebook to compute metrics for performance comparison\n",
    "## importing packages and building dataset path"
   ],
   "metadata": {
    "collapsed": false
   },
   "id": "dd7b61497a51eb85"
  },
  {
   "cell_type": "code",
   "execution_count": 3,
   "outputs": [
    {
     "name": "stdout",
     "output_type": "stream",
     "text": [
      "/home/filippo/DataspellProjects/ImageCompressionAI\n",
      "Source:  /home/filippo/DataspellProjects/ImageCompressionAI/IMAGES/PNG_IMAGES\n"
     ]
    }
   ],
   "source": [
    "from pathlib import Path\n",
    "import lpips\n",
    "import skimage.metrics as metrics\n",
    "\n",
    "current_path = Path('.').resolve()\n",
    "print(str(current_path))\n",
    "\n",
    "png_path = str(current_path)+'/IMAGES/PNG_IMAGES'\n",
    "print(\"Source: \",png_path)"
   ],
   "metadata": {
    "collapsed": false,
    "ExecuteTime": {
     "end_time": "2023-10-23T14:46:07.699888079Z",
     "start_time": "2023-10-23T14:46:07.696764727Z"
    }
   },
   "id": "90e2a20ec9c178b5"
  }
 ],
 "metadata": {
  "kernelspec": {
   "display_name": "Python 3",
   "language": "python",
   "name": "python3"
  },
  "language_info": {
   "codemirror_mode": {
    "name": "ipython",
    "version": 2
   },
   "file_extension": ".py",
   "mimetype": "text/x-python",
   "name": "python",
   "nbconvert_exporter": "python",
   "pygments_lexer": "ipython2",
   "version": "2.7.6"
  }
 },
 "nbformat": 4,
 "nbformat_minor": 5
}
