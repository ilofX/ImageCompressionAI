{
 "cells": [
  {
   "cell_type": "markdown",
   "source": [
    "Script to convert BMP kodak dataset images to PNG image for later comparison"
   ],
   "metadata": {
    "collapsed": false
   },
   "id": "57a655130c591dac"
  },
  {
   "cell_type": "code",
   "execution_count": 2,
   "outputs": [
    {
     "name": "stdout",
     "output_type": "stream",
     "text": [
      "C:\\Users\\filip\\DataspellProjects\\ImageCompressionAI\n"
     ]
    }
   ],
   "source": [
    "import os\n",
    "\n",
    "from PIL import Image\n",
    "from pathlib import Path\n",
    "import glob\n",
    "\n",
    "current_path = Path('.').resolve()\n",
    "print(str(current_path))"
   ],
   "metadata": {
    "collapsed": false,
    "ExecuteTime": {
     "end_time": "2023-10-19T14:01:45.769314900Z",
     "start_time": "2023-10-19T14:01:45.728003700Z"
    }
   },
   "id": "90c2dba4e60c5977"
  },
  {
   "cell_type": "code",
   "execution_count": 3,
   "outputs": [
    {
     "name": "stdout",
     "output_type": "stream",
     "text": [
      "Source:  C:\\Users\\filip\\DataspellProjects\\ImageCompressionAI\\IMAGES\\BMP_IMAGES\n",
      "Destination:  C:\\Users\\filip\\DataspellProjects\\ImageCompressionAI\\IMAGES\\PNG_IMAGES\n",
      "Destination directory has been emptied\n"
     ]
    }
   ],
   "source": [
    "source_path = str(current_path)+'\\IMAGES\\BMP_IMAGES'\n",
    "print(\"Source: \",source_path)\n",
    "destination_path = str(current_path)+'\\IMAGES\\PNG_IMAGES'\n",
    "print(\"Destination: \",destination_path)\n",
    "if(os.path.isdir(destination_path) & os.path.exists(destination_path)):\n",
    "    try:\n",
    "        files = os.listdir(destination_path)\n",
    "        for file in files:\n",
    "            file_path = os.path.join(destination_path, file)\n",
    "            if os.path.isfile(file_path):\n",
    "                os.remove(file_path)\n",
    "        print(\"Destination directory has been emptied\")\n",
    "    except OSError:\n",
    "        print(\"Error occurred while deleting files in the destination directory\")\n",
    "else:\n",
    "    os.mkdir(destination_path)\n"
   ],
   "metadata": {
    "collapsed": false,
    "ExecuteTime": {
     "end_time": "2023-10-19T14:01:48.562615400Z",
     "start_time": "2023-10-19T14:01:48.505864600Z"
    }
   },
   "id": "7629479e7d30d56a"
  },
  {
   "cell_type": "code",
   "execution_count": 4,
   "outputs": [
    {
     "name": "stdout",
     "output_type": "stream",
     "text": [
      "IMG0001\n",
      "IMG0002\n",
      "IMG0003\n",
      "IMG0004\n",
      "IMG0005\n",
      "IMG0006\n",
      "IMG0007\n",
      "IMG0008\n",
      "IMG0009\n",
      "IMG0010\n",
      "IMG0011\n",
      "IMG0012\n",
      "IMG0013\n",
      "IMG0014\n",
      "IMG0015\n",
      "IMG0016\n",
      "IMG0017\n",
      "IMG0018\n",
      "IMG0019\n",
      "IMG0020\n",
      "IMG0021\n",
      "IMG0022\n",
      "IMG0023\n",
      "IMG0024\n"
     ]
    }
   ],
   "source": [
    "for file in glob.glob(str(source_path)+'\\*.bmp'):\n",
    "    image = Image.open(file)\n",
    "    image = image.convert('RGB')\n",
    "    print(Path(file).stem)\n",
    "    image.save(str(destination_path)+'\\\\'+Path(file).stem+'.png','png')\n",
    "    image.close()"
   ],
   "metadata": {
    "collapsed": false,
    "ExecuteTime": {
     "end_time": "2023-10-19T14:04:52.120421Z",
     "start_time": "2023-10-19T14:01:51.676420600Z"
    }
   },
   "id": "91eda2f1def0fcbd"
  }
 ],
 "metadata": {
  "kernelspec": {
   "display_name": "Python 3",
   "language": "python",
   "name": "python3"
  },
  "language_info": {
   "codemirror_mode": {
    "name": "ipython",
    "version": 2
   },
   "file_extension": ".py",
   "mimetype": "text/x-python",
   "name": "python",
   "nbconvert_exporter": "python",
   "pygments_lexer": "ipython2",
   "version": "2.7.6"
  }
 },
 "nbformat": 4,
 "nbformat_minor": 5
}
